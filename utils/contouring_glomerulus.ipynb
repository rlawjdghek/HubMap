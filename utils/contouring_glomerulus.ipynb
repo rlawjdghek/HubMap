{
 "cells": [
  {
   "cell_type": "code",
   "execution_count": 1,
   "id": "spanish-anniversary",
   "metadata": {},
   "outputs": [],
   "source": [
    "import cv2\n",
    "import json\n",
    "import matplotlib.pyplot as plt\n",
    "import numpy as np\n",
    "import os\n",
    "from glob import glob\n",
    "import tifffile as tiff\n",
    "from PIL import Image\n",
    "import pandas as pd\n",
    "Image.MAX_IMAGE_PIXELS = None\n",
    "from matplotlib import style\n",
    "style.use(\"dark_background\")"
   ]
  },
  {
   "cell_type": "code",
   "execution_count": 2,
   "id": "constitutional-marketing",
   "metadata": {},
   "outputs": [],
   "source": [
    "DATA_DIR = \"/home/jeonghokim/competition/HubMap/data\"\n",
    "TRAIN_DIR = os.path.join(DATA_DIR, \"train\")\n",
    "TEST_DIR = os.path.join(DATA_DIR, \"test\")\n",
    "TO_DIR = os.path.join(DATA_DIR, \"masked_images\")\n",
    "if not os.path.isdir(TO_DIR):\n",
    "    os.makedirs(TO_DIR)\n",
    "    print(\"make directory : {}\".format(TO_DIR))"
   ]
  },
  {
   "cell_type": "code",
   "execution_count": 3,
   "id": "appropriate-color",
   "metadata": {},
   "outputs": [],
   "source": [
    "train_img_paths = glob(os.path.join(TRAIN_DIR, \"*.tiff\"))\n",
    "train_mask_paths = glob(os.path.join(TRAIN_DIR, \"*.mask.png\"))\n",
    "train_json_paths = glob(os.path.join(TRAIN_DIR, \"*.json\"))"
   ]
  },
  {
   "cell_type": "code",
   "execution_count": 4,
   "id": "amended-binary",
   "metadata": {},
   "outputs": [],
   "source": [
    "def read_tiff(path):\n",
    "    img = tiff.imread(path)\n",
    "    if img.shape[0] == 1: # shape : [1,1,3,H,W]\n",
    "        img = img[0][0]\n",
    "        img = img.transpose(1,2,0)\n",
    "        img = np.ascontiguousarray(img)\n",
    "        \n",
    "    elif img.shape[0] == 3:  # shape : [3, H, W]\n",
    "        img = img.transpose(1,2,0)\n",
    "        img = np.ascontiguousarray(img)\n",
    "        \n",
    "    return img\n"
   ]
  },
  {
   "cell_type": "code",
   "execution_count": null,
   "id": "golden-academy",
   "metadata": {},
   "outputs": [],
   "source": [
    "for img_path in"
   ]
  },
  {
   "cell_type": "code",
   "execution_count": 5,
   "id": "sustainable-episode",
   "metadata": {},
   "outputs": [
    {
     "name": "stdout",
     "output_type": "stream",
     "text": [
      "/home/jeonghokim/competition/HubMap/data/masked_images/0486052bb.tiff succesfully saved!!!!\n",
      "/home/jeonghokim/competition/HubMap/data/masked_images/095bf7a1f.tiff succesfully saved!!!!\n",
      "/home/jeonghokim/competition/HubMap/data/masked_images/1e2425f28.tiff succesfully saved!!!!\n",
      "/home/jeonghokim/competition/HubMap/data/masked_images/26dc41664.tiff succesfully saved!!!!\n",
      "/home/jeonghokim/competition/HubMap/data/masked_images/2f6ecfcdf.tiff succesfully saved!!!!\n",
      "/home/jeonghokim/competition/HubMap/data/masked_images/4ef6695ce.tiff succesfully saved!!!!\n",
      "/home/jeonghokim/competition/HubMap/data/masked_images/54f2eec69.tiff succesfully saved!!!!\n",
      "/home/jeonghokim/competition/HubMap/data/masked_images/8242609fa.tiff succesfully saved!!!!\n",
      "/home/jeonghokim/competition/HubMap/data/masked_images/aaa6a05cc.tiff succesfully saved!!!!\n",
      "/home/jeonghokim/competition/HubMap/data/masked_images/afa5e8098.tiff succesfully saved!!!!\n",
      "/home/jeonghokim/competition/HubMap/data/masked_images/b2dc8411c.tiff succesfully saved!!!!\n",
      "/home/jeonghokim/competition/HubMap/data/masked_images/b9a3865fc.tiff succesfully saved!!!!\n",
      "/home/jeonghokim/competition/HubMap/data/masked_images/c68fe75ea.tiff succesfully saved!!!!\n",
      "/home/jeonghokim/competition/HubMap/data/masked_images/cb2d976f4.tiff succesfully saved!!!!\n",
      "/home/jeonghokim/competition/HubMap/data/masked_images/e79de561c.tiff succesfully saved!!!!\n"
     ]
    }
   ],
   "source": [
    "for img_path, mask_path in zip(sorted(train_img_paths), sorted(train_mask_paths)):\n",
    "    img_name = img_path.split(\"/\")[-1]\n",
    "    save_path = os.path.join(TO_DIR, img_name)\n",
    "    img = read_tiff(img_path)\n",
    "    mask = (np.array(Image.open(mask_path))/ 255).astype(np.uint8) * 10\n",
    "    H, W = img.shape[:2]\n",
    "    resized_img = cv2.resize(img, (W//2, H//2))\n",
    "    resized_mask = cv2.resize(mask, (W//2, H//2))\n",
    "    edged = cv2.Canny(resized_mask, 5, 1)\n",
    "    contours, _ = cv2.findContours(edged.copy(), cv2.RETR_EXTERNAL, cv2.CHAIN_APPROX_SIMPLE)\n",
    "    contours_img = cv2.drawContours(resized_img, contours, -1, (0, 255, 0), 1)\n",
    "    tiff.imsave(save_path, contours_img)\n",
    "    print(\"{} succesfully saved!!!!\".format(save_path))\n",
    "    "
   ]
  },
  {
   "cell_type": "code",
   "execution_count": null,
   "id": "smaller-university",
   "metadata": {},
   "outputs": [],
   "source": []
  },
  {
   "cell_type": "code",
   "execution_count": null,
   "id": "metric-atlas",
   "metadata": {},
   "outputs": [],
   "source": []
  }
 ],
 "metadata": {
  "kernelspec": {
   "display_name": "hubmap",
   "language": "python",
   "name": "hubmap"
  },
  "language_info": {
   "codemirror_mode": {
    "name": "ipython",
    "version": 3
   },
   "file_extension": ".py",
   "mimetype": "text/x-python",
   "name": "python",
   "nbconvert_exporter": "python",
   "pygments_lexer": "ipython3",
   "version": "3.8.3"
  }
 },
 "nbformat": 4,
 "nbformat_minor": 5
}
