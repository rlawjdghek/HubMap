{
 "cells": [
  {
   "cell_type": "code",
   "execution_count": 5,
   "id": "congressional-business",
   "metadata": {
    "code_folding": [
     0
    ]
   },
   "outputs": [],
   "source": [
    "# ------------Library--------------#\n",
    "import torch\n",
    "import torch.nn as nn\n",
    "import torch.nn.functional as F\n",
    "\n",
    "from torch.utils.data.dataset import Dataset\n",
    "from torch.utils.data import DataLoader, RandomSampler, SequentialSampler\n",
    "from torch.utils.data.sampler import *\n",
    "\n",
    "import torch.optim as optim\n",
    "from torch.optim.optimizer import Optimizer, required\n",
    "from torch.optim.lr_scheduler import MultiStepLR, CosineAnnealingWarmRestarts, CosineAnnealingLR\n",
    "from torch.nn.parallel.data_parallel import data_parallel\n",
    "from torch.nn.utils.rnn import *\n",
    "from torch.cuda.amp import autocast, GradScaler\n",
    "\n",
    "import segmentation_models_pytorch as smp\n",
    "\n",
    "from PIL import Image\n",
    "Image.MAX_IMAGE_PIXELS = None\n",
    "\n",
    "import tifffile as tiff\n",
    "import json\n",
    "\n",
    "\n",
    "\n",
    "#\n",
    "import pandas as pd\n",
    "import cv2\n",
    "import os\n",
    "import random\n",
    "import numpy as np\n",
    "import math\n",
    "import sys\n",
    "from collections import defaultdict\n",
    "import itertools as it\n",
    "from timeit import default_timer as timer\n",
    "from glob import glob\n",
    "from tqdm import tqdm\n",
    "#\n",
    "from sklearn.model_selection import KFold\n",
    "#from lib.net.lookahead import *\n",
    "#from lib.net.radam import *\n",
    "# constant #\n",
    "PI  = np.pi\n",
    "INF = np.inf\n",
    "EPS = 1e-12\n",
    "\n"
   ]
  },
  {
   "cell_type": "code",
   "execution_count": 6,
   "id": "current-saudi",
   "metadata": {
    "code_folding": []
   },
   "outputs": [],
   "source": [
    "class args:\n",
    "    # ---- factor ---- #\n",
    "    amp = True  # mixed precision 나중에는 false\n",
    "    gpu = \"0\"\n",
    "    dir = \"100epoch_nooverlap_640_25_50\"  # 로그 저장 폴더\n",
    "    encoder='b4'#'resnet34'\n",
    "    decoder='unet'\n",
    "    batch_size= 16  #잘 안건드림 128이상은 별로 \n",
    "    weight_decay=1e-6  \n",
    "    n_fold=5\n",
    "    fold=0 # [0, 1, 2, 3, 4] \n",
    "    all_fold_train = True # all fold training 총5번 돔 \n",
    "    tile_size = 640  # 이것도 480으로 해보기 \n",
    "    tile_average_step = 320\n",
    "    tile_scale = 0.25\n",
    "    tile_min_score = 0.25  \n",
    "    \n",
    "    # ---- Dataset ---- #\n",
    "    image_size=512\n",
    "    dataset = '0.25_640_320_train' # dataset size\n",
    "    overlap = False\n",
    "\n",
    "    # ---- optimizer, scheduler .. ---- #\n",
    "    epochs=100   # 바꿔보기\n",
    "    opt =  'radam_look' # [adamw, radam_look]\n",
    "    scheduler='CosineAnnealingLR' #'MultiStepLR' # ['ReduceLROnPlateau', 'CosineAnnealingLR', 'CosineAnnealingWarmRestarts']\n",
    "    loss = 'bce' # lovasz\n",
    "    factor=0.2 # ReduceLROnPlateau, MultiStepLR\n",
    "    patience=2 # ReduceLROnPlateau\n",
    "    eps=1e-6 # ReduceLROnPlateau\n",
    "    T_max=10 # CosineAnnealingLR\n",
    "    decay_epoch = [4, 8, 12]\n",
    "    T_0=4 # CosineAnnealingWarmRestarts\n",
    "    #encoder_lr=4e-4\n",
    "    #decoder_lr=4e-4\n",
    "    start_lr = 1e-3\n",
    "    min_lr=1e-6\n",
    "    en_model_path = ['../data/result/(0.924)100epoch_nooverlap_640_25_50_fold0_b4_512/checkpoint/' + x for x in \\\n",
    "                     \n",
    "                     ['1fold_51epoch_0.9405_model.pth','2fold_61epoch_0.9437_model.pth','3fold_56epoch_0.9469_model.pth',\n",
    "                     '4fold_36epoch_0.9297_model.pth','5fold_34epoch_0.9342_model.pth' ]]# if ensemble 직접 입력해야한다. \n",
    "    # ---- Else ---- #\n",
    "    num_workers=8\n",
    "    seed=42\n",
    "    \n",
    "data_dir = \"/home/jeonghokim/competition/HubMap/data/\"\n",
    "os.environ[\"CUDA_VISIBLE_DEVICES\"] = args.gpu\n",
    "device = torch.device(f\"cuda\" if torch.cuda.is_available() else \"cpu\")\n",
    "##----------------\n"
   ]
  },
  {
   "cell_type": "code",
   "execution_count": 7,
   "id": "piano-omega",
   "metadata": {
    "code_folding": [
     0
    ]
   },
   "outputs": [],
   "source": [
    "#-------evaluation metric---------#\n",
    "###################################\n",
    "def np_binary_cross_entropy_loss(probability, mask):\n",
    "    p = probability.reshape(-1)\n",
    "    t = mask.reshape(-1)\n",
    "\n",
    "    #---\n",
    "    logp = -np.log(np.clip(p,1e-6,1))\n",
    "    logn = -np.log(np.clip(1-p,1e-6,1))\n",
    "    loss = t*logp +(1-t)*logn\n",
    "    loss = loss.mean()\n",
    "    return loss\n",
    "\n",
    "def np_dice_score(pred, mask):  # 원래 prob가 들어오는데 바꿈\n",
    "    p = pred.reshape(-1)\n",
    "    t = mask.reshape(-1)\n",
    "\n",
    "    p = p>0.5\n",
    "    t = t>0.5\n",
    "    uion = p.sum() + t.sum()\n",
    "    overlap = (p*t).sum()\n",
    "    dice = 2*overlap/(uion+0.001)\n",
    "    return dice\n",
    "\n",
    "def np_accuracy(probability, mask):\n",
    "    p = probability.reshape(-1)\n",
    "    t = mask.reshape(-1)\n",
    "    p = p>0.5\n",
    "    t = t>0.5\n",
    "    tp = (p*t).sum()/(t).sum()\n",
    "    tn = ((1-p)*(1-t)).sum()/(1-t).sum()\n",
    "    return tp, tn\n",
    "\n",
    "def criterion_binary_cross_entropy(logit, mask):\n",
    "    logit = logit.reshape(-1)\n",
    "    mask = mask.reshape(-1)\n",
    "\n",
    "    loss = F.binary_cross_entropy_with_logits(logit, mask)\n",
    "    return loss\n",
    "\n",
    "# threshold dice score\n",
    "def np_dice_score2(probability, mask, threshold):\n",
    "    p = probability.reshape(-1)\n",
    "    t = mask.reshape(-1)\n",
    "\n",
    "    p = p>threshold\n",
    "    t = t>0.5\n",
    "    uion = p.sum() + t.sum()\n",
    "    overlap = (p*t).sum()\n",
    "    dice = 2*overlap/(uion+0.001)\n",
    "    return dice\n",
    "\n",
    "###################################\n",
    "#-------ELSE function---------#\n",
    "###################################\n",
    "def set_seeds(seed=42):\n",
    "    random.seed(seed)\n",
    "    os.environ['PYTHONHASHSEED'] = str(seed)\n",
    "    np.random.seed(seed)\n",
    "    torch.manual_seed(seed)\n",
    "    torch.cuda.manual_seed(seed)\n",
    "    torch.cuda.manual_seed_all(seed)\n",
    "    torch.backends.cudnn.deterministic = True\n",
    "    torch.backends.cudnn.benchmark = True # for faster training, but not deterministic\n",
    "class Logger(object):\n",
    "    def __init__(self):\n",
    "        self.terminal = sys.stdout  #stdout\n",
    "        self.file = None\n",
    "\n",
    "    def open(self, file, mode=None):\n",
    "        if mode is None: mode ='w'\n",
    "        self.file = open(file, mode)\n",
    "\n",
    "    def write(self, message, is_terminal=1, is_file=1 ):\n",
    "        if '\\r' in message: is_file=0\n",
    "\n",
    "        if is_terminal == 1:\n",
    "            self.terminal.write(message)\n",
    "            self.terminal.flush()\n",
    "            #time.sleep(1)\n",
    "\n",
    "        if is_file == 1:\n",
    "            self.file.write(message)\n",
    "            self.file.flush()\n",
    "\n",
    "    def flush(self):\n",
    "        # this flush method is needed for python 3 compatibility.\n",
    "        # this handles the flush command by doing nothing.\n",
    "        # you might want to specify some extra behavior here.\n",
    "        pass\n",
    "def print_args(args, logger=None):\n",
    "    for k, v in vars(args).items():\n",
    "        if logger is not None:\n",
    "            logger.write('{:<16} : {}'.format(k, v))\n",
    "        else:\n",
    "            print('{:<16} : {}'.format(k, v))\n",
    "def time_to_str(t, mode='min'):\n",
    "    if mode=='min':\n",
    "        t  = int(t)/60\n",
    "        hr = t//60\n",
    "        min = t%60\n",
    "        return '%2d hr %02d min'%(hr,min)\n",
    "\n",
    "    elif mode=='sec':\n",
    "        t   = int(t)\n",
    "        min = t//60\n",
    "        sec = t%60\n",
    "        return '%2d min %02d sec'%(min,sec)\n",
    "\n",
    "    else:\n",
    "        raise NotImplementedError\n",
    "def get_learning_rate(optimizer):\n",
    "    lr=[]\n",
    "    for param_group in optimizer.param_groups:\n",
    "        lr +=[ param_group['lr'] ]\n",
    "\n",
    "    assert(len(lr)==1) #we support only one param_group\n",
    "    lr = lr[0]\n",
    "\n",
    "    return lr"
   ]
  },
  {
   "cell_type": "code",
   "execution_count": 8,
   "id": "twenty-stone",
   "metadata": {
    "code_folding": [
     0
    ]
   },
   "outputs": [],
   "source": [
    "#-------masking & tile & decode---------#\n",
    "def read_tiff(image_file):\n",
    "    \"\"\"\n",
    "    *data size*\n",
    "    e.g.) (3, w, h) or (1,1,3,w,h) or (w, h, 3)  --> transform --> (w, h, 3)\n",
    "    \"\"\"\n",
    "    image = tiff.imread(image_file)\n",
    "    if image.shape[0] == 1:\n",
    "        image = image[0][0]\n",
    "        image = image.transpose(1, 2, 0)\n",
    "        image = np.ascontiguousarray(image)\n",
    "    elif image.shape[0] == 3:\n",
    "        image = image.transpose(1, 2, 0)\n",
    "        image = np.ascontiguousarray(image)\n",
    "    return image\n",
    "\n",
    "def read_mask(mask_file):\n",
    "    mask = np.array(Image.open(mask_file))\n",
    "    return mask\n",
    "\n",
    "def read_json_as_df(json_file):\n",
    "    with open(json_file) as f:\n",
    "        j = json.load(f)\n",
    "    df = pd.json_normalize(j)\n",
    "    return df\n",
    "\n",
    "\n",
    "def draw_strcuture(df, height, width, fill=255, structure=[]):\n",
    "    mask = np.zeros((height, width), np.uint8)\n",
    "    for row in df.values:\n",
    "        type  = row[2]  #geometry.type\n",
    "        coord = row[3]  # geometry.coordinates\n",
    "        name  = row[4]   # properties.classification.name\n",
    "\n",
    "        if structure !=[]:\n",
    "            if not any(s in name for s in structure): continue\n",
    "\n",
    "\n",
    "        if type=='Polygon':\n",
    "            pt = np.array(coord).astype(np.int32)\n",
    "            #cv2.polylines(mask, [coord.reshape((-1, 1, 2))], True, 255, 1)\n",
    "            cv2.fillPoly(mask, [pt.reshape((-1, 1, 2))], fill)\n",
    "\n",
    "        if type=='MultiPolygon':\n",
    "            for pt in coord:\n",
    "                pt = np.array(pt).astype(np.int32)\n",
    "                cv2.fillPoly(mask, [pt.reshape((-1, 1, 2))], fill)\n",
    "\n",
    "    return mask\n",
    "\n",
    "# resize, cvtcolor, generate mask\n",
    "# 원하는 object 영역만 따오는 mask\n",
    "def draw_strcuture_from_hue(image, fill=255, scale=1/32): # 0.25/32 default\n",
    "    height, width, _ = image.shape\n",
    "    vv = cv2.resize(image, dsize=None, fx=scale, fy=scale, interpolation=cv2.INTER_LINEAR)\n",
    "    vv = cv2.cvtColor(vv, cv2.COLOR_RGB2HSV)\n",
    "    # image_show('v[0]', v[:,:,0])\n",
    "    # image_show('v[1]', v[:,:,1])\n",
    "    # image_show('v[2]', v[:,:,2])\n",
    "    # cv2.waitKey(0)\n",
    "    mask = (vv[:, :, 1] > 32).astype(np.uint8) # rgb2hsv를 하고나서 1채널에 대해 시행하면 원하는 object만 잘따온다.\n",
    "    mask = mask*fill\n",
    "    mask = cv2.resize(mask, dsize=(width, height), interpolation=cv2.INTER_LINEAR) # 다시 원래사이즈로 복구\n",
    "\n",
    "    return mask\n",
    "\n",
    "# --- rle ---------------------------------\n",
    "def rle_decode(rle, height, width , fill=255):\n",
    "    s = rle.split()\n",
    "    start, length = [np.asarray(x, dtype=int) for x in (s[0:][::2], s[1:][::2])]\n",
    "    start -= 1\n",
    "    mask = np.zeros(height*width, dtype=np.uint8)\n",
    "    for i, l in zip(start, length):\n",
    "        mask[i:i+l] = fill\n",
    "    mask = mask.reshape(width,height).T\n",
    "    mask = np.ascontiguousarray(mask)\n",
    "    return mask\n",
    "\n",
    "\n",
    "def rle_encode(mask):\n",
    "    m = mask.T.flatten()\n",
    "    m = np.concatenate([[0], m, [0]])\n",
    "    run = np.where(m[1:] != m[:-1])[0] + 1\n",
    "    run[1::2] -= run[::2]\n",
    "    rle =  ' '.join(str(r) for r in run)\n",
    "    return rle\n",
    "\n",
    "\n",
    "# --- tile ---------------------------------\n",
    "\"\"\"\n",
    "-결국, tile_image, tile_mask만 가져다가 쓴다.\n",
    "1. scale로 resize를 하고 image size와 step만큼 건너뛰며 이미지를 만든다.\n",
    "2. 이때 일정 영역이 빈마스크면 데이터에서 제외한다.\n",
    "3. 쌓은 image와 mask를 return\n",
    "\"\"\"\n",
    "def to_tile(image, mask, structure, scale, size, step, min_score): \n",
    "    half = size//2\n",
    "    image_small = cv2.resize(image, dsize=None, fx=scale, fy=scale, interpolation=cv2.INTER_LINEAR) # defualt는 1/4만큼 w,h를 줄인다.\n",
    "    height, width, _ = image_small.shape\n",
    "\n",
    "    #make score\n",
    "    structure_small = cv2.resize(structure, dsize=None, fx=scale, fy=scale, interpolation=cv2.INTER_LINEAR)\n",
    "    vv = structure_small.astype(np.float32)/255\n",
    "\n",
    "    #make coord\n",
    "    xx = np.linspace(half, width  - half, int(np.ceil((width  - size) / step)))\n",
    "    yy = np.linspace(half, height - half, int(np.ceil((height - size) / step)))\n",
    "    xx = [int(x) for x in xx]\n",
    "    yy = [int(y) for y in yy]\n",
    "\n",
    "    coord  = []\n",
    "    reject = []\n",
    "    for cy in yy:\n",
    "        for cx in xx:\n",
    "            cv = vv[cy - half:cy + half, cx - half:cx + half].mean() # h, w // tiling한 마스크(structure)가 평균 0.25를 안넘으면 버린다.\n",
    "            if cv>min_score: # min_score ,default:0.25, 0.25의 의미?, 타일링 이미지의 1/4는 object여야 한다는 의미?\n",
    "                coord.append([cx,cy,cv])\n",
    "            else:\n",
    "                reject.append([cx,cy,cv])\n",
    "    #-----\n",
    "    if 1: # resize한 image를 tiling 하여 리스트만든다\n",
    "        tile_image = []\n",
    "        for cx,cy,cv in coord:\n",
    "            t = image_small[cy - half:cy + half, cx - half:cx + half] # resize한 image에서 indexing만 하는과정\n",
    "            assert (t.shape == (size, size, 3))\n",
    "            tile_image.append(t)\n",
    "\n",
    "    if mask is not None: # mask를 resize하고 tiling하여 리스트 만든다\n",
    "        mask_small = cv2.resize(mask, dsize=None, fx=scale, fy=scale, interpolation=cv2.INTER_LINEAR)\n",
    "        tile_mask = []\n",
    "        for cx,cy,cv in coord:\n",
    "            t = mask_small[cy - half:cy + half, cx - half:cx + half]\n",
    "            assert (t.shape == (size, size))\n",
    "            tile_mask.append(t)\n",
    "    else:\n",
    "        mask_small = None\n",
    "        tile_mask  = None\n",
    "\n",
    "    return {\n",
    "        'image_small': image_small,\n",
    "        'mask_small' : mask_small,\n",
    "        'structure_small' : structure_small,\n",
    "        'tile_image' : tile_image,\n",
    "        'tile_mask'  : tile_mask,\n",
    "        'coord'  : coord,\n",
    "        'reject' : reject,\n",
    "    }\n",
    "\n",
    "\"\"\"\n",
    "submission할때 쓰임\n",
    "\"\"\"\n",
    "def to_mask(tile, coord, height, width, scale, size, step, min_score, aggregate='mean'):\n",
    "\n",
    "    half = size//2\n",
    "    mask  = np.zeros((height, width), np.float32)\n",
    "\n",
    "    if 'mean' in aggregate:\n",
    "        w = np.ones((size,size), np.float32)\n",
    "\n",
    "        #if 'sq' in aggregate:\n",
    "        if 1:\n",
    "            #https://stackoverflow.com/questions/17190649/how-to-obtain-a-gaussian-filter-in-python\n",
    "            y,x = np.mgrid[-half:half,-half:half]\n",
    "            y = half-abs(y)\n",
    "            x = half-abs(x)\n",
    "            w = np.minimum(x,y)\n",
    "            w = w/w.max()#*2.5\n",
    "            w = np.minimum(w,1)\n",
    "\n",
    "        #--------------\n",
    "        count = np.zeros((height, width), np.float32)\n",
    "        for t, (cx, cy, cv) in enumerate(coord):\n",
    "            mask [cy - half:cy + half, cx - half:cx + half] += tile[t]*w\n",
    "            count[cy - half:cy + half, cx - half:cx + half] += w\n",
    "               # see unet paper for \"Overlap-tile strategy for seamless segmentation of arbitrary large images\"\n",
    "        m = (count != 0)\n",
    "        mask[m] /= count[m]\n",
    "\n",
    "    if aggregate=='max':\n",
    "        for t, (cx, cy, cv) in enumerate(coord):\n",
    "            mask[cy - half:cy + half, cx - half:cx + half] = np.maximum(\n",
    "                mask[cy - half:cy + half, cx - half:cx + half], tile[t] )\n",
    "\n",
    "    return mask\n",
    "\n",
    "# --------------이 아래로 안씀 ------------------------------#\n",
    "\n",
    "\n",
    "\n",
    "# --draw ------------------------------------------\n",
    "\"\"\"\n",
    "경계선을 그리게 만든다, 컨투어\n",
    "하지만 안씀\n",
    "\"\"\"\n",
    "def mask_to_inner_contour(mask):\n",
    "    mask = mask>0.5\n",
    "    pad = np.lib.pad(mask, ((1, 1), (1, 1)), 'reflect')\n",
    "    contour = mask & (\n",
    "            (pad[1:-1,1:-1] != pad[:-2,1:-1]) \\\n",
    "          | (pad[1:-1,1:-1] != pad[2:,1:-1])  \\\n",
    "          | (pad[1:-1,1:-1] != pad[1:-1,:-2]) \\\n",
    "          | (pad[1:-1,1:-1] != pad[1:-1,2:])\n",
    "    )\n",
    "    return contour\n",
    "\n",
    "\n",
    "def draw_contour_overlay(image, mask, color=(0,0,255), thickness=1):\n",
    "    contour =  mask_to_inner_contour(mask)\n",
    "    if thickness==1:\n",
    "        image[contour] = color\n",
    "    else:\n",
    "        r = max(1,thickness//2)\n",
    "        for y,x in np.stack(np.where(contour)).T:\n",
    "            cv2.circle(image, (x,y), r, color, lineType=cv2.LINE_4 )\n",
    "    return image\n"
   ]
  },
  {
   "cell_type": "code",
   "execution_count": 9,
   "id": "third-protest",
   "metadata": {
    "code_folding": [
     0
    ]
   },
   "outputs": [],
   "source": [
    "# ------ make dataset --------- #\n",
    "#################################\n",
    "\n",
    "# <todo> make difference scale tile\n",
    "\n",
    "tile_scale = 0.25\n",
    "tile_min_score = 0.25  # \n",
    "tile_size = 480#320  # 480 #\n",
    "tile_average_step = 240#160 #240  # 160 #192\n",
    "\n",
    "\n",
    "#make tile train image\n",
    "# train,tiling (image,mask) png 저장용도\n",
    "def run_make_train_tile():\n",
    "    #tile_scale = 0.25\n",
    "    #tile_min_score = 0.25\n",
    "    #tile_size = 480#480#320  #480 #\n",
    "    #tile_average_step = 240#240 #160 #240  # 192\n",
    "\n",
    "\n",
    "    train_tile_dir = data_dir + f'/tile/{tile_scale}_{tile_size}_{tile_average_step}_train' #nipa2\n",
    "\n",
    "    df_train = pd.read_csv(data_dir + '/train.csv')\n",
    "    print(df_train)\n",
    "    print(df_train.shape)\n",
    "    \n",
    "    df_all = []\n",
    "    \n",
    "    os.makedirs(train_tile_dir, exist_ok=True)\n",
    "    for i in range(0,len(df_train)):\n",
    "        id, encoding = df_train.iloc[i]\n",
    "        # 1. image 불러오고\n",
    "        image_file = data_dir + '/train/%s.tiff' % id\n",
    "        image = read_tiff(image_file)\n",
    "\n",
    "        height, width = image.shape[:2]\n",
    "        #mask = rle_decode(encoding, height, width, 255)\n",
    "        # 2. mask, target 불러오고\n",
    "        mask_file = data_dir + '/train/%s.mask.png' % id\n",
    "        mask = read_mask(mask_file)\n",
    "        \n",
    "        # 3. 일정영역,object만 표시한 mask불러오기.\n",
    "        structure = draw_strcuture_from_hue(image, fill=255, scale=tile_scale/32)\n",
    "        print(id, mask_file)\n",
    "        \n",
    "        # make tile\n",
    "        # 4. 학습할 tile image, mask를 생성한다.\n",
    "        tile = to_tile(image, mask, structure, tile_scale, tile_size, tile_average_step, tile_min_score)\n",
    "\n",
    "        coord = np.array(tile['coord'])\n",
    "        df_image = pd.DataFrame()\n",
    "        df_image['cx']=coord[:,0].astype(np.int32)\n",
    "        df_image['cy']=coord[:,1].astype(np.int32)\n",
    "        df_image['cv']=coord[:,2]\n",
    "\n",
    "        # --- save ---\n",
    "        os.makedirs(train_tile_dir+'/%s'%id, exist_ok=True)\n",
    "\n",
    "        tile_id =[]\n",
    "        num = len(tile['tile_image'])\n",
    "        for t in range(num):\n",
    "            cx,cy,cv   = tile['coord'][t]\n",
    "            s = '%s_y%08d_x%08d' % (id, cy, cx)\n",
    "            tile_id.append(s)\n",
    "\n",
    "            tile_image = tile['tile_image'][t]\n",
    "            tile_mask  = tile['tile_mask'][t]\n",
    "            cv2.imwrite(train_tile_dir + '/%s.png' % (s), tile_image)\n",
    "            cv2.imwrite(train_tile_dir + '/%s.mask.png' % (s), tile_mask)\n",
    "\n",
    "            #image_show('tile_image', tile_image)\n",
    "            #image_show('tile_mask', tile_mask)\n",
    "            #cv2.waitKey(1)\n",
    "\n",
    "\n",
    "        df_image['tile_id']=tile_id\n",
    "        df_all.append(df_image)\n",
    "    df_all = pd.concat(df_all, 0).reset_index(drop=True)\n",
    "    df_all[['tile_id','cx','cy','cv']].to_csv(train_tile_dir+'/image_id.csv', index=False)\n",
    "        #------\n",
    "\n",
    "\n",
    "\n",
    "#make tile train image\n",
    "# test tiling image png 저장용도\n",
    "def run_make_test_tile():\n",
    "    #tile_scale = 0.25\n",
    "    #tile_min_score = 0.25\n",
    "    #tile_size = 480#320  # 480 #\n",
    "    #tile_average_step = 240#160 #240  # 160 #192\n",
    "\n",
    "    #test_tile_dir = '/home/ubuntu/gwang/hubmap/etc/tile/0.25_640_320_test'\n",
    "    test_tile_dir = data_dir + f'/tile/{tile_scale}_{tile_size}_{tile_average_step}_test'\n",
    "    #---\n",
    "\n",
    "\n",
    "    os.makedirs(test_tile_dir, exist_ok=True)\n",
    "    assert False, 'todo modify test file'\n",
    "    for id in ['c68fe75ea','afa5e8098',]:\n",
    "        print(id)\n",
    "\n",
    "        # 1. test image load\n",
    "        image_file = data_dir + '/test/%s.tiff' % id\n",
    "        json_file  = data_dir + '/test/%s-anatomical-structure.json' % id\n",
    "\n",
    "        image = read_tiff(image_file)\n",
    "        height, width = image.shape[:2]\n",
    "\n",
    "        mask = None\n",
    "        # 2. test structure load\n",
    "        structure = draw_strcuture(read_json_as_df(json_file), height, width, structure=['Cortex'])\n",
    "        # structure = draw_strcuture_from_hue(image, fill=255, scale=tile_scale/32)\n",
    "\n",
    "        # 3. test를 위한 tile image 생성\n",
    "        #make tile\n",
    "        tile = to_tile(image, mask, structure, tile_scale, tile_size, tile_average_step, tile_min_score)\n",
    "\n",
    "        coord = np.array(tile['coord'])\n",
    "        df_image = pd.DataFrame()\n",
    "        df_image['cx']=coord[:,0].astype(np.int32)\n",
    "        df_image['cy']=coord[:,1].astype(np.int32)\n",
    "        df_image['cv']=coord[:,2]\n",
    "\n",
    "        # --- save ---\n",
    "        os.makedirs(test_tile_dir+'/%s'%id, exist_ok=True)\n",
    "\n",
    "        tile_id =[]\n",
    "        num = len(tile['tile_image'])\n",
    "        for t in range(num):\n",
    "            cx,cy,cv   = tile['coord'][t]\n",
    "            s = 'y%08d_x%08d' % (cy, cx)\n",
    "            tile_id.append(s)\n",
    "\n",
    "            tile_image = tile['tile_image'][t]\n",
    "            cv2.imwrite(test_tile_dir + '/%s/%s.png' % (id, s), tile_image)\n",
    "            #image_show('tile_image', tile_image)\n",
    "            #cv2.waitKey(1)\n",
    "\n",
    "\n",
    "        df_image['tile_id']=tile_id\n",
    "        df_image[['tile_id','cx','cy','cv']].to_csv(test_tile_dir+'/%s.csv'%id, index=False)\n",
    "        #------\n",
    "\n",
    "\n",
    "#make tile train image\n",
    "# tile이 아닌 train image의 mask생성\n",
    "def run_make_train_mask():\n",
    "\n",
    "    df_train = pd.read_csv(data_dir + '/train.csv')\n",
    "    print(df_train)\n",
    "    print(df_train.shape)\n",
    "\n",
    "    for i in range(0,len(df_train)):\n",
    "        id, encoding = df_train.iloc[i]\n",
    "\n",
    "        image_file = data_dir + '/train/%s.tiff' % id\n",
    "        image = read_tiff(image_file)\n",
    "\n",
    "        if image.shape[0]==1:\n",
    "            image = image[0][0]\n",
    "            image = image.transpose(1, 2, 0)\n",
    "            image = np.ascontiguousarray(image)\n",
    "            height, width = image.shape[:2]\n",
    "        elif image.shape[0] == 3:\n",
    "            image = image.transpose(1, 2, 0)\n",
    "            image = np.ascontiguousarray(image)\n",
    "            height, width = image.shape[:2]\n",
    "        else:\n",
    "            height, width = image.shape[:2]\n",
    "        mask = rle_decode(encoding, height, width, 255)\n",
    "\n",
    "        cv2.imwrite(data_dir + '/train/%s.mask.png' % id, mask)\n",
    "\n",
    "\n",
    "#make tile train image\n",
    "def run_make_pseudo_tile():\n",
    "\n",
    "    \n",
    "    tile_scale = 0.25\n",
    "    tile_min_score = 0.25\n",
    "    tile_size = 480#320  #480 #\n",
    "    tile_average_step = 240 #160 #240  # 192\n",
    "    #---\n",
    "    pseudo_tile_dir = data_dir + f'/tile/{tile_scale}_{tile_size}_{tile_average_step}_pseudo_0.95'\n",
    "    #df_train = pd.read_csv(data_dir + '/train.csv')\n",
    "    #df_pseudo = pd.read_csv('/root/share1/kaggle/2020/hubmap/result/resnet34/fold2/submit-fold-2-resnet34-00010000_model_lb0.837.csv')\n",
    "    df_pseudo = pd.read_csv('../../submission/0.891_submission-fold6-00004000_model_thres-0.9.csv')\n",
    "    \n",
    "    print(df_pseudo)\n",
    "    print(df_pseudo.shape)\n",
    "\n",
    "    os.makedirs(pseudo_tile_dir, exist_ok=True)\n",
    "    for i in range(0,len(df_pseudo)):\n",
    "        id, encoding = df_pseudo.iloc[i]\n",
    "\n",
    "        image_file = data_dir + '/test/%s.tiff' % id\n",
    "        image = read_tiff(image_file)\n",
    "\n",
    "        height, width = image.shape[:2]\n",
    "        mask = rle_decode(encoding, height, width, 255)\n",
    "\n",
    "        #make tile\n",
    "        structure = draw_strcuture_from_hue(image, fill=255, scale=tile_scale/32)\n",
    "\n",
    "        tile = to_tile(image, mask, structure, tile_scale, tile_size, tile_average_step, tile_min_score)\n",
    "        #to_tile(image, mask, structure, tile_scale, tile_size, tile_average_step, tile_min_score)\n",
    "\n",
    "        #mask, scale, size, step, min_score\n",
    "\n",
    "        coord = np.array(tile['coord'])\n",
    "        df_image = pd.DataFrame()\n",
    "        df_image['cx']=coord[:,0].astype(np.int32)\n",
    "        df_image['cy']=coord[:,1].astype(np.int32)\n",
    "        df_image['cv']=coord[:,2]\n",
    "\n",
    "        # --- save ---\n",
    "        os.makedirs(pseudo_tile_dir + '/%s'%id, exist_ok=True)\n",
    "\n",
    "        tile_id =[]\n",
    "        num = len(tile['tile_image'])\n",
    "        for t in range(num):\n",
    "            cx,cy,cv   = tile['coord'][t]\n",
    "            s = 'y%08d_x%08d' % (cy, cx)\n",
    "            tile_id.append(s)\n",
    "\n",
    "            tile_image = tile['tile_image'][t]\n",
    "            tile_mask  = tile['tile_mask'][t]\n",
    "            cv2.imwrite(pseudo_tile_dir + '/%s/%s.png' % (id, s), tile_image)\n",
    "            cv2.imwrite(pseudo_tile_dir + '/%s/%s.mask.png' % (id, s), tile_mask)\n",
    "\n",
    "            #image_show('tile_image', tile_image)\n",
    "            #image_show('tile_mask', tile_mask)\n",
    "            #cv2.waitKey(1)\n",
    "\n",
    "\n",
    "        df_image['tile_id']=tile_id\n",
    "        df_image[['tile_id','cx','cy','cv']].to_csv(pseudo_tile_dir+'/%s.csv'%id, index=False)\n",
    "        #------\n",
    "\n",
    "\n",
    "# main #################################################################\n",
    "if 0:\n",
    "    if __name__ == '__main__':\n",
    "        #print('started run make train mask')\n",
    "        # 1.\n",
    "        print('started 1')\n",
    "        run_make_train_mask()\n",
    "        # 2.\n",
    "        print('started 2')\n",
    "        run_make_train_tile()\n",
    "        # 3.\n",
    "        #print('started 3')\n",
    "        #run_make_test_tile()\n",
    "        # 4. if use pseudo datasets\n",
    "        #run_make_pseudo_tile()\n",
    "    \n",
    "    "
   ]
  },
  {
   "cell_type": "code",
   "execution_count": 10,
   "id": "chicken-privilege",
   "metadata": {
    "code_folding": [
     0
    ]
   },
   "outputs": [],
   "source": [
    "#--------------- Dataset ----------------#\n",
    "##########################################\n",
    "\n",
    "#--------------- \n",
    "# Old version\n",
    "#--------------- \n",
    "def make_image_id_v1(mode):\n",
    "    train_image_id = {\n",
    "        0 : '0486052bb', 1 : '095bf7a1f',\n",
    "        2 : '1e2425f28', 3 : '26dc41664',\n",
    "        4 : '2f6ecfcdf', 5 : '4ef6695ce',\n",
    "        6 : '54f2eec69', 7 : '8242609fa',\n",
    "        8 : 'aaa6a05cc', 9 : 'afa5e8098', \n",
    "        10 :'b2dc8411c', 11: 'b9a3865fc',\n",
    "        12 :'c68fe75ea', 13: 'cb2d976f4',\n",
    "        14 :'e79de561c'\n",
    "    }\n",
    "\n",
    "    test_image_id = {\n",
    "        0 : '2ec3f1bb9', 1 : '3589adb90',\n",
    "        2 : '57512b7f1', 3 : 'aa05346ff',\n",
    "        4 : 'd488c759a',\n",
    "    }\n",
    "    if 'pseudo-all'==mode:\n",
    "        test_id = [ test_image_id[i] for i in [0,1,2,3,4] ]\n",
    "        return test_id\n",
    "\n",
    "    if 'test-all'==mode:\n",
    "        test_id = [ test_image_id[i] for i in [0,1,2,3,4] ] # list(test_image_id.values()) #\n",
    "        return test_id\n",
    "\n",
    "    if 'train-all'==mode:\n",
    "        train_id = [ train_image_id[i] for i in [x for x in train_image_id] ] # list(test_image_id.values()) #\n",
    "        return train_id\n",
    "\n",
    "    if 'valid' in mode or 'train' in mode:\n",
    "        fold = {int(x) for x in mode.split('-')[1].split(',')}\n",
    "        #valid = [fold,]\n",
    "        train = list({x for x in train_image_id}-fold)\n",
    "        valid_id = [ train_image_id[i] for i in fold ]\n",
    "        train_id = [ train_image_id[i] for i in train ]\n",
    "\n",
    "        if 'valid' in mode: return valid_id\n",
    "        if 'train' in mode: return train_id\n",
    "class HuDataset_v1(Dataset):\n",
    "    def __init__(self, image_id, image_dir, augment=None):\n",
    "        self.augment = augment\n",
    "        self.image_id = image_id\n",
    "        self.image_dir = image_dir\n",
    "\n",
    "        tile_id = []\n",
    "        for i in range(len(image_dir)):\n",
    "            for id in image_id[i]: \n",
    "                df = pd.read_csv(data_dir + '/tile/%s/%s.csv'% (self.image_dir[i],id) )\n",
    "                tile_id += ('%s/%s/'%(self.image_dir[i],id) + df.tile_id).tolist()\n",
    "\n",
    "        self.tile_id = tile_id\n",
    "        self.len =len(self.tile_id)\n",
    "\n",
    "\n",
    "    def __len__(self):\n",
    "        return self.len\n",
    "\n",
    "    def __str__(self):\n",
    "        string  = ''\n",
    "        string += '\\tlen  = %d\\n'%len(self)\n",
    "        string += '\\timage_dir = %s\\n'%self.image_dir\n",
    "        string += '\\timage_id  = %s\\n'%str(self.image_id)\n",
    "        string += '\\t          = %d\\n'%sum(len(i) for i in self.image_id)\n",
    "        return string\n",
    "\n",
    "\n",
    "    def __getitem__(self, index):\n",
    "        id = self.tile_id[index]\n",
    "        image = cv2.imread(data_dir + '/tile/%s.png'%(id), cv2.IMREAD_COLOR)\n",
    "        mask  = cv2.imread(data_dir + '/tile/%s.mask.png'%(id), cv2.IMREAD_GRAYSCALE)\n",
    "        #print(data_dir + '/tile/%s/%s.png'%(self.image_dir,id))\n",
    "\n",
    "        image = image.astype(np.float32) / 255\n",
    "        mask  = mask.astype(np.float32) / 255\n",
    "        r = {\n",
    "            'index' : index,\n",
    "            'tile_id' : id,\n",
    "            'mask' : mask,\n",
    "            'image' : image,\n",
    "        }\n",
    "        if self.augment is not None: r = self.augment(r)\n",
    "        return r\n",
    "\n",
    "#--------------- \n",
    "# New version\n",
    "#--------------- \n",
    "def make_image_id(mode):\n",
    "    train_image_id = {\n",
    "        0 : '0486052bb', 1 : '095bf7a1f',\n",
    "        2 : '1e2425f28', 3 : '26dc41664',\n",
    "        4 : '2f6ecfcdf', 5 : '4ef6695ce',\n",
    "        6 : '54f2eec69', 7 : '8242609fa',\n",
    "        8 : 'aaa6a05cc', 9 : 'afa5e8098', \n",
    "        10 :'b2dc8411c', 11: 'b9a3865fc',\n",
    "        12 :'c68fe75ea', 13: 'cb2d976f4',\n",
    "        14 :'e79de561c'\n",
    "    }\n",
    "\n",
    "    test_image_id = {\n",
    "        0 : '2ec3f1bb9', 1 : '3589adb90',\n",
    "        2 : '57512b7f1', 3 : 'aa05346ff',\n",
    "        4 : 'd488c759a',\n",
    "    }\n",
    "    if 'pseudo-all'==mode:\n",
    "        test_id = [ test_image_id[i] for i in [0,1,2,3,4] ]\n",
    "        return test_id\n",
    "\n",
    "    if 'test-all'==mode:\n",
    "        test_id = [ test_image_id[i] for i in [0,1,2,3,4] ] # list(test_image_id.values()) #\n",
    "        return test_id\n",
    "\n",
    "    if 'train-all'==mode:\n",
    "        train_id = [ train_image_id[i] for i in [x for x in train_image_id] ] # list(test_image_id.values()) #\n",
    "        return train_id\n",
    "\n",
    "    if 'valid' in mode or 'train' in mode:\n",
    "        fold = {int(x) for x in mode.split('-')[1].split(',')}\n",
    "        #valid = [fold,]\n",
    "        train = list({x for x in train_image_id}-fold)\n",
    "        valid_id = [ train_image_id[i] for i in fold ]\n",
    "        train_id = [ train_image_id[i] for i in train ]\n",
    "\n",
    "        if 'valid' in mode: return valid_id\n",
    "        if 'train' in mode: return train_id\n",
    "class HuDataset(Dataset):\n",
    "    def __init__(self, tile_id, augment=None):\n",
    "        self.augment = augment\n",
    "\n",
    "        self.tile_id = tile_id\n",
    "        self.len =len(self.tile_id)\n",
    "\n",
    "\n",
    "    def __len__(self):\n",
    "        return self.len\n",
    "\n",
    "    def __str__(self):\n",
    "        string  = ''\n",
    "        string += '\\tlen  = %d\\n'%len(self)\n",
    "        return string\n",
    "\n",
    "\n",
    "    def __getitem__(self, index):\n",
    "        id = self.tile_id[index]\n",
    "        image = cv2.imread(f'{data_dir}/tile/{args.dataset}/{id}.png', cv2.IMREAD_COLOR)\n",
    "        mask  = cv2.imread(f'{data_dir}/tile/{args.dataset}/{id}.mask.png', cv2.IMREAD_GRAYSCALE)\n",
    "        #print(data_dir + '/tile/%s/%s.png'%(self.image_dir,id))\n",
    "        \n",
    "        image = image.astype(np.float32) / 255\n",
    "        mask  = mask.astype(np.float32) / 255\n",
    "        r = {\n",
    "            'index' : index,\n",
    "            'tile_id' : id,\n",
    "            'mask' : mask,\n",
    "            'image' : image,\n",
    "        }\n",
    "        if self.augment is not None: r = self.augment(r)\n",
    "        return r\n",
    "    \n",
    "    \n",
    "# no over lapped dataset\n",
    "class HuDataset_nol(Dataset):\n",
    "    def __init__(self, data_dir : str, tile_info : str, fold : int, train=True, augment=None):\n",
    "        self.augment = augment\n",
    "        train_names = sorted([\"1e2425f28\", \"2f6ecfcdf\", \"4ef6695ce\", \"26dc41664\", \"54f2eec69\",\n",
    "                      \"095bf7a1f\", \"0486052bb\", \"8242609fa\", \"aaa6a05cc\", \"afa5e8098\",\n",
    "                      \"b2dc8411c\", \"b9a3865fc\", \"c68fe75ea\", \"cb2d976f4\", \"e79de561c\"])\n",
    "        valid_names = []\n",
    "        for i in range(3):\n",
    "            valid_names.append(train_names.pop((fold-1)*3))\n",
    "        self.img_paths = []\n",
    "        self.mask_paths = []\n",
    "        if train:\n",
    "            for name in train_names:\n",
    "                self.img_paths += glob(os.path.join(data_dir, \"tile\", tile_info, \"{}_*.png\".format(name)))\n",
    "                self.mask_paths += glob(os.path.join(data_dir, \"tile\", tile_info, \"{}_*.mask.png\".format(name)))\n",
    "            self.mask_paths.sort()\n",
    "            self.img_paths = sorted(list(set(self.img_paths) - set(self.mask_paths)))\n",
    "        else:\n",
    "            for name in valid_names:\n",
    "                self.img_paths += glob(os.path.join(data_dir, \"tile\", tile_info, \"{}_*.png\".format(name)))\n",
    "                self.mask_paths += glob(os.path.join(data_dir, \"tile\", tile_info, \"{}_*.mask.png\".format(name)))\n",
    "            self.mask_paths.sort()\n",
    "            self.img_paths = sorted(list(set(self.img_paths) - set(self.mask_paths)))\n",
    "\n",
    "        assert len(self.img_paths) == len(self.mask_paths), \"different number of images!!!!\"\n",
    "        print(\"{} => # imgs : {}, # masks : {}\".format(\"train\" if train else \"valid\", len(self.img_paths), len(self.mask_paths)))\n",
    "    def __len__(self):\n",
    "        return len(self.img_paths)\n",
    "    \n",
    "    def __getitem__(self, idx):\n",
    "        img = cv2.imread(self.img_paths[idx], cv2.IMREAD_COLOR)\n",
    "        mask = cv2.imread(self.mask_paths[idx], cv2.IMREAD_GRAYSCALE)\n",
    "        img = img.astype(np.float32) / 255.0\n",
    "        mask = mask.astype(np.float32) / 255.0\n",
    "        r = {\n",
    "        'index' : idx,\n",
    "        #'tile_id' : id,\n",
    "        'mask' : mask,\n",
    "        'image' : img,\n",
    "        }\n",
    "        if self.augment is not None: r = self.augment(r)\n",
    "        return r\n",
    "        \n",
    "    \n",
    "\n",
    "def null_collate(batch):\n",
    "    batch_size = len(batch)\n",
    "    index = []\n",
    "    mask = []\n",
    "    image = []\n",
    "    for r in batch:\n",
    "        index.append(r['index'])\n",
    "        mask.append(r['mask'])\n",
    "        image.append(r['image'])\n",
    "\n",
    "    image = np.stack(image)\n",
    "    image = image[...,::-1]\n",
    "    image = image.transpose(0,3,1,2)\n",
    "    image = np.ascontiguousarray(image)\n",
    "\n",
    "    mask  = np.stack(mask)\n",
    "    mask  = np.ascontiguousarray(mask)\n",
    "\n",
    "    #---\n",
    "    image = torch.from_numpy(image).contiguous().float()\n",
    "    mask  = torch.from_numpy(mask).contiguous().unsqueeze(1)\n",
    "    mask  = (mask>0.5).float()\n",
    "\n",
    "    return {\n",
    "        'index' : index,\n",
    "        'mask' : mask,\n",
    "        'image' : image,\n",
    "    }\n"
   ]
  },
  {
   "cell_type": "code",
   "execution_count": 11,
   "id": "extreme-ferry",
   "metadata": {
    "code_folding": [
     0
    ]
   },
   "outputs": [],
   "source": [
    "#---------- augmentation ---------------------#\n",
    "###############################################\n",
    "#flip\n",
    "def do_random_flip_transpose(image, mask):\n",
    "    if np.random.rand()>0.5:\n",
    "        image = cv2.flip(image,0)\n",
    "        mask = cv2.flip(mask,0)\n",
    "    if np.random.rand()>0.5:\n",
    "        image = cv2.flip(image,1)\n",
    "        mask = cv2.flip(mask,1)\n",
    "    if np.random.rand()>0.5:\n",
    "        image = image.transpose(1,0,2)\n",
    "        mask = mask.transpose(1,0)\n",
    "\n",
    "    image = np.ascontiguousarray(image)\n",
    "    mask = np.ascontiguousarray(mask)\n",
    "    return image, mask\n",
    "\n",
    "#geometric\n",
    "def do_random_crop(image, mask, size):\n",
    "    height, width = image.shape[:2]\n",
    "    x = np.random.choice(width -size)\n",
    "    y = np.random.choice(height-size)\n",
    "    image = image[y:y+size,x:x+size]\n",
    "    mask  = mask[y:y+size,x:x+size]\n",
    "    return image, mask\n",
    "\n",
    "def do_random_scale_crop(image, mask, size, mag):\n",
    "    height, width = image.shape[:2]\n",
    "\n",
    "    s = 1 + np.random.uniform(-1, 1)*mag\n",
    "    s =  int(s*size)\n",
    "\n",
    "    x = np.random.choice(width -s)\n",
    "    y = np.random.choice(height-s)\n",
    "    image = image[y:y+s,x:x+s]\n",
    "    mask  = mask[y:y+s,x:x+s]\n",
    "    if s!=size:\n",
    "        image = cv2.resize(image, dsize=(size,size), interpolation=cv2.INTER_LINEAR)\n",
    "        mask  = cv2.resize(mask, dsize=(size,size), interpolation=cv2.INTER_LINEAR)\n",
    "    return image, mask\n",
    "\n",
    "def do_random_rotate_crop(image, mask, size, mag=30 ):\n",
    "    angle = 1+np.random.uniform(-1, 1)*mag\n",
    "\n",
    "    height, width = image.shape[:2]\n",
    "    dst = np.array([\n",
    "        [0,0],[size,size], [size,0], [0,size],\n",
    "    ])\n",
    "\n",
    "    c = np.cos(angle/180*2*PI)\n",
    "    s = np.sin(angle/180*2*PI)\n",
    "    src = (dst-size//2)@np.array([[c, -s],[s, c]]).T\n",
    "    src[:,0] -= src[:,0].min()\n",
    "    src[:,1] -= src[:,1].min()\n",
    "\n",
    "    src[:,0] = src[:,0] + np.random.uniform(0,width -src[:,0].max())\n",
    "    src[:,1] = src[:,1] + np.random.uniform(0,height-src[:,1].max())\n",
    "\n",
    "    if 0: #debug\n",
    "        def to_int(f):\n",
    "            return (int(f[0]),int(f[1]))\n",
    "\n",
    "        cv2.line(image, to_int(src[0]), to_int(src[1]), (0,0,1), 16)\n",
    "        cv2.line(image, to_int(src[1]), to_int(src[2]), (0,0,1), 16)\n",
    "        cv2.line(image, to_int(src[2]), to_int(src[3]), (0,0,1), 16)\n",
    "        cv2.line(image, to_int(src[3]), to_int(src[0]), (0,0,1), 16)\n",
    "        image_show_norm('image', image, min=0, max=1)\n",
    "        cv2.waitKey(1)\n",
    "\n",
    "\n",
    "    transform = cv2.getAffineTransform(src[:3].astype(np.float32), dst[:3].astype(np.float32))\n",
    "    image = cv2.warpAffine( image, transform, (size, size), flags=cv2.INTER_LINEAR,\n",
    "                                 borderMode=cv2.BORDER_CONSTANT, borderValue=(0,0,0))\n",
    "    mask  = cv2.warpAffine( mask, transform, (size, size), flags=cv2.INTER_LINEAR,\n",
    "                                 borderMode=cv2.BORDER_CONSTANT, borderValue=0)\n",
    "    return image, mask\n",
    "\n",
    "#warp/elastic deform ...\n",
    "#<todo>\n",
    "\n",
    "#noise\n",
    "def do_random_noise(image, mask, mag=0.1):\n",
    "    height, width = image.shape[:2]\n",
    "    noise = np.random.uniform(-1,1, (height, width,1))*mag\n",
    "    image = image + noise\n",
    "    image = np.clip(image,0,1)\n",
    "    return image, mask\n",
    "\n",
    "\n",
    "#intensity\n",
    "def do_random_contast(image, mask, mag=0.3):\n",
    "    alpha = 1 + random.uniform(-1,1)*mag\n",
    "    image = image * alpha\n",
    "    image = np.clip(image,0,1)\n",
    "    return image, mask\n",
    "\n",
    "def do_random_gain(image, mask, mag=0.3):\n",
    "    alpha = 1 + random.uniform(-1,1)*mag\n",
    "    image = image ** alpha\n",
    "    image = np.clip(image,0,1)\n",
    "    return image, mask\n",
    "\n",
    "def do_random_hsv(image, mask, mag=[0.15,0.25,0.25]):\n",
    "    image = (image*255).astype(np.uint8)\n",
    "    hsv = cv2.cvtColor(image, cv2.COLOR_BGR2HSV)\n",
    "\n",
    "    h = hsv[:, :, 0].astype(np.float32)  # hue\n",
    "    s = hsv[:, :, 1].astype(np.float32)  # saturation\n",
    "    v = hsv[:, :, 2].astype(np.float32)  # value\n",
    "    h = (h*(1 + random.uniform(-1,1)*mag[0]))%180\n",
    "    s =  s*(1 + random.uniform(-1,1)*mag[1])\n",
    "    v =  v*(1 + random.uniform(-1,1)*mag[2])\n",
    "\n",
    "    hsv[:, :, 0] = np.clip(h,0,180).astype(np.uint8)\n",
    "    hsv[:, :, 1] = np.clip(s,0,255).astype(np.uint8)\n",
    "    hsv[:, :, 2] = np.clip(v,0,255).astype(np.uint8)\n",
    "    image = cv2.cvtColor(hsv, cv2.COLOR_HSV2BGR)\n",
    "    image = image.astype(np.float32)/255\n",
    "    return image, mask\n",
    "\n",
    "\n",
    "def filter_small(mask, min_size):\n",
    "\n",
    "    m = (mask*255).astype(np.uint8)\n",
    "\n",
    "    num_comp, comp, stat, centroid = cv2.connectedComponentsWithStats(m, connectivity=8)\n",
    "    if num_comp==1: return mask\n",
    "\n",
    "    filtered = np.zeros(comp.shape,dtype=np.uint8)\n",
    "    area = stat[:, -1]\n",
    "    for i in range(1, num_comp):\n",
    "        if area[i] >= min_size:\n",
    "            filtered[comp == i] = 255\n",
    "    return filtered"
   ]
  },
  {
   "cell_type": "code",
   "execution_count": 12,
   "id": "rational-preserve",
   "metadata": {
    "code_folding": [
     0
    ]
   },
   "outputs": [],
   "source": [
    "#---------- optimizer ---------------------#\n",
    "############################################\n",
    "class Lookahead(Optimizer):\n",
    "    def __init__(self, optimizer, alpha=0.5, k=6):\n",
    "\n",
    "        if not 0.0 <= alpha <= 1.0:\n",
    "            raise ValueError(f'Invalid slow update rate: {alpha}')\n",
    "        if not 1 <= k:\n",
    "            raise ValueError(f'Invalid lookahead steps: {k}')\n",
    "\n",
    "        self.optimizer = optimizer\n",
    "        self.param_groups = self.optimizer.param_groups\n",
    "        self.alpha = alpha\n",
    "        self.k = k\n",
    "        for group in self.param_groups:\n",
    "            group[\"step_counter\"] = 0\n",
    "\n",
    "        self.slow_weights = [\n",
    "                [p.clone().detach() for p in group['params']]\n",
    "            for group in self.param_groups]\n",
    "\n",
    "        for w in it.chain(*self.slow_weights):\n",
    "            w.requires_grad = False\n",
    "        self.state = optimizer.state\n",
    "\n",
    "    def step(self, closure=None):\n",
    "        loss = None\n",
    "        if closure is not None:\n",
    "            loss = closure()\n",
    "        loss = self.optimizer.step()\n",
    "\n",
    "        for group,slow_weights in zip(self.param_groups,self.slow_weights):\n",
    "            group['step_counter'] += 1\n",
    "            if group['step_counter'] % self.k != 0:\n",
    "                continue\n",
    "            for p,q in zip(group['params'],slow_weights):\n",
    "                if p.grad is None:\n",
    "                    continue\n",
    "                q.data.add_(p.data - q.data, alpha=self.alpha )\n",
    "                p.data.copy_(q.data)\n",
    "        return loss\n",
    "class RAdam(Optimizer):\n",
    "\n",
    "    def __init__(self, params, lr=1e-3, betas=(0.9, 0.999), eps=1e-8, weight_decay=0):\n",
    "        defaults = dict(lr=lr, betas=betas, eps=eps, weight_decay=weight_decay)\n",
    "        self.buffer = [[None, None, None] for ind in range(10)]\n",
    "        super(RAdam, self).__init__(params, defaults)\n",
    "\n",
    "    def __setstate__(self, state):\n",
    "        super(RAdam, self).__setstate__(state)\n",
    "\n",
    "    def step(self, closure=None):\n",
    "\n",
    "        loss = None\n",
    "        if closure is not None:\n",
    "            loss = closure()\n",
    "\n",
    "        for group in self.param_groups:\n",
    "\n",
    "            for p in group['params']:\n",
    "                if p.grad is None:\n",
    "                    continue\n",
    "                grad = p.grad.data.float()\n",
    "                if grad.is_sparse:\n",
    "                    raise RuntimeError('RAdam does not support sparse gradients')\n",
    "\n",
    "                p_data_fp32 = p.data.float()\n",
    "\n",
    "                state = self.state[p]\n",
    "\n",
    "                if len(state) == 0:\n",
    "                    state['step'] = 0\n",
    "                    state['exp_avg'] = torch.zeros_like(p_data_fp32)\n",
    "                    state['exp_avg_sq'] = torch.zeros_like(p_data_fp32)\n",
    "                else:\n",
    "                    state['exp_avg'] = state['exp_avg'].type_as(p_data_fp32)\n",
    "                    state['exp_avg_sq'] = state['exp_avg_sq'].type_as(p_data_fp32)\n",
    "\n",
    "                exp_avg, exp_avg_sq = state['exp_avg'], state['exp_avg_sq']\n",
    "                beta1, beta2 = group['betas']\n",
    "\n",
    "                exp_avg_sq.mul_(beta2).addcmul_(grad, grad, value = 1 - beta2)\n",
    "                exp_avg.mul_(beta1).add_(grad, alpha=1 - beta1)\n",
    "\n",
    "                state['step'] += 1\n",
    "                buffered = self.buffer[int(state['step'] % 10)]\n",
    "                if state['step'] == buffered[0]:\n",
    "                    N_sma, step_size = buffered[1], buffered[2]\n",
    "                else:\n",
    "                    buffered[0] = state['step']\n",
    "                    beta2_t = beta2 ** state['step']\n",
    "                    N_sma_max = 2 / (1 - beta2) - 1\n",
    "                    N_sma = N_sma_max - 2 * state['step'] * beta2_t / (1 - beta2_t)\n",
    "                    buffered[1] = N_sma\n",
    "\n",
    "                    # more conservative since it's an approximated value\n",
    "                    if N_sma >= 5:\n",
    "                        step_size = math.sqrt((1 - beta2_t) * (N_sma - 4) / (N_sma_max - 4) * (N_sma - 2) / N_sma * N_sma_max / (N_sma_max - 2)) / (1 - beta1 ** state['step'])\n",
    "                    else:\n",
    "                        step_size = 1.0 / (1 - beta1 ** state['step'])\n",
    "                    buffered[2] = step_size\n",
    "\n",
    "                if group['weight_decay'] != 0:\n",
    "                    p_data_fp32.add_(-group['weight_decay'] * group['lr'], p_data_fp32)\n",
    "\n",
    "                # more conservative since it's an approximated value\n",
    "                if N_sma >= 5:\n",
    "                    denom = exp_avg_sq.sqrt().add_(group['eps'])\n",
    "                    p_data_fp32.addcdiv_(exp_avg, denom, value=-step_size * group['lr'])\n",
    "                else:\n",
    "                    p_data_fp32.add_(exp_avg, alpha=-step_size * group['lr'])\n",
    "\n",
    "                p.data.copy_(p_data_fp32)\n",
    "\n",
    "        return loss\n"
   ]
  },
  {
   "cell_type": "code",
   "execution_count": 13,
   "id": "indoor-preserve",
   "metadata": {
    "code_folding": [
     0
    ]
   },
   "outputs": [],
   "source": [
    "def SegModel():\n",
    "    if args.encoder in ['b0','b1','b2','b3','b4','b5','b6','b7']:\n",
    "        encoder_name_ = f'efficientnet-{args.encoder}' #'timm-efficientnet-b4'\n",
    "        print('encoder : ', encoder_name_)\n",
    "    else:\n",
    "        encoder_name_ = args.encoder\n",
    "    if args.decoder =='fpn':\n",
    "        print('fpn loaded')\n",
    "        model = smp.FPN(\n",
    "            encoder_name=encoder_name_,        # choose encoder, e.g. mobilenet_v2 or efficientnet-b7\n",
    "            encoder_weights='imagenet',     # use `imagenet` pretrained weights for encoder initialization\n",
    "            in_channels=3,                  # model input channels (1 for grayscale images, 3 for RGB, etc.)\n",
    "            classes=1,                      # model output channels (number of classes in your dataset)\n",
    "            )\n",
    "    elif args.decoder =='unet':\n",
    "        print('unet loaded')\n",
    "        model = smp.Unet(\n",
    "            encoder_name=encoder_name_,        # choose encoder, e.g. mobilenet_v2 or efficientnet-b7\n",
    "            encoder_weights='imagenet',     # use `imagenet` pretrained weights for encoder initialization\n",
    "            in_channels=3,                  # model input channels (1 for grayscale images, 3 for RGB, etc.)\n",
    "            classes=1,                      # model output channels (number of classes in your dataset)\n",
    "            )\n",
    "    return model"
   ]
  },
  {
   "cell_type": "code",
   "execution_count": 14,
   "id": "cross-topic",
   "metadata": {
    "code_folding": [
     0
    ]
   },
   "outputs": [],
   "source": [
    "def remove_small(probability, threshold, min_size):\n",
    "    mask = cv2.threshold(probability, threshold, 1, cv2.THRESH_BINARY)[1]  # 먼저 들어온 예측 값에 대하여 mask 생성\n",
    "    num_component, component = cv2.connectedComponents(mask.astype(np.uint8))  # 이 함수는 0인 부분은 배경, 1인 부분은 하나의 덩어리로 생각해서\n",
    "    # 총 분리된 덩어리 갯수(N)와 각 덩어리에 숫자를 1,2, ..., N을 매겨서 반환한다. \n",
    "    predictions = np.zeros_like(mask)  # 최종 예측 마스크를 선언\n",
    "    for c in tqdm(range(1, num_component)):\n",
    "        p = (component == c)  # 각 덩어리를 체크한뒤에 이 덩어리의 픽셀 갯수가 min_size보다 크면 1로 체크한다. \n",
    "        if p.sum() > min_size:\n",
    "            predictions[p] = 1\n",
    "    return predictions"
   ]
  },
  {
   "cell_type": "markdown",
   "id": "superior-building",
   "metadata": {},
   "source": [
    "## grid search"
   ]
  },
  {
   "cell_type": "code",
   "execution_count": 12,
   "id": "infrared-miami",
   "metadata": {
    "code_folding": [
     0
    ],
    "scrolled": true
   },
   "outputs": [
    {
     "name": "stdout",
     "output_type": "stream",
     "text": [
      "encoder :  efficientnet-b4\n",
      "unet loaded\n",
      "model load success!!!\n",
      "(157, 3, 640, 640)\n",
      "encoder :  efficientnet-b4\n",
      "unet loaded\n",
      "model load success!!!\n",
      "(374, 3, 640, 640)\n",
      "encoder :  efficientnet-b4\n",
      "unet loaded\n",
      "model load success!!!\n",
      "(241, 3, 640, 640)\n"
     ]
    },
    {
     "name": "stderr",
     "output_type": "stream",
     "text": [
      "100%|██████████| 187/187 [00:15<00:00, 11.95it/s]\n"
     ]
    },
    {
     "name": "stdout",
     "output_type": "stream",
     "text": [
      "fold : 1, dice score : 0.940852299478414\n",
      "encoder :  efficientnet-b4\n",
      "unet loaded\n",
      "model load success!!!\n",
      "(256, 3, 640, 640)\n",
      "encoder :  efficientnet-b4\n",
      "unet loaded\n",
      "model load success!!!\n",
      "(140, 3, 640, 640)\n",
      "encoder :  efficientnet-b4\n",
      "unet loaded\n",
      "model load success!!!\n",
      "(589, 3, 640, 640)\n"
     ]
    },
    {
     "name": "stderr",
     "output_type": "stream",
     "text": [
      "100%|██████████| 447/447 [01:33<00:00,  4.80it/s]\n"
     ]
    },
    {
     "name": "stdout",
     "output_type": "stream",
     "text": [
      "fold : 2, dice score : 0.9452706604313912\n",
      "encoder :  efficientnet-b4\n",
      "unet loaded\n",
      "model load success!!!\n",
      "(139, 3, 640, 640)\n",
      "encoder :  efficientnet-b4\n",
      "unet loaded\n",
      "model load success!!!\n",
      "(438, 3, 640, 640)\n",
      "encoder :  efficientnet-b4\n",
      "unet loaded\n",
      "model load success!!!\n",
      "(63, 3, 640, 640)\n"
     ]
    },
    {
     "name": "stderr",
     "output_type": "stream",
     "text": [
      "100%|██████████| 105/105 [00:02<00:00, 41.57it/s]\n"
     ]
    },
    {
     "name": "stdout",
     "output_type": "stream",
     "text": [
      "fold : 3, dice score : 0.9269824396717691\n",
      "encoder :  efficientnet-b4\n",
      "unet loaded\n",
      "model load success!!!\n",
      "(358, 3, 640, 640)\n",
      "encoder :  efficientnet-b4\n",
      "unet loaded\n",
      "model load success!!!\n",
      "(95, 3, 640, 640)\n",
      "encoder :  efficientnet-b4\n",
      "unet loaded\n",
      "model load success!!!\n",
      "(305, 3, 640, 640)\n"
     ]
    },
    {
     "name": "stderr",
     "output_type": "stream",
     "text": [
      "100%|██████████| 482/482 [01:02<00:00,  7.71it/s]\n"
     ]
    },
    {
     "name": "stdout",
     "output_type": "stream",
     "text": [
      "fold : 4, dice score : 0.9427958585053557\n",
      "encoder :  efficientnet-b4\n",
      "unet loaded\n",
      "model load success!!!\n",
      "(312, 3, 640, 640)\n",
      "encoder :  efficientnet-b4\n",
      "unet loaded\n",
      "model load success!!!\n",
      "(316, 3, 640, 640)\n",
      "encoder :  efficientnet-b4\n",
      "unet loaded\n",
      "model load success!!!\n",
      "(175, 3, 640, 640)\n"
     ]
    },
    {
     "name": "stderr",
     "output_type": "stream",
     "text": [
      "100%|██████████| 182/182 [00:07<00:00, 24.77it/s]\n"
     ]
    },
    {
     "name": "stdout",
     "output_type": "stream",
     "text": [
      "fold : 5, dice score : 0.9478229804374152\n",
      "threshold : 0.5, min size : 100, dice : 0.9407448477048691\n",
      "encoder :  efficientnet-b4\n",
      "unet loaded\n",
      "model load success!!!\n",
      "(157, 3, 640, 640)\n",
      "encoder :  efficientnet-b4\n",
      "unet loaded\n",
      "model load success!!!\n",
      "(374, 3, 640, 640)\n",
      "encoder :  efficientnet-b4\n",
      "unet loaded\n",
      "model load success!!!\n",
      "(241, 3, 640, 640)\n"
     ]
    },
    {
     "name": "stderr",
     "output_type": "stream",
     "text": [
      "100%|██████████| 187/187 [00:15<00:00, 12.01it/s]\n"
     ]
    },
    {
     "name": "stdout",
     "output_type": "stream",
     "text": [
      "fold : 1, dice score : 0.940852299478414\n",
      "encoder :  efficientnet-b4\n",
      "unet loaded\n",
      "model load success!!!\n",
      "(256, 3, 640, 640)\n",
      "encoder :  efficientnet-b4\n",
      "unet loaded\n",
      "model load success!!!\n",
      "(140, 3, 640, 640)\n",
      "encoder :  efficientnet-b4\n",
      "unet loaded\n",
      "model load success!!!\n",
      "(589, 3, 640, 640)\n"
     ]
    },
    {
     "name": "stderr",
     "output_type": "stream",
     "text": [
      "100%|██████████| 447/447 [01:33<00:00,  4.78it/s]\n"
     ]
    },
    {
     "name": "stdout",
     "output_type": "stream",
     "text": [
      "fold : 2, dice score : 0.9453137692396298\n",
      "encoder :  efficientnet-b4\n",
      "unet loaded\n",
      "model load success!!!\n",
      "(139, 3, 640, 640)\n",
      "encoder :  efficientnet-b4\n",
      "unet loaded\n",
      "model load success!!!\n",
      "(438, 3, 640, 640)\n",
      "encoder :  efficientnet-b4\n",
      "unet loaded\n",
      "model load success!!!\n",
      "(63, 3, 640, 640)\n"
     ]
    },
    {
     "name": "stderr",
     "output_type": "stream",
     "text": [
      "100%|██████████| 105/105 [00:02<00:00, 40.23it/s]\n"
     ]
    },
    {
     "name": "stdout",
     "output_type": "stream",
     "text": [
      "fold : 3, dice score : 0.9266846640183021\n",
      "encoder :  efficientnet-b4\n",
      "unet loaded\n",
      "model load success!!!\n",
      "(358, 3, 640, 640)\n",
      "encoder :  efficientnet-b4\n",
      "unet loaded\n",
      "model load success!!!\n",
      "(95, 3, 640, 640)\n",
      "encoder :  efficientnet-b4\n",
      "unet loaded\n",
      "model load success!!!\n",
      "(305, 3, 640, 640)\n"
     ]
    },
    {
     "name": "stderr",
     "output_type": "stream",
     "text": [
      "100%|██████████| 482/482 [00:58<00:00,  8.19it/s]\n"
     ]
    },
    {
     "name": "stdout",
     "output_type": "stream",
     "text": [
      "fold : 4, dice score : 0.9429241468322309\n",
      "encoder :  efficientnet-b4\n",
      "unet loaded\n",
      "model load success!!!\n",
      "(312, 3, 640, 640)\n",
      "encoder :  efficientnet-b4\n",
      "unet loaded\n",
      "model load success!!!\n",
      "(316, 3, 640, 640)\n",
      "encoder :  efficientnet-b4\n",
      "unet loaded\n",
      "model load success!!!\n",
      "(175, 3, 640, 640)\n"
     ]
    },
    {
     "name": "stderr",
     "output_type": "stream",
     "text": [
      "100%|██████████| 182/182 [00:07<00:00, 23.65it/s]\n"
     ]
    },
    {
     "name": "stdout",
     "output_type": "stream",
     "text": [
      "fold : 5, dice score : 0.9478895961888355\n",
      "threshold : 0.5, min size : 200, dice : 0.9407328951514824\n",
      "encoder :  efficientnet-b4\n",
      "unet loaded\n",
      "model load success!!!\n",
      "(157, 3, 640, 640)\n",
      "encoder :  efficientnet-b4\n",
      "unet loaded\n",
      "model load success!!!\n",
      "(374, 3, 640, 640)\n",
      "encoder :  efficientnet-b4\n",
      "unet loaded\n",
      "model load success!!!\n",
      "(241, 3, 640, 640)\n"
     ]
    },
    {
     "name": "stderr",
     "output_type": "stream",
     "text": [
      "100%|██████████| 187/187 [00:16<00:00, 11.57it/s]\n"
     ]
    },
    {
     "name": "stdout",
     "output_type": "stream",
     "text": [
      "fold : 1, dice score : 0.940852299478414\n",
      "encoder :  efficientnet-b4\n",
      "unet loaded\n",
      "model load success!!!\n",
      "(256, 3, 640, 640)\n",
      "encoder :  efficientnet-b4\n",
      "unet loaded\n",
      "model load success!!!\n",
      "(140, 3, 640, 640)\n",
      "encoder :  efficientnet-b4\n",
      "unet loaded\n",
      "model load success!!!\n",
      "(589, 3, 640, 640)\n"
     ]
    },
    {
     "name": "stderr",
     "output_type": "stream",
     "text": [
      "100%|██████████| 447/447 [01:32<00:00,  4.86it/s]\n"
     ]
    },
    {
     "name": "stdout",
     "output_type": "stream",
     "text": [
      "fold : 2, dice score : 0.9453137692396298\n",
      "encoder :  efficientnet-b4\n",
      "unet loaded\n",
      "model load success!!!\n",
      "(139, 3, 640, 640)\n",
      "encoder :  efficientnet-b4\n",
      "unet loaded\n",
      "model load success!!!\n",
      "(438, 3, 640, 640)\n",
      "encoder :  efficientnet-b4\n",
      "unet loaded\n",
      "model load success!!!\n",
      "(63, 3, 640, 640)\n"
     ]
    },
    {
     "name": "stderr",
     "output_type": "stream",
     "text": [
      "100%|██████████| 105/105 [00:02<00:00, 42.84it/s]\n"
     ]
    },
    {
     "name": "stdout",
     "output_type": "stream",
     "text": [
      "fold : 3, dice score : 0.9266846640183021\n",
      "encoder :  efficientnet-b4\n",
      "unet loaded\n",
      "model load success!!!\n",
      "(358, 3, 640, 640)\n",
      "encoder :  efficientnet-b4\n",
      "unet loaded\n",
      "model load success!!!\n",
      "(95, 3, 640, 640)\n",
      "encoder :  efficientnet-b4\n",
      "unet loaded\n",
      "model load success!!!\n",
      "(305, 3, 640, 640)\n"
     ]
    },
    {
     "name": "stderr",
     "output_type": "stream",
     "text": [
      "100%|██████████| 482/482 [01:08<00:00,  7.08it/s]\n"
     ]
    },
    {
     "name": "stdout",
     "output_type": "stream",
     "text": [
      "fold : 4, dice score : 0.9429173790172658\n",
      "encoder :  efficientnet-b4\n",
      "unet loaded\n",
      "model load success!!!\n",
      "(312, 3, 640, 640)\n",
      "encoder :  efficientnet-b4\n",
      "unet loaded\n",
      "model load success!!!\n",
      "(316, 3, 640, 640)\n",
      "encoder :  efficientnet-b4\n",
      "unet loaded\n",
      "model load success!!!\n",
      "(175, 3, 640, 640)\n"
     ]
    },
    {
     "name": "stderr",
     "output_type": "stream",
     "text": [
      "100%|██████████| 182/182 [00:08<00:00, 21.25it/s]\n"
     ]
    },
    {
     "name": "stdout",
     "output_type": "stream",
     "text": [
      "fold : 5, dice score : 0.9478895961888355\n",
      "threshold : 0.5, min size : 300, dice : 0.9407315415884894\n",
      "encoder :  efficientnet-b4\n",
      "unet loaded\n",
      "model load success!!!\n",
      "(157, 3, 640, 640)\n",
      "encoder :  efficientnet-b4\n",
      "unet loaded\n",
      "model load success!!!\n",
      "(374, 3, 640, 640)\n",
      "encoder :  efficientnet-b4\n",
      "unet loaded\n",
      "model load success!!!\n",
      "(241, 3, 640, 640)\n"
     ]
    },
    {
     "name": "stderr",
     "output_type": "stream",
     "text": [
      "100%|██████████| 187/187 [00:17<00:00, 10.77it/s]\n"
     ]
    },
    {
     "name": "stdout",
     "output_type": "stream",
     "text": [
      "fold : 1, dice score : 0.940852299478414\n",
      "encoder :  efficientnet-b4\n",
      "unet loaded\n",
      "model load success!!!\n",
      "(256, 3, 640, 640)\n",
      "encoder :  efficientnet-b4\n",
      "unet loaded\n",
      "model load success!!!\n",
      "(140, 3, 640, 640)\n",
      "encoder :  efficientnet-b4\n",
      "unet loaded\n",
      "model load success!!!\n",
      "(589, 3, 640, 640)\n"
     ]
    },
    {
     "name": "stderr",
     "output_type": "stream",
     "text": [
      "100%|██████████| 447/447 [01:37<00:00,  4.58it/s]\n"
     ]
    },
    {
     "name": "stdout",
     "output_type": "stream",
     "text": [
      "fold : 2, dice score : 0.9453764684176719\n",
      "encoder :  efficientnet-b4\n",
      "unet loaded\n",
      "model load success!!!\n",
      "(139, 3, 640, 640)\n",
      "encoder :  efficientnet-b4\n",
      "unet loaded\n",
      "model load success!!!\n",
      "(438, 3, 640, 640)\n",
      "encoder :  efficientnet-b4\n",
      "unet loaded\n",
      "model load success!!!\n",
      "(63, 3, 640, 640)\n"
     ]
    },
    {
     "name": "stderr",
     "output_type": "stream",
     "text": [
      "100%|██████████| 105/105 [00:02<00:00, 36.55it/s]\n"
     ]
    },
    {
     "name": "stdout",
     "output_type": "stream",
     "text": [
      "fold : 3, dice score : 0.9266846640183021\n",
      "encoder :  efficientnet-b4\n",
      "unet loaded\n",
      "model load success!!!\n",
      "(358, 3, 640, 640)\n",
      "encoder :  efficientnet-b4\n",
      "unet loaded\n",
      "model load success!!!\n",
      "(95, 3, 640, 640)\n",
      "encoder :  efficientnet-b4\n",
      "unet loaded\n",
      "model load success!!!\n",
      "(305, 3, 640, 640)\n"
     ]
    },
    {
     "name": "stderr",
     "output_type": "stream",
     "text": [
      "100%|██████████| 482/482 [01:06<00:00,  7.29it/s]\n"
     ]
    },
    {
     "name": "stdout",
     "output_type": "stream",
     "text": [
      "fold : 4, dice score : 0.9431179113802031\n",
      "encoder :  efficientnet-b4\n",
      "unet loaded\n",
      "model load success!!!\n",
      "(312, 3, 640, 640)\n",
      "encoder :  efficientnet-b4\n",
      "unet loaded\n",
      "model load success!!!\n",
      "(316, 3, 640, 640)\n",
      "encoder :  efficientnet-b4\n",
      "unet loaded\n",
      "model load success!!!\n",
      "(175, 3, 640, 640)\n"
     ]
    },
    {
     "name": "stderr",
     "output_type": "stream",
     "text": [
      "100%|██████████| 182/182 [00:08<00:00, 20.33it/s]\n"
     ]
    },
    {
     "name": "stdout",
     "output_type": "stream",
     "text": [
      "fold : 5, dice score : 0.9478895961888355\n",
      "threshold : 0.5, min size : 400, dice : 0.9407841878966853\n",
      "encoder :  efficientnet-b4\n",
      "unet loaded\n",
      "model load success!!!\n",
      "(157, 3, 640, 640)\n",
      "encoder :  efficientnet-b4\n",
      "unet loaded\n",
      "model load success!!!\n",
      "(374, 3, 640, 640)\n",
      "encoder :  efficientnet-b4\n",
      "unet loaded\n",
      "model load success!!!\n",
      "(241, 3, 640, 640)\n"
     ]
    },
    {
     "name": "stderr",
     "output_type": "stream",
     "text": [
      "100%|██████████| 187/187 [00:17<00:00, 10.67it/s]\n"
     ]
    },
    {
     "name": "stdout",
     "output_type": "stream",
     "text": [
      "fold : 1, dice score : 0.940852299478414\n",
      "encoder :  efficientnet-b4\n",
      "unet loaded\n",
      "model load success!!!\n",
      "(256, 3, 640, 640)\n",
      "encoder :  efficientnet-b4\n",
      "unet loaded\n",
      "model load success!!!\n",
      "(140, 3, 640, 640)\n",
      "encoder :  efficientnet-b4\n",
      "unet loaded\n",
      "model load success!!!\n",
      "(589, 3, 640, 640)\n"
     ]
    },
    {
     "name": "stderr",
     "output_type": "stream",
     "text": [
      "100%|██████████| 447/447 [01:38<00:00,  4.54it/s]\n"
     ]
    },
    {
     "name": "stdout",
     "output_type": "stream",
     "text": [
      "fold : 2, dice score : 0.9453764684176719\n",
      "encoder :  efficientnet-b4\n",
      "unet loaded\n",
      "model load success!!!\n",
      "(139, 3, 640, 640)\n",
      "encoder :  efficientnet-b4\n",
      "unet loaded\n",
      "model load success!!!\n",
      "(438, 3, 640, 640)\n",
      "encoder :  efficientnet-b4\n",
      "unet loaded\n",
      "model load success!!!\n",
      "(63, 3, 640, 640)\n"
     ]
    },
    {
     "name": "stderr",
     "output_type": "stream",
     "text": [
      "100%|██████████| 105/105 [00:02<00:00, 36.84it/s]\n"
     ]
    },
    {
     "name": "stdout",
     "output_type": "stream",
     "text": [
      "fold : 3, dice score : 0.9266846640183021\n",
      "encoder :  efficientnet-b4\n",
      "unet loaded\n",
      "model load success!!!\n",
      "(358, 3, 640, 640)\n",
      "encoder :  efficientnet-b4\n",
      "unet loaded\n",
      "model load success!!!\n",
      "(95, 3, 640, 640)\n",
      "encoder :  efficientnet-b4\n",
      "unet loaded\n",
      "model load success!!!\n",
      "(305, 3, 640, 640)\n"
     ]
    },
    {
     "name": "stderr",
     "output_type": "stream",
     "text": [
      "100%|██████████| 482/482 [01:06<00:00,  7.29it/s]\n"
     ]
    },
    {
     "name": "stdout",
     "output_type": "stream",
     "text": [
      "fold : 4, dice score : 0.9431179113802031\n",
      "encoder :  efficientnet-b4\n",
      "unet loaded\n",
      "model load success!!!\n",
      "(312, 3, 640, 640)\n",
      "encoder :  efficientnet-b4\n",
      "unet loaded\n",
      "model load success!!!\n",
      "(316, 3, 640, 640)\n",
      "encoder :  efficientnet-b4\n",
      "unet loaded\n",
      "model load success!!!\n",
      "(175, 3, 640, 640)\n"
     ]
    },
    {
     "name": "stderr",
     "output_type": "stream",
     "text": [
      "100%|██████████| 182/182 [00:08<00:00, 20.68it/s]\n"
     ]
    },
    {
     "name": "stdout",
     "output_type": "stream",
     "text": [
      "fold : 5, dice score : 0.9478895961888355\n",
      "threshold : 0.5, min size : 500, dice : 0.9407841878966853\n",
      "encoder :  efficientnet-b4\n",
      "unet loaded\n",
      "model load success!!!\n",
      "(157, 3, 640, 640)\n",
      "encoder :  efficientnet-b4\n",
      "unet loaded\n",
      "model load success!!!\n",
      "(374, 3, 640, 640)\n",
      "encoder :  efficientnet-b4\n",
      "unet loaded\n",
      "model load success!!!\n",
      "(241, 3, 640, 640)\n"
     ]
    },
    {
     "name": "stderr",
     "output_type": "stream",
     "text": [
      "100%|██████████| 187/187 [00:18<00:00, 10.35it/s]\n"
     ]
    },
    {
     "name": "stdout",
     "output_type": "stream",
     "text": [
      "fold : 1, dice score : 0.940852299478414\n",
      "encoder :  efficientnet-b4\n",
      "unet loaded\n",
      "model load success!!!\n",
      "(256, 3, 640, 640)\n",
      "encoder :  efficientnet-b4\n",
      "unet loaded\n",
      "model load success!!!\n",
      "(140, 3, 640, 640)\n",
      "encoder :  efficientnet-b4\n",
      "unet loaded\n",
      "model load success!!!\n",
      "(589, 3, 640, 640)\n"
     ]
    },
    {
     "name": "stderr",
     "output_type": "stream",
     "text": [
      "100%|██████████| 447/447 [01:40<00:00,  4.46it/s]\n"
     ]
    },
    {
     "name": "stdout",
     "output_type": "stream",
     "text": [
      "fold : 2, dice score : 0.9452783221784432\n",
      "encoder :  efficientnet-b4\n",
      "unet loaded\n",
      "model load success!!!\n",
      "(139, 3, 640, 640)\n",
      "encoder :  efficientnet-b4\n",
      "unet loaded\n",
      "model load success!!!\n",
      "(438, 3, 640, 640)\n",
      "encoder :  efficientnet-b4\n",
      "unet loaded\n",
      "model load success!!!\n",
      "(63, 3, 640, 640)\n"
     ]
    },
    {
     "name": "stderr",
     "output_type": "stream",
     "text": [
      "100%|██████████| 105/105 [00:02<00:00, 36.28it/s]\n"
     ]
    },
    {
     "name": "stdout",
     "output_type": "stream",
     "text": [
      "fold : 3, dice score : 0.9266846640183021\n",
      "encoder :  efficientnet-b4\n",
      "unet loaded\n",
      "model load success!!!\n",
      "(358, 3, 640, 640)\n",
      "encoder :  efficientnet-b4\n",
      "unet loaded\n",
      "model load success!!!\n",
      "(95, 3, 640, 640)\n",
      "encoder :  efficientnet-b4\n",
      "unet loaded\n",
      "model load success!!!\n",
      "(305, 3, 640, 640)\n"
     ]
    },
    {
     "name": "stderr",
     "output_type": "stream",
     "text": [
      "100%|██████████| 482/482 [01:07<00:00,  7.10it/s]\n"
     ]
    },
    {
     "name": "stdout",
     "output_type": "stream",
     "text": [
      "fold : 4, dice score : 0.9429387501906047\n",
      "encoder :  efficientnet-b4\n",
      "unet loaded\n",
      "model load success!!!\n",
      "(312, 3, 640, 640)\n",
      "encoder :  efficientnet-b4\n",
      "unet loaded\n",
      "model load success!!!\n",
      "(316, 3, 640, 640)\n",
      "encoder :  efficientnet-b4\n",
      "unet loaded\n",
      "model load success!!!\n",
      "(175, 3, 640, 640)\n"
     ]
    },
    {
     "name": "stderr",
     "output_type": "stream",
     "text": [
      "100%|██████████| 182/182 [00:08<00:00, 20.52it/s]\n"
     ]
    },
    {
     "name": "stdout",
     "output_type": "stream",
     "text": [
      "fold : 5, dice score : 0.9478895961888355\n",
      "threshold : 0.5, min size : 600, dice : 0.9407287264109199\n",
      "encoder :  efficientnet-b4\n",
      "unet loaded\n",
      "model load success!!!\n",
      "(157, 3, 640, 640)\n",
      "encoder :  efficientnet-b4\n",
      "unet loaded\n",
      "model load success!!!\n",
      "(374, 3, 640, 640)\n",
      "encoder :  efficientnet-b4\n",
      "unet loaded\n",
      "model load success!!!\n",
      "(241, 3, 640, 640)\n"
     ]
    },
    {
     "name": "stderr",
     "output_type": "stream",
     "text": [
      "100%|██████████| 187/187 [00:17<00:00, 10.71it/s]\n"
     ]
    },
    {
     "name": "stdout",
     "output_type": "stream",
     "text": [
      "fold : 1, dice score : 0.940852299478414\n",
      "encoder :  efficientnet-b4\n",
      "unet loaded\n",
      "model load success!!!\n",
      "(256, 3, 640, 640)\n",
      "encoder :  efficientnet-b4\n",
      "unet loaded\n",
      "model load success!!!\n",
      "(140, 3, 640, 640)\n",
      "encoder :  efficientnet-b4\n",
      "unet loaded\n",
      "model load success!!!\n",
      "(589, 3, 640, 640)\n"
     ]
    },
    {
     "name": "stderr",
     "output_type": "stream",
     "text": [
      "100%|██████████| 447/447 [01:42<00:00,  4.35it/s]\n"
     ]
    },
    {
     "name": "stdout",
     "output_type": "stream",
     "text": [
      "fold : 2, dice score : 0.9452783221784432\n",
      "encoder :  efficientnet-b4\n",
      "unet loaded\n",
      "model load success!!!\n",
      "(139, 3, 640, 640)\n",
      "encoder :  efficientnet-b4\n",
      "unet loaded\n",
      "model load success!!!\n",
      "(438, 3, 640, 640)\n",
      "encoder :  efficientnet-b4\n",
      "unet loaded\n",
      "model load success!!!\n",
      "(63, 3, 640, 640)\n"
     ]
    },
    {
     "name": "stderr",
     "output_type": "stream",
     "text": [
      "100%|██████████| 105/105 [00:02<00:00, 37.63it/s]\n"
     ]
    },
    {
     "name": "stdout",
     "output_type": "stream",
     "text": [
      "fold : 3, dice score : 0.9266846640183021\n",
      "encoder :  efficientnet-b4\n",
      "unet loaded\n",
      "model load success!!!\n",
      "(358, 3, 640, 640)\n",
      "encoder :  efficientnet-b4\n",
      "unet loaded\n",
      "model load success!!!\n",
      "(95, 3, 640, 640)\n",
      "encoder :  efficientnet-b4\n",
      "unet loaded\n",
      "model load success!!!\n",
      "(305, 3, 640, 640)\n"
     ]
    },
    {
     "name": "stderr",
     "output_type": "stream",
     "text": [
      "100%|██████████| 482/482 [01:07<00:00,  7.11it/s]\n"
     ]
    },
    {
     "name": "stdout",
     "output_type": "stream",
     "text": [
      "fold : 4, dice score : 0.9433037606895873\n",
      "encoder :  efficientnet-b4\n",
      "unet loaded\n",
      "model load success!!!\n",
      "(312, 3, 640, 640)\n",
      "encoder :  efficientnet-b4\n",
      "unet loaded\n",
      "model load success!!!\n",
      "(316, 3, 640, 640)\n",
      "encoder :  efficientnet-b4\n",
      "unet loaded\n",
      "model load success!!!\n",
      "(175, 3, 640, 640)\n"
     ]
    },
    {
     "name": "stderr",
     "output_type": "stream",
     "text": [
      "100%|██████████| 182/182 [00:09<00:00, 19.76it/s]\n"
     ]
    },
    {
     "name": "stdout",
     "output_type": "stream",
     "text": [
      "fold : 5, dice score : 0.9478895961888355\n",
      "threshold : 0.5, min size : 700, dice : 0.9408017285107164\n",
      "encoder :  efficientnet-b4\n",
      "unet loaded\n",
      "model load success!!!\n",
      "(157, 3, 640, 640)\n",
      "encoder :  efficientnet-b4\n",
      "unet loaded\n",
      "model load success!!!\n",
      "(374, 3, 640, 640)\n",
      "encoder :  efficientnet-b4\n",
      "unet loaded\n",
      "model load success!!!\n",
      "(241, 3, 640, 640)\n"
     ]
    },
    {
     "name": "stderr",
     "output_type": "stream",
     "text": [
      "100%|██████████| 187/187 [00:17<00:00, 10.79it/s]\n"
     ]
    },
    {
     "name": "stdout",
     "output_type": "stream",
     "text": [
      "fold : 1, dice score : 0.940852299478414\n",
      "encoder :  efficientnet-b4\n",
      "unet loaded\n",
      "model load success!!!\n",
      "(256, 3, 640, 640)\n",
      "encoder :  efficientnet-b4\n",
      "unet loaded\n",
      "model load success!!!\n",
      "(140, 3, 640, 640)\n",
      "encoder :  efficientnet-b4\n",
      "unet loaded\n",
      "model load success!!!\n",
      "(589, 3, 640, 640)\n"
     ]
    },
    {
     "name": "stderr",
     "output_type": "stream",
     "text": [
      "100%|██████████| 447/447 [01:39<00:00,  4.47it/s]\n"
     ]
    },
    {
     "name": "stdout",
     "output_type": "stream",
     "text": [
      "fold : 2, dice score : 0.9452783221784432\n",
      "encoder :  efficientnet-b4\n",
      "unet loaded\n",
      "model load success!!!\n",
      "(139, 3, 640, 640)\n",
      "encoder :  efficientnet-b4\n",
      "unet loaded\n",
      "model load success!!!\n",
      "(438, 3, 640, 640)\n",
      "encoder :  efficientnet-b4\n",
      "unet loaded\n",
      "model load success!!!\n",
      "(63, 3, 640, 640)\n"
     ]
    },
    {
     "name": "stderr",
     "output_type": "stream",
     "text": [
      "100%|██████████| 105/105 [00:02<00:00, 35.51it/s]\n"
     ]
    },
    {
     "name": "stdout",
     "output_type": "stream",
     "text": [
      "fold : 3, dice score : 0.9266846640183021\n",
      "encoder :  efficientnet-b4\n",
      "unet loaded\n",
      "model load success!!!\n",
      "(358, 3, 640, 640)\n",
      "encoder :  efficientnet-b4\n",
      "unet loaded\n",
      "model load success!!!\n",
      "(95, 3, 640, 640)\n",
      "encoder :  efficientnet-b4\n",
      "unet loaded\n",
      "model load success!!!\n",
      "(305, 3, 640, 640)\n"
     ]
    },
    {
     "name": "stderr",
     "output_type": "stream",
     "text": [
      "100%|██████████| 482/482 [01:12<00:00,  6.65it/s]\n"
     ]
    },
    {
     "name": "stdout",
     "output_type": "stream",
     "text": [
      "fold : 4, dice score : 0.9435098820060178\n",
      "encoder :  efficientnet-b4\n",
      "unet loaded\n",
      "model load success!!!\n",
      "(312, 3, 640, 640)\n",
      "encoder :  efficientnet-b4\n",
      "unet loaded\n",
      "model load success!!!\n",
      "(316, 3, 640, 640)\n",
      "encoder :  efficientnet-b4\n",
      "unet loaded\n",
      "model load success!!!\n",
      "(175, 3, 640, 640)\n"
     ]
    },
    {
     "name": "stderr",
     "output_type": "stream",
     "text": [
      "100%|██████████| 182/182 [00:09<00:00, 18.63it/s]\n"
     ]
    },
    {
     "name": "stdout",
     "output_type": "stream",
     "text": [
      "fold : 5, dice score : 0.9478895961888355\n",
      "threshold : 0.5, min size : 800, dice : 0.9408429527740024\n",
      "encoder :  efficientnet-b4\n",
      "unet loaded\n",
      "model load success!!!\n",
      "(157, 3, 640, 640)\n",
      "encoder :  efficientnet-b4\n",
      "unet loaded\n",
      "model load success!!!\n",
      "(374, 3, 640, 640)\n",
      "encoder :  efficientnet-b4\n",
      "unet loaded\n",
      "model load success!!!\n",
      "(241, 3, 640, 640)\n"
     ]
    },
    {
     "name": "stderr",
     "output_type": "stream",
     "text": [
      "100%|██████████| 187/187 [00:17<00:00, 10.71it/s]\n"
     ]
    },
    {
     "name": "stdout",
     "output_type": "stream",
     "text": [
      "fold : 1, dice score : 0.9411737522535178\n",
      "encoder :  efficientnet-b4\n",
      "unet loaded\n",
      "model load success!!!\n",
      "(256, 3, 640, 640)\n",
      "encoder :  efficientnet-b4\n",
      "unet loaded\n",
      "model load success!!!\n",
      "(140, 3, 640, 640)\n",
      "encoder :  efficientnet-b4\n",
      "unet loaded\n",
      "model load success!!!\n",
      "(589, 3, 640, 640)\n"
     ]
    },
    {
     "name": "stderr",
     "output_type": "stream",
     "text": [
      "100%|██████████| 447/447 [01:40<00:00,  4.45it/s]\n"
     ]
    },
    {
     "name": "stdout",
     "output_type": "stream",
     "text": [
      "fold : 2, dice score : 0.9451084268909787\n",
      "encoder :  efficientnet-b4\n",
      "unet loaded\n",
      "model load success!!!\n",
      "(139, 3, 640, 640)\n",
      "encoder :  efficientnet-b4\n",
      "unet loaded\n",
      "model load success!!!\n",
      "(438, 3, 640, 640)\n",
      "encoder :  efficientnet-b4\n",
      "unet loaded\n",
      "model load success!!!\n",
      "(63, 3, 640, 640)\n"
     ]
    },
    {
     "name": "stderr",
     "output_type": "stream",
     "text": [
      "100%|██████████| 105/105 [00:02<00:00, 37.14it/s]\n"
     ]
    },
    {
     "name": "stdout",
     "output_type": "stream",
     "text": [
      "fold : 3, dice score : 0.9266846640183021\n",
      "encoder :  efficientnet-b4\n",
      "unet loaded\n",
      "model load success!!!\n",
      "(358, 3, 640, 640)\n",
      "encoder :  efficientnet-b4\n",
      "unet loaded\n",
      "model load success!!!\n",
      "(95, 3, 640, 640)\n",
      "encoder :  efficientnet-b4\n",
      "unet loaded\n",
      "model load success!!!\n",
      "(305, 3, 640, 640)\n"
     ]
    },
    {
     "name": "stderr",
     "output_type": "stream",
     "text": [
      "100%|██████████| 482/482 [01:05<00:00,  7.32it/s]\n"
     ]
    },
    {
     "name": "stdout",
     "output_type": "stream",
     "text": [
      "fold : 4, dice score : 0.9432325510916683\n",
      "encoder :  efficientnet-b4\n",
      "unet loaded\n",
      "model load success!!!\n",
      "(312, 3, 640, 640)\n",
      "encoder :  efficientnet-b4\n",
      "unet loaded\n",
      "model load success!!!\n",
      "(316, 3, 640, 640)\n",
      "encoder :  efficientnet-b4\n",
      "unet loaded\n",
      "model load success!!!\n",
      "(175, 3, 640, 640)\n"
     ]
    },
    {
     "name": "stderr",
     "output_type": "stream",
     "text": [
      "100%|██████████| 182/182 [00:08<00:00, 21.80it/s]\n"
     ]
    },
    {
     "name": "stdout",
     "output_type": "stream",
     "text": [
      "fold : 5, dice score : 0.9478895961888355\n",
      "threshold : 0.5, min size : 900, dice : 0.9408177980886604\n",
      "encoder :  efficientnet-b4\n",
      "unet loaded\n",
      "model load success!!!\n",
      "(157, 3, 640, 640)\n",
      "encoder :  efficientnet-b4\n",
      "unet loaded\n",
      "model load success!!!\n",
      "(374, 3, 640, 640)\n",
      "encoder :  efficientnet-b4\n",
      "unet loaded\n",
      "model load success!!!\n",
      "(241, 3, 640, 640)\n"
     ]
    },
    {
     "name": "stderr",
     "output_type": "stream",
     "text": [
      "100%|██████████| 187/187 [00:18<00:00, 10.36it/s]\n"
     ]
    },
    {
     "name": "stdout",
     "output_type": "stream",
     "text": [
      "fold : 1, dice score : 0.9411737522535178\n",
      "encoder :  efficientnet-b4\n",
      "unet loaded\n",
      "model load success!!!\n",
      "(256, 3, 640, 640)\n",
      "encoder :  efficientnet-b4\n",
      "unet loaded\n",
      "model load success!!!\n",
      "(140, 3, 640, 640)\n",
      "encoder :  efficientnet-b4\n",
      "unet loaded\n",
      "model load success!!!\n",
      "(589, 3, 640, 640)\n"
     ]
    },
    {
     "name": "stderr",
     "output_type": "stream",
     "text": [
      "100%|██████████| 447/447 [01:42<00:00,  4.36it/s]\n"
     ]
    },
    {
     "name": "stdout",
     "output_type": "stream",
     "text": [
      "fold : 2, dice score : 0.9451084268909787\n",
      "encoder :  efficientnet-b4\n",
      "unet loaded\n",
      "model load success!!!\n",
      "(139, 3, 640, 640)\n",
      "encoder :  efficientnet-b4\n",
      "unet loaded\n",
      "model load success!!!\n",
      "(438, 3, 640, 640)\n",
      "encoder :  efficientnet-b4\n",
      "unet loaded\n",
      "model load success!!!\n",
      "(63, 3, 640, 640)\n"
     ]
    },
    {
     "name": "stderr",
     "output_type": "stream",
     "text": [
      "100%|██████████| 105/105 [00:02<00:00, 35.37it/s]\n"
     ]
    },
    {
     "name": "stdout",
     "output_type": "stream",
     "text": [
      "fold : 3, dice score : 0.9266846640183021\n",
      "encoder :  efficientnet-b4\n",
      "unet loaded\n",
      "model load success!!!\n",
      "(358, 3, 640, 640)\n",
      "encoder :  efficientnet-b4\n",
      "unet loaded\n",
      "model load success!!!\n",
      "(95, 3, 640, 640)\n",
      "encoder :  efficientnet-b4\n",
      "unet loaded\n",
      "model load success!!!\n",
      "(305, 3, 640, 640)\n"
     ]
    },
    {
     "name": "stderr",
     "output_type": "stream",
     "text": [
      "100%|██████████| 482/482 [01:06<00:00,  7.28it/s]\n"
     ]
    },
    {
     "name": "stdout",
     "output_type": "stream",
     "text": [
      "fold : 4, dice score : 0.9426511992300908\n",
      "encoder :  efficientnet-b4\n",
      "unet loaded\n",
      "model load success!!!\n",
      "(312, 3, 640, 640)\n",
      "encoder :  efficientnet-b4\n",
      "unet loaded\n",
      "model load success!!!\n",
      "(316, 3, 640, 640)\n",
      "encoder :  efficientnet-b4\n",
      "unet loaded\n",
      "model load success!!!\n",
      "(175, 3, 640, 640)\n"
     ]
    },
    {
     "name": "stderr",
     "output_type": "stream",
     "text": [
      "100%|██████████| 182/182 [00:09<00:00, 19.84it/s]\n"
     ]
    },
    {
     "name": "stdout",
     "output_type": "stream",
     "text": [
      "fold : 5, dice score : 0.9478895961888355\n",
      "threshold : 0.5, min size : 1000, dice : 0.9407015277163449\n",
      "encoder :  efficientnet-b4\n",
      "unet loaded\n",
      "model load success!!!\n",
      "(157, 3, 640, 640)\n",
      "encoder :  efficientnet-b4\n",
      "unet loaded\n",
      "model load success!!!\n",
      "(374, 3, 640, 640)\n",
      "encoder :  efficientnet-b4\n",
      "unet loaded\n",
      "model load success!!!\n",
      "(241, 3, 640, 640)\n"
     ]
    },
    {
     "name": "stderr",
     "output_type": "stream",
     "text": [
      "100%|██████████| 187/187 [00:19<00:00,  9.42it/s]\n"
     ]
    },
    {
     "name": "stdout",
     "output_type": "stream",
     "text": [
      "fold : 1, dice score : 0.9411737522535178\n",
      "encoder :  efficientnet-b4\n",
      "unet loaded\n",
      "model load success!!!\n",
      "(256, 3, 640, 640)\n",
      "encoder :  efficientnet-b4\n",
      "unet loaded\n",
      "model load success!!!\n",
      "(140, 3, 640, 640)\n",
      "encoder :  efficientnet-b4\n",
      "unet loaded\n",
      "model load success!!!\n",
      "(589, 3, 640, 640)\n"
     ]
    },
    {
     "name": "stderr",
     "output_type": "stream",
     "text": [
      "100%|██████████| 447/447 [01:44<00:00,  4.26it/s]\n"
     ]
    },
    {
     "name": "stdout",
     "output_type": "stream",
     "text": [
      "fold : 2, dice score : 0.9449185960875506\n",
      "encoder :  efficientnet-b4\n",
      "unet loaded\n",
      "model load success!!!\n",
      "(139, 3, 640, 640)\n",
      "encoder :  efficientnet-b4\n",
      "unet loaded\n",
      "model load success!!!\n",
      "(438, 3, 640, 640)\n",
      "encoder :  efficientnet-b4\n",
      "unet loaded\n",
      "model load success!!!\n",
      "(63, 3, 640, 640)\n"
     ]
    },
    {
     "name": "stderr",
     "output_type": "stream",
     "text": [
      "100%|██████████| 105/105 [00:02<00:00, 36.92it/s]\n"
     ]
    },
    {
     "name": "stdout",
     "output_type": "stream",
     "text": [
      "fold : 3, dice score : 0.9284524754593545\n",
      "encoder :  efficientnet-b4\n",
      "unet loaded\n",
      "model load success!!!\n",
      "(358, 3, 640, 640)\n",
      "encoder :  efficientnet-b4\n",
      "unet loaded\n",
      "model load success!!!\n",
      "(95, 3, 640, 640)\n",
      "encoder :  efficientnet-b4\n",
      "unet loaded\n",
      "model load success!!!\n",
      "(305, 3, 640, 640)\n"
     ]
    },
    {
     "name": "stderr",
     "output_type": "stream",
     "text": [
      "100%|██████████| 482/482 [01:06<00:00,  7.23it/s]\n"
     ]
    },
    {
     "name": "stdout",
     "output_type": "stream",
     "text": [
      "fold : 4, dice score : 0.9426467920515796\n",
      "encoder :  efficientnet-b4\n",
      "unet loaded\n",
      "model load success!!!\n",
      "(312, 3, 640, 640)\n",
      "encoder :  efficientnet-b4\n",
      "unet loaded\n",
      "model load success!!!\n",
      "(316, 3, 640, 640)\n",
      "encoder :  efficientnet-b4\n",
      "unet loaded\n",
      "model load success!!!\n",
      "(175, 3, 640, 640)\n"
     ]
    },
    {
     "name": "stderr",
     "output_type": "stream",
     "text": [
      "100%|██████████| 182/182 [00:07<00:00, 24.09it/s]\n"
     ]
    },
    {
     "name": "stdout",
     "output_type": "stream",
     "text": [
      "fold : 5, dice score : 0.9478895961888355\n",
      "threshold : 0.5, min size : 1100, dice : 0.9410162424081676\n",
      "encoder :  efficientnet-b4\n",
      "unet loaded\n",
      "model load success!!!\n",
      "(157, 3, 640, 640)\n",
      "encoder :  efficientnet-b4\n",
      "unet loaded\n",
      "model load success!!!\n",
      "(374, 3, 640, 640)\n",
      "encoder :  efficientnet-b4\n",
      "unet loaded\n",
      "model load success!!!\n",
      "(241, 3, 640, 640)\n"
     ]
    },
    {
     "name": "stderr",
     "output_type": "stream",
     "text": [
      "100%|██████████| 187/187 [00:18<00:00,  9.87it/s]\n"
     ]
    },
    {
     "name": "stdout",
     "output_type": "stream",
     "text": [
      "fold : 1, dice score : 0.9411737522535178\n",
      "encoder :  efficientnet-b4\n",
      "unet loaded\n",
      "model load success!!!\n",
      "(256, 3, 640, 640)\n",
      "encoder :  efficientnet-b4\n",
      "unet loaded\n",
      "model load success!!!\n",
      "(140, 3, 640, 640)\n",
      "encoder :  efficientnet-b4\n",
      "unet loaded\n",
      "model load success!!!\n",
      "(589, 3, 640, 640)\n"
     ]
    },
    {
     "name": "stderr",
     "output_type": "stream",
     "text": [
      "100%|██████████| 447/447 [01:45<00:00,  4.23it/s]\n"
     ]
    },
    {
     "name": "stdout",
     "output_type": "stream",
     "text": [
      "fold : 2, dice score : 0.9449185960875506\n",
      "encoder :  efficientnet-b4\n",
      "unet loaded\n",
      "model load success!!!\n",
      "(139, 3, 640, 640)\n",
      "encoder :  efficientnet-b4\n",
      "unet loaded\n",
      "model load success!!!\n",
      "(438, 3, 640, 640)\n",
      "encoder :  efficientnet-b4\n",
      "unet loaded\n",
      "model load success!!!\n",
      "(63, 3, 640, 640)\n"
     ]
    },
    {
     "name": "stderr",
     "output_type": "stream",
     "text": [
      "100%|██████████| 105/105 [00:02<00:00, 43.03it/s]\n"
     ]
    },
    {
     "name": "stdout",
     "output_type": "stream",
     "text": [
      "fold : 3, dice score : 0.9284524754593545\n",
      "encoder :  efficientnet-b4\n",
      "unet loaded\n",
      "model load success!!!\n",
      "(358, 3, 640, 640)\n",
      "encoder :  efficientnet-b4\n",
      "unet loaded\n",
      "model load success!!!\n",
      "(95, 3, 640, 640)\n",
      "encoder :  efficientnet-b4\n",
      "unet loaded\n",
      "model load success!!!\n",
      "(305, 3, 640, 640)\n"
     ]
    },
    {
     "name": "stderr",
     "output_type": "stream",
     "text": [
      "100%|██████████| 482/482 [01:06<00:00,  7.21it/s]\n"
     ]
    },
    {
     "name": "stdout",
     "output_type": "stream",
     "text": [
      "fold : 4, dice score : 0.9432595599134025\n",
      "encoder :  efficientnet-b4\n",
      "unet loaded\n",
      "model load success!!!\n",
      "(312, 3, 640, 640)\n",
      "encoder :  efficientnet-b4\n",
      "unet loaded\n",
      "model load success!!!\n",
      "(316, 3, 640, 640)\n",
      "encoder :  efficientnet-b4\n",
      "unet loaded\n",
      "model load success!!!\n",
      "(175, 3, 640, 640)\n"
     ]
    },
    {
     "name": "stderr",
     "output_type": "stream",
     "text": [
      "100%|██████████| 182/182 [00:07<00:00, 24.01it/s]\n"
     ]
    },
    {
     "name": "stdout",
     "output_type": "stream",
     "text": [
      "fold : 5, dice score : 0.9478895961888355\n",
      "threshold : 0.5, min size : 1200, dice : 0.9411387959805323\n",
      "encoder :  efficientnet-b4\n",
      "unet loaded\n",
      "model load success!!!\n",
      "(157, 3, 640, 640)\n",
      "encoder :  efficientnet-b4\n",
      "unet loaded\n",
      "model load success!!!\n",
      "(374, 3, 640, 640)\n",
      "encoder :  efficientnet-b4\n",
      "unet loaded\n",
      "model load success!!!\n",
      "(241, 3, 640, 640)\n"
     ]
    },
    {
     "name": "stderr",
     "output_type": "stream",
     "text": [
      "100%|██████████| 187/187 [00:18<00:00, 10.01it/s]\n"
     ]
    },
    {
     "name": "stdout",
     "output_type": "stream",
     "text": [
      "fold : 1, dice score : 0.9411737522535178\n",
      "encoder :  efficientnet-b4\n",
      "unet loaded\n",
      "model load success!!!\n",
      "(256, 3, 640, 640)\n",
      "encoder :  efficientnet-b4\n",
      "unet loaded\n",
      "model load success!!!\n",
      "(140, 3, 640, 640)\n",
      "encoder :  efficientnet-b4\n",
      "unet loaded\n",
      "model load success!!!\n",
      "(589, 3, 640, 640)\n"
     ]
    },
    {
     "name": "stderr",
     "output_type": "stream",
     "text": [
      "100%|██████████| 447/447 [01:45<00:00,  4.22it/s]\n"
     ]
    },
    {
     "name": "stdout",
     "output_type": "stream",
     "text": [
      "fold : 2, dice score : 0.9449185960875506\n",
      "encoder :  efficientnet-b4\n",
      "unet loaded\n",
      "model load success!!!\n",
      "(139, 3, 640, 640)\n",
      "encoder :  efficientnet-b4\n",
      "unet loaded\n",
      "model load success!!!\n",
      "(438, 3, 640, 640)\n",
      "encoder :  efficientnet-b4\n",
      "unet loaded\n",
      "model load success!!!\n",
      "(63, 3, 640, 640)\n"
     ]
    },
    {
     "name": "stderr",
     "output_type": "stream",
     "text": [
      "100%|██████████| 105/105 [00:02<00:00, 44.11it/s]\n"
     ]
    },
    {
     "name": "stdout",
     "output_type": "stream",
     "text": [
      "fold : 3, dice score : 0.9237673081151798\n",
      "encoder :  efficientnet-b4\n",
      "unet loaded\n",
      "model load success!!!\n",
      "(358, 3, 640, 640)\n",
      "encoder :  efficientnet-b4\n",
      "unet loaded\n",
      "model load success!!!\n",
      "(95, 3, 640, 640)\n",
      "encoder :  efficientnet-b4\n",
      "unet loaded\n",
      "model load success!!!\n",
      "(305, 3, 640, 640)\n"
     ]
    },
    {
     "name": "stderr",
     "output_type": "stream",
     "text": [
      "100%|██████████| 482/482 [01:08<00:00,  7.08it/s]\n"
     ]
    },
    {
     "name": "stdout",
     "output_type": "stream",
     "text": [
      "fold : 4, dice score : 0.9432555227042103\n",
      "encoder :  efficientnet-b4\n",
      "unet loaded\n",
      "model load success!!!\n",
      "(312, 3, 640, 640)\n",
      "encoder :  efficientnet-b4\n",
      "unet loaded\n",
      "model load success!!!\n",
      "(316, 3, 640, 640)\n",
      "encoder :  efficientnet-b4\n",
      "unet loaded\n",
      "model load success!!!\n",
      "(175, 3, 640, 640)\n"
     ]
    },
    {
     "name": "stderr",
     "output_type": "stream",
     "text": [
      "100%|██████████| 182/182 [00:09<00:00, 19.78it/s]\n"
     ]
    },
    {
     "name": "stdout",
     "output_type": "stream",
     "text": [
      "fold : 5, dice score : 0.9478895961888355\n",
      "threshold : 0.5, min size : 1300, dice : 0.9402009550698589\n",
      "encoder :  efficientnet-b4\n",
      "unet loaded\n",
      "model load success!!!\n",
      "(157, 3, 640, 640)\n",
      "encoder :  efficientnet-b4\n",
      "unet loaded\n",
      "model load success!!!\n",
      "(374, 3, 640, 640)\n",
      "encoder :  efficientnet-b4\n",
      "unet loaded\n",
      "model load success!!!\n",
      "(241, 3, 640, 640)\n"
     ]
    },
    {
     "name": "stderr",
     "output_type": "stream",
     "text": [
      "100%|██████████| 187/187 [00:17<00:00, 10.45it/s]\n"
     ]
    },
    {
     "name": "stdout",
     "output_type": "stream",
     "text": [
      "fold : 1, dice score : 0.9411737522535178\n",
      "encoder :  efficientnet-b4\n",
      "unet loaded\n",
      "model load success!!!\n",
      "(256, 3, 640, 640)\n",
      "encoder :  efficientnet-b4\n",
      "unet loaded\n",
      "model load success!!!\n",
      "(140, 3, 640, 640)\n",
      "encoder :  efficientnet-b4\n",
      "unet loaded\n",
      "model load success!!!\n",
      "(589, 3, 640, 640)\n"
     ]
    },
    {
     "name": "stderr",
     "output_type": "stream",
     "text": [
      "100%|██████████| 447/447 [01:43<00:00,  4.30it/s]\n"
     ]
    },
    {
     "name": "stdout",
     "output_type": "stream",
     "text": [
      "fold : 2, dice score : 0.9449185960875506\n",
      "encoder :  efficientnet-b4\n",
      "unet loaded\n",
      "model load success!!!\n",
      "(139, 3, 640, 640)\n",
      "encoder :  efficientnet-b4\n",
      "unet loaded\n",
      "model load success!!!\n",
      "(438, 3, 640, 640)\n",
      "encoder :  efficientnet-b4\n",
      "unet loaded\n",
      "model load success!!!\n",
      "(63, 3, 640, 640)\n"
     ]
    },
    {
     "name": "stderr",
     "output_type": "stream",
     "text": [
      "100%|██████████| 105/105 [00:02<00:00, 44.86it/s]\n"
     ]
    },
    {
     "name": "stdout",
     "output_type": "stream",
     "text": [
      "fold : 3, dice score : 0.9261763747830769\n",
      "encoder :  efficientnet-b4\n",
      "unet loaded\n",
      "model load success!!!\n",
      "(358, 3, 640, 640)\n",
      "encoder :  efficientnet-b4\n",
      "unet loaded\n",
      "model load success!!!\n",
      "(95, 3, 640, 640)\n",
      "encoder :  efficientnet-b4\n",
      "unet loaded\n",
      "model load success!!!\n",
      "(305, 3, 640, 640)\n"
     ]
    },
    {
     "name": "stderr",
     "output_type": "stream",
     "text": [
      "100%|██████████| 482/482 [01:07<00:00,  7.13it/s]\n"
     ]
    },
    {
     "name": "stdout",
     "output_type": "stream",
     "text": [
      "fold : 4, dice score : 0.9416260672884935\n",
      "encoder :  efficientnet-b4\n",
      "unet loaded\n",
      "model load success!!!\n",
      "(312, 3, 640, 640)\n",
      "encoder :  efficientnet-b4\n",
      "unet loaded\n",
      "model load success!!!\n",
      "(316, 3, 640, 640)\n",
      "encoder :  efficientnet-b4\n",
      "unet loaded\n",
      "model load success!!!\n",
      "(175, 3, 640, 640)\n"
     ]
    },
    {
     "name": "stderr",
     "output_type": "stream",
     "text": [
      "100%|██████████| 182/182 [00:09<00:00, 19.93it/s]\n"
     ]
    },
    {
     "name": "stdout",
     "output_type": "stream",
     "text": [
      "fold : 5, dice score : 0.9478895961888355\n",
      "threshold : 0.5, min size : 1400, dice : 0.9403568773202948\n",
      "encoder :  efficientnet-b4\n",
      "unet loaded\n",
      "model load success!!!\n",
      "(157, 3, 640, 640)\n",
      "encoder :  efficientnet-b4\n",
      "unet loaded\n",
      "model load success!!!\n",
      "(374, 3, 640, 640)\n",
      "encoder :  efficientnet-b4\n",
      "unet loaded\n",
      "model load success!!!\n",
      "(241, 3, 640, 640)\n"
     ]
    },
    {
     "name": "stderr",
     "output_type": "stream",
     "text": [
      "100%|██████████| 188/188 [00:18<00:00, 10.31it/s]\n"
     ]
    },
    {
     "name": "stdout",
     "output_type": "stream",
     "text": [
      "fold : 1, dice score : 0.9419319169049349\n",
      "encoder :  efficientnet-b4\n",
      "unet loaded\n",
      "model load success!!!\n",
      "(256, 3, 640, 640)\n",
      "encoder :  efficientnet-b4\n",
      "unet loaded\n",
      "model load success!!!\n",
      "(140, 3, 640, 640)\n",
      "encoder :  efficientnet-b4\n",
      "unet loaded\n",
      "model load success!!!\n",
      "(589, 3, 640, 640)\n"
     ]
    },
    {
     "name": "stderr",
     "output_type": "stream",
     "text": [
      "100%|██████████| 436/436 [01:42<00:00,  4.25it/s]\n"
     ]
    },
    {
     "name": "stdout",
     "output_type": "stream",
     "text": [
      "fold : 2, dice score : 0.9426051097884404\n",
      "encoder :  efficientnet-b4\n",
      "unet loaded\n",
      "model load success!!!\n",
      "(139, 3, 640, 640)\n",
      "encoder :  efficientnet-b4\n",
      "unet loaded\n",
      "model load success!!!\n",
      "(438, 3, 640, 640)\n",
      "encoder :  efficientnet-b4\n",
      "unet loaded\n",
      "model load success!!!\n",
      "(63, 3, 640, 640)\n"
     ]
    },
    {
     "name": "stderr",
     "output_type": "stream",
     "text": [
      "100%|██████████| 120/120 [00:02<00:00, 43.86it/s]\n"
     ]
    },
    {
     "name": "stdout",
     "output_type": "stream",
     "text": [
      "fold : 3, dice score : 0.9219588822931875\n",
      "encoder :  efficientnet-b4\n",
      "unet loaded\n",
      "model load success!!!\n",
      "(358, 3, 640, 640)\n",
      "encoder :  efficientnet-b4\n",
      "unet loaded\n",
      "model load success!!!\n",
      "(95, 3, 640, 640)\n",
      "encoder :  efficientnet-b4\n",
      "unet loaded\n",
      "model load success!!!\n",
      "(305, 3, 640, 640)\n"
     ]
    },
    {
     "name": "stderr",
     "output_type": "stream",
     "text": [
      "100%|██████████| 486/486 [01:19<00:00,  6.14it/s]\n"
     ]
    },
    {
     "name": "stdout",
     "output_type": "stream",
     "text": [
      "fold : 4, dice score : 0.9427961297371703\n",
      "encoder :  efficientnet-b4\n",
      "unet loaded\n",
      "model load success!!!\n",
      "(312, 3, 640, 640)\n",
      "encoder :  efficientnet-b4\n",
      "unet loaded\n",
      "model load success!!!\n",
      "(316, 3, 640, 640)\n",
      "encoder :  efficientnet-b4\n",
      "unet loaded\n",
      "model load success!!!\n",
      "(175, 3, 640, 640)\n"
     ]
    },
    {
     "name": "stderr",
     "output_type": "stream",
     "text": [
      "100%|██████████| 180/180 [00:09<00:00, 19.32it/s]\n"
     ]
    },
    {
     "name": "stdout",
     "output_type": "stream",
     "text": [
      "fold : 5, dice score : 0.947760037874524\n",
      "threshold : 0.6, min size : 100, dice : 0.9394104153196514\n",
      "encoder :  efficientnet-b4\n",
      "unet loaded\n",
      "model load success!!!\n",
      "(157, 3, 640, 640)\n",
      "encoder :  efficientnet-b4\n",
      "unet loaded\n",
      "model load success!!!\n",
      "(374, 3, 640, 640)\n",
      "encoder :  efficientnet-b4\n",
      "unet loaded\n",
      "model load success!!!\n",
      "(241, 3, 640, 640)\n"
     ]
    },
    {
     "name": "stderr",
     "output_type": "stream",
     "text": [
      "100%|██████████| 188/188 [00:19<00:00,  9.60it/s]\n"
     ]
    },
    {
     "name": "stdout",
     "output_type": "stream",
     "text": [
      "fold : 1, dice score : 0.9419878680045292\n",
      "encoder :  efficientnet-b4\n",
      "unet loaded\n",
      "model load success!!!\n",
      "(256, 3, 640, 640)\n",
      "encoder :  efficientnet-b4\n",
      "unet loaded\n",
      "model load success!!!\n",
      "(140, 3, 640, 640)\n",
      "encoder :  efficientnet-b4\n",
      "unet loaded\n",
      "model load success!!!\n",
      "(589, 3, 640, 640)\n"
     ]
    },
    {
     "name": "stderr",
     "output_type": "stream",
     "text": [
      "100%|██████████| 436/436 [01:44<00:00,  4.18it/s]\n"
     ]
    },
    {
     "name": "stdout",
     "output_type": "stream",
     "text": [
      "fold : 2, dice score : 0.9426051097884404\n",
      "encoder :  efficientnet-b4\n",
      "unet loaded\n",
      "model load success!!!\n",
      "(139, 3, 640, 640)\n",
      "encoder :  efficientnet-b4\n",
      "unet loaded\n",
      "model load success!!!\n",
      "(438, 3, 640, 640)\n",
      "encoder :  efficientnet-b4\n",
      "unet loaded\n",
      "model load success!!!\n",
      "(63, 3, 640, 640)\n"
     ]
    },
    {
     "name": "stderr",
     "output_type": "stream",
     "text": [
      "100%|██████████| 120/120 [00:03<00:00, 35.01it/s]\n"
     ]
    },
    {
     "name": "stdout",
     "output_type": "stream",
     "text": [
      "fold : 3, dice score : 0.9219588822931875\n",
      "encoder :  efficientnet-b4\n",
      "unet loaded\n",
      "model load success!!!\n",
      "(358, 3, 640, 640)\n",
      "encoder :  efficientnet-b4\n",
      "unet loaded\n",
      "model load success!!!\n",
      "(95, 3, 640, 640)\n",
      "encoder :  efficientnet-b4\n",
      "unet loaded\n",
      "model load success!!!\n",
      "(305, 3, 640, 640)\n"
     ]
    },
    {
     "name": "stderr",
     "output_type": "stream",
     "text": [
      "100%|██████████| 486/486 [01:11<00:00,  6.77it/s]\n"
     ]
    },
    {
     "name": "stdout",
     "output_type": "stream",
     "text": [
      "fold : 4, dice score : 0.9427480863990632\n",
      "encoder :  efficientnet-b4\n",
      "unet loaded\n",
      "model load success!!!\n",
      "(312, 3, 640, 640)\n",
      "encoder :  efficientnet-b4\n",
      "unet loaded\n",
      "model load success!!!\n",
      "(316, 3, 640, 640)\n",
      "encoder :  efficientnet-b4\n",
      "unet loaded\n",
      "model load success!!!\n",
      "(175, 3, 640, 640)\n"
     ]
    },
    {
     "name": "stderr",
     "output_type": "stream",
     "text": [
      "100%|██████████| 180/180 [00:09<00:00, 19.83it/s]\n"
     ]
    },
    {
     "name": "stdout",
     "output_type": "stream",
     "text": [
      "fold : 5, dice score : 0.947760037874524\n",
      "threshold : 0.6, min size : 200, dice : 0.9394119968719487\n",
      "encoder :  efficientnet-b4\n",
      "unet loaded\n",
      "model load success!!!\n",
      "(157, 3, 640, 640)\n",
      "encoder :  efficientnet-b4\n",
      "unet loaded\n",
      "model load success!!!\n",
      "(374, 3, 640, 640)\n",
      "encoder :  efficientnet-b4\n",
      "unet loaded\n",
      "model load success!!!\n",
      "(241, 3, 640, 640)\n"
     ]
    },
    {
     "name": "stderr",
     "output_type": "stream",
     "text": [
      "100%|██████████| 188/188 [00:16<00:00, 11.73it/s]\n"
     ]
    },
    {
     "name": "stdout",
     "output_type": "stream",
     "text": [
      "fold : 1, dice score : 0.9419878680045292\n",
      "encoder :  efficientnet-b4\n",
      "unet loaded\n",
      "model load success!!!\n",
      "(256, 3, 640, 640)\n",
      "encoder :  efficientnet-b4\n",
      "unet loaded\n",
      "model load success!!!\n",
      "(140, 3, 640, 640)\n",
      "encoder :  efficientnet-b4\n",
      "unet loaded\n",
      "model load success!!!\n",
      "(589, 3, 640, 640)\n"
     ]
    },
    {
     "name": "stderr",
     "output_type": "stream",
     "text": [
      "100%|██████████| 436/436 [01:40<00:00,  4.33it/s]\n"
     ]
    },
    {
     "name": "stdout",
     "output_type": "stream",
     "text": [
      "fold : 2, dice score : 0.9426051097884404\n",
      "encoder :  efficientnet-b4\n",
      "unet loaded\n",
      "model load success!!!\n",
      "(139, 3, 640, 640)\n",
      "encoder :  efficientnet-b4\n",
      "unet loaded\n",
      "model load success!!!\n",
      "(438, 3, 640, 640)\n",
      "encoder :  efficientnet-b4\n",
      "unet loaded\n",
      "model load success!!!\n",
      "(63, 3, 640, 640)\n"
     ]
    },
    {
     "name": "stderr",
     "output_type": "stream",
     "text": [
      "100%|██████████| 120/120 [00:03<00:00, 36.29it/s]\n"
     ]
    },
    {
     "name": "stdout",
     "output_type": "stream",
     "text": [
      "fold : 3, dice score : 0.92136230864781\n",
      "encoder :  efficientnet-b4\n",
      "unet loaded\n",
      "model load success!!!\n",
      "(358, 3, 640, 640)\n",
      "encoder :  efficientnet-b4\n",
      "unet loaded\n",
      "model load success!!!\n",
      "(95, 3, 640, 640)\n",
      "encoder :  efficientnet-b4\n",
      "unet loaded\n",
      "model load success!!!\n",
      "(305, 3, 640, 640)\n"
     ]
    },
    {
     "name": "stderr",
     "output_type": "stream",
     "text": [
      "100%|██████████| 486/486 [01:09<00:00,  6.98it/s]\n"
     ]
    },
    {
     "name": "stdout",
     "output_type": "stream",
     "text": [
      "fold : 4, dice score : 0.9427480863990632\n",
      "encoder :  efficientnet-b4\n",
      "unet loaded\n",
      "model load success!!!\n",
      "(312, 3, 640, 640)\n",
      "encoder :  efficientnet-b4\n",
      "unet loaded\n",
      "model load success!!!\n",
      "(316, 3, 640, 640)\n",
      "encoder :  efficientnet-b4\n",
      "unet loaded\n",
      "model load success!!!\n",
      "(175, 3, 640, 640)\n"
     ]
    },
    {
     "name": "stderr",
     "output_type": "stream",
     "text": [
      "100%|██████████| 180/180 [00:09<00:00, 19.29it/s]\n"
     ]
    },
    {
     "name": "stdout",
     "output_type": "stream",
     "text": [
      "fold : 5, dice score : 0.947760037874524\n",
      "threshold : 0.6, min size : 300, dice : 0.9392926821428732\n",
      "encoder :  efficientnet-b4\n",
      "unet loaded\n",
      "model load success!!!\n",
      "(157, 3, 640, 640)\n",
      "encoder :  efficientnet-b4\n",
      "unet loaded\n",
      "model load success!!!\n",
      "(374, 3, 640, 640)\n",
      "encoder :  efficientnet-b4\n",
      "unet loaded\n",
      "model load success!!!\n",
      "(241, 3, 640, 640)\n"
     ]
    },
    {
     "name": "stderr",
     "output_type": "stream",
     "text": [
      "100%|██████████| 188/188 [00:14<00:00, 12.89it/s]\n"
     ]
    },
    {
     "name": "stdout",
     "output_type": "stream",
     "text": [
      "fold : 1, dice score : 0.9419878680045292\n",
      "encoder :  efficientnet-b4\n",
      "unet loaded\n",
      "model load success!!!\n",
      "(256, 3, 640, 640)\n",
      "encoder :  efficientnet-b4\n",
      "unet loaded\n",
      "model load success!!!\n",
      "(140, 3, 640, 640)\n",
      "encoder :  efficientnet-b4\n",
      "unet loaded\n",
      "model load success!!!\n",
      "(589, 3, 640, 640)\n"
     ]
    },
    {
     "name": "stderr",
     "output_type": "stream",
     "text": [
      "100%|██████████| 436/436 [01:41<00:00,  4.31it/s]\n"
     ]
    },
    {
     "name": "stdout",
     "output_type": "stream",
     "text": [
      "fold : 2, dice score : 0.9425331429534913\n",
      "encoder :  efficientnet-b4\n",
      "unet loaded\n",
      "model load success!!!\n",
      "(139, 3, 640, 640)\n",
      "encoder :  efficientnet-b4\n",
      "unet loaded\n",
      "model load success!!!\n",
      "(438, 3, 640, 640)\n",
      "encoder :  efficientnet-b4\n",
      "unet loaded\n",
      "model load success!!!\n",
      "(63, 3, 640, 640)\n"
     ]
    },
    {
     "name": "stderr",
     "output_type": "stream",
     "text": [
      "100%|██████████| 120/120 [00:03<00:00, 34.06it/s]\n"
     ]
    },
    {
     "name": "stdout",
     "output_type": "stream",
     "text": [
      "fold : 3, dice score : 0.92136230864781\n",
      "encoder :  efficientnet-b4\n",
      "unet loaded\n",
      "model load success!!!\n",
      "(358, 3, 640, 640)\n",
      "encoder :  efficientnet-b4\n",
      "unet loaded\n",
      "model load success!!!\n",
      "(95, 3, 640, 640)\n",
      "encoder :  efficientnet-b4\n",
      "unet loaded\n",
      "model load success!!!\n",
      "(305, 3, 640, 640)\n"
     ]
    },
    {
     "name": "stderr",
     "output_type": "stream",
     "text": [
      "100%|██████████| 486/486 [01:06<00:00,  7.31it/s]\n"
     ]
    },
    {
     "name": "stdout",
     "output_type": "stream",
     "text": [
      "fold : 4, dice score : 0.9427480863990632\n",
      "encoder :  efficientnet-b4\n",
      "unet loaded\n",
      "model load success!!!\n",
      "(312, 3, 640, 640)\n",
      "encoder :  efficientnet-b4\n",
      "unet loaded\n",
      "model load success!!!\n",
      "(316, 3, 640, 640)\n",
      "encoder :  efficientnet-b4\n",
      "unet loaded\n",
      "model load success!!!\n",
      "(175, 3, 640, 640)\n"
     ]
    },
    {
     "name": "stderr",
     "output_type": "stream",
     "text": [
      "100%|██████████| 180/180 [00:08<00:00, 20.39it/s]\n"
     ]
    },
    {
     "name": "stdout",
     "output_type": "stream",
     "text": [
      "fold : 5, dice score : 0.947760037874524\n",
      "threshold : 0.6, min size : 400, dice : 0.9392782887758834\n",
      "encoder :  efficientnet-b4\n",
      "unet loaded\n",
      "model load success!!!\n",
      "(157, 3, 640, 640)\n",
      "encoder :  efficientnet-b4\n",
      "unet loaded\n",
      "model load success!!!\n",
      "(374, 3, 640, 640)\n",
      "encoder :  efficientnet-b4\n",
      "unet loaded\n",
      "model load success!!!\n",
      "(241, 3, 640, 640)\n"
     ]
    },
    {
     "name": "stderr",
     "output_type": "stream",
     "text": [
      "100%|██████████| 188/188 [00:16<00:00, 11.60it/s]\n"
     ]
    },
    {
     "name": "stdout",
     "output_type": "stream",
     "text": [
      "fold : 1, dice score : 0.9419878680045292\n",
      "encoder :  efficientnet-b4\n",
      "unet loaded\n",
      "model load success!!!\n",
      "(256, 3, 640, 640)\n",
      "encoder :  efficientnet-b4\n",
      "unet loaded\n",
      "model load success!!!\n",
      "(140, 3, 640, 640)\n",
      "encoder :  efficientnet-b4\n",
      "unet loaded\n",
      "model load success!!!\n",
      "(589, 3, 640, 640)\n"
     ]
    },
    {
     "name": "stderr",
     "output_type": "stream",
     "text": [
      "100%|██████████| 436/436 [01:41<00:00,  4.30it/s]\n"
     ]
    },
    {
     "name": "stdout",
     "output_type": "stream",
     "text": [
      "fold : 2, dice score : 0.9425331429534913\n",
      "encoder :  efficientnet-b4\n",
      "unet loaded\n",
      "model load success!!!\n",
      "(139, 3, 640, 640)\n",
      "encoder :  efficientnet-b4\n",
      "unet loaded\n",
      "model load success!!!\n",
      "(438, 3, 640, 640)\n",
      "encoder :  efficientnet-b4\n",
      "unet loaded\n",
      "model load success!!!\n",
      "(63, 3, 640, 640)\n"
     ]
    },
    {
     "name": "stderr",
     "output_type": "stream",
     "text": [
      "100%|██████████| 120/120 [00:03<00:00, 36.91it/s]\n"
     ]
    },
    {
     "name": "stdout",
     "output_type": "stream",
     "text": [
      "fold : 3, dice score : 0.9203344488842427\n",
      "encoder :  efficientnet-b4\n",
      "unet loaded\n",
      "model load success!!!\n",
      "(358, 3, 640, 640)\n",
      "encoder :  efficientnet-b4\n",
      "unet loaded\n",
      "model load success!!!\n",
      "(95, 3, 640, 640)\n",
      "encoder :  efficientnet-b4\n",
      "unet loaded\n",
      "model load success!!!\n",
      "(305, 3, 640, 640)\n"
     ]
    },
    {
     "name": "stderr",
     "output_type": "stream",
     "text": [
      "100%|██████████| 486/486 [01:09<00:00,  7.04it/s]\n"
     ]
    },
    {
     "name": "stdout",
     "output_type": "stream",
     "text": [
      "fold : 4, dice score : 0.9430119554374737\n",
      "encoder :  efficientnet-b4\n",
      "unet loaded\n",
      "model load success!!!\n",
      "(312, 3, 640, 640)\n",
      "encoder :  efficientnet-b4\n",
      "unet loaded\n",
      "model load success!!!\n",
      "(316, 3, 640, 640)\n",
      "encoder :  efficientnet-b4\n",
      "unet loaded\n",
      "model load success!!!\n",
      "(175, 3, 640, 640)\n"
     ]
    },
    {
     "name": "stderr",
     "output_type": "stream",
     "text": [
      "100%|██████████| 180/180 [00:08<00:00, 20.44it/s]\n"
     ]
    },
    {
     "name": "stdout",
     "output_type": "stream",
     "text": [
      "fold : 5, dice score : 0.947760037874524\n",
      "threshold : 0.6, min size : 500, dice : 0.9391254906308522\n",
      "encoder :  efficientnet-b4\n",
      "unet loaded\n",
      "model load success!!!\n",
      "(157, 3, 640, 640)\n",
      "encoder :  efficientnet-b4\n",
      "unet loaded\n",
      "model load success!!!\n",
      "(374, 3, 640, 640)\n",
      "encoder :  efficientnet-b4\n",
      "unet loaded\n",
      "model load success!!!\n",
      "(241, 3, 640, 640)\n"
     ]
    },
    {
     "name": "stderr",
     "output_type": "stream",
     "text": [
      "100%|██████████| 188/188 [00:15<00:00, 11.82it/s]\n"
     ]
    },
    {
     "name": "stdout",
     "output_type": "stream",
     "text": [
      "fold : 1, dice score : 0.9419878680045292\n",
      "encoder :  efficientnet-b4\n",
      "unet loaded\n",
      "model load success!!!\n",
      "(256, 3, 640, 640)\n",
      "encoder :  efficientnet-b4\n",
      "unet loaded\n",
      "model load success!!!\n",
      "(140, 3, 640, 640)\n",
      "encoder :  efficientnet-b4\n",
      "unet loaded\n",
      "model load success!!!\n",
      "(589, 3, 640, 640)\n"
     ]
    },
    {
     "name": "stderr",
     "output_type": "stream",
     "text": [
      "100%|██████████| 436/436 [01:27<00:00,  4.98it/s]\n"
     ]
    },
    {
     "name": "stdout",
     "output_type": "stream",
     "text": [
      "fold : 2, dice score : 0.9425331429534913\n",
      "encoder :  efficientnet-b4\n",
      "unet loaded\n",
      "model load success!!!\n",
      "(139, 3, 640, 640)\n",
      "encoder :  efficientnet-b4\n",
      "unet loaded\n",
      "model load success!!!\n",
      "(438, 3, 640, 640)\n",
      "encoder :  efficientnet-b4\n",
      "unet loaded\n",
      "model load success!!!\n",
      "(63, 3, 640, 640)\n"
     ]
    },
    {
     "name": "stderr",
     "output_type": "stream",
     "text": [
      "100%|██████████| 120/120 [00:02<00:00, 45.20it/s]\n"
     ]
    },
    {
     "name": "stdout",
     "output_type": "stream",
     "text": [
      "fold : 3, dice score : 0.9191705087269298\n",
      "encoder :  efficientnet-b4\n",
      "unet loaded\n",
      "model load success!!!\n",
      "(358, 3, 640, 640)\n",
      "encoder :  efficientnet-b4\n",
      "unet loaded\n",
      "model load success!!!\n",
      "(95, 3, 640, 640)\n",
      "encoder :  efficientnet-b4\n",
      "unet loaded\n",
      "model load success!!!\n",
      "(305, 3, 640, 640)\n"
     ]
    },
    {
     "name": "stderr",
     "output_type": "stream",
     "text": [
      "100%|██████████| 486/486 [00:56<00:00,  8.60it/s]\n"
     ]
    },
    {
     "name": "stdout",
     "output_type": "stream",
     "text": [
      "fold : 4, dice score : 0.9431464492586387\n",
      "encoder :  efficientnet-b4\n",
      "unet loaded\n",
      "model load success!!!\n",
      "(312, 3, 640, 640)\n",
      "encoder :  efficientnet-b4\n",
      "unet loaded\n",
      "model load success!!!\n",
      "(316, 3, 640, 640)\n",
      "encoder :  efficientnet-b4\n",
      "unet loaded\n",
      "model load success!!!\n",
      "(175, 3, 640, 640)\n"
     ]
    },
    {
     "name": "stderr",
     "output_type": "stream",
     "text": [
      "100%|██████████| 180/180 [00:07<00:00, 24.38it/s]\n"
     ]
    },
    {
     "name": "stdout",
     "output_type": "stream",
     "text": [
      "fold : 5, dice score : 0.947760037874524\n",
      "threshold : 0.6, min size : 600, dice : 0.9389196013636226\n",
      "encoder :  efficientnet-b4\n",
      "unet loaded\n",
      "model load success!!!\n",
      "(157, 3, 640, 640)\n",
      "encoder :  efficientnet-b4\n",
      "unet loaded\n",
      "model load success!!!\n",
      "(374, 3, 640, 640)\n",
      "encoder :  efficientnet-b4\n",
      "unet loaded\n",
      "model load success!!!\n",
      "(241, 3, 640, 640)\n"
     ]
    },
    {
     "name": "stderr",
     "output_type": "stream",
     "text": [
      "100%|██████████| 188/188 [00:15<00:00, 11.76it/s]\n"
     ]
    },
    {
     "name": "stdout",
     "output_type": "stream",
     "text": [
      "fold : 1, dice score : 0.9419878680045292\n",
      "encoder :  efficientnet-b4\n",
      "unet loaded\n",
      "model load success!!!\n",
      "(256, 3, 640, 640)\n",
      "encoder :  efficientnet-b4\n",
      "unet loaded\n",
      "model load success!!!\n",
      "(140, 3, 640, 640)\n",
      "encoder :  efficientnet-b4\n",
      "unet loaded\n",
      "model load success!!!\n",
      "(589, 3, 640, 640)\n"
     ]
    },
    {
     "name": "stderr",
     "output_type": "stream",
     "text": [
      "100%|██████████| 436/436 [01:27<00:00,  5.00it/s]\n"
     ]
    },
    {
     "name": "stdout",
     "output_type": "stream",
     "text": [
      "fold : 2, dice score : 0.9425331429534913\n",
      "encoder :  efficientnet-b4\n",
      "unet loaded\n",
      "model load success!!!\n",
      "(139, 3, 640, 640)\n",
      "encoder :  efficientnet-b4\n",
      "unet loaded\n",
      "model load success!!!\n",
      "(438, 3, 640, 640)\n",
      "encoder :  efficientnet-b4\n",
      "unet loaded\n",
      "model load success!!!\n",
      "(63, 3, 640, 640)\n"
     ]
    },
    {
     "name": "stderr",
     "output_type": "stream",
     "text": [
      "100%|██████████| 120/120 [00:02<00:00, 44.61it/s]\n"
     ]
    },
    {
     "name": "stdout",
     "output_type": "stream",
     "text": [
      "fold : 3, dice score : 0.9162692818340702\n",
      "encoder :  efficientnet-b4\n",
      "unet loaded\n",
      "model load success!!!\n",
      "(358, 3, 640, 640)\n",
      "encoder :  efficientnet-b4\n",
      "unet loaded\n",
      "model load success!!!\n",
      "(95, 3, 640, 640)\n",
      "encoder :  efficientnet-b4\n",
      "unet loaded\n",
      "model load success!!!\n",
      "(305, 3, 640, 640)\n"
     ]
    },
    {
     "name": "stderr",
     "output_type": "stream",
     "text": [
      "100%|██████████| 486/486 [00:58<00:00,  8.35it/s]\n"
     ]
    },
    {
     "name": "stdout",
     "output_type": "stream",
     "text": [
      "fold : 4, dice score : 0.9431464492586387\n",
      "encoder :  efficientnet-b4\n",
      "unet loaded\n",
      "model load success!!!\n",
      "(312, 3, 640, 640)\n",
      "encoder :  efficientnet-b4\n",
      "unet loaded\n",
      "model load success!!!\n",
      "(316, 3, 640, 640)\n",
      "encoder :  efficientnet-b4\n",
      "unet loaded\n",
      "model load success!!!\n",
      "(175, 3, 640, 640)\n"
     ]
    },
    {
     "name": "stderr",
     "output_type": "stream",
     "text": [
      "100%|██████████| 180/180 [00:07<00:00, 25.35it/s]\n"
     ]
    },
    {
     "name": "stdout",
     "output_type": "stream",
     "text": [
      "fold : 5, dice score : 0.947760037874524\n",
      "threshold : 0.6, min size : 700, dice : 0.9383393559850507\n",
      "encoder :  efficientnet-b4\n",
      "unet loaded\n",
      "model load success!!!\n",
      "(157, 3, 640, 640)\n",
      "encoder :  efficientnet-b4\n",
      "unet loaded\n",
      "model load success!!!\n",
      "(374, 3, 640, 640)\n",
      "encoder :  efficientnet-b4\n",
      "unet loaded\n",
      "model load success!!!\n",
      "(241, 3, 640, 640)\n"
     ]
    },
    {
     "name": "stderr",
     "output_type": "stream",
     "text": [
      "100%|██████████| 188/188 [00:15<00:00, 11.83it/s]\n"
     ]
    },
    {
     "name": "stdout",
     "output_type": "stream",
     "text": [
      "fold : 1, dice score : 0.9419878680045292\n",
      "encoder :  efficientnet-b4\n",
      "unet loaded\n",
      "model load success!!!\n",
      "(256, 3, 640, 640)\n",
      "encoder :  efficientnet-b4\n",
      "unet loaded\n",
      "model load success!!!\n",
      "(140, 3, 640, 640)\n",
      "encoder :  efficientnet-b4\n",
      "unet loaded\n",
      "model load success!!!\n",
      "(589, 3, 640, 640)\n"
     ]
    },
    {
     "name": "stderr",
     "output_type": "stream",
     "text": [
      "100%|██████████| 436/436 [01:27<00:00,  5.01it/s]\n"
     ]
    },
    {
     "name": "stdout",
     "output_type": "stream",
     "text": [
      "fold : 2, dice score : 0.9423948621193509\n",
      "encoder :  efficientnet-b4\n",
      "unet loaded\n",
      "model load success!!!\n",
      "(139, 3, 640, 640)\n",
      "encoder :  efficientnet-b4\n",
      "unet loaded\n",
      "model load success!!!\n",
      "(438, 3, 640, 640)\n",
      "encoder :  efficientnet-b4\n",
      "unet loaded\n",
      "model load success!!!\n",
      "(63, 3, 640, 640)\n"
     ]
    },
    {
     "name": "stderr",
     "output_type": "stream",
     "text": [
      "100%|██████████| 120/120 [00:02<00:00, 49.40it/s]\n"
     ]
    },
    {
     "name": "stdout",
     "output_type": "stream",
     "text": [
      "fold : 3, dice score : 0.9162692818340702\n",
      "encoder :  efficientnet-b4\n",
      "unet loaded\n",
      "model load success!!!\n",
      "(358, 3, 640, 640)\n",
      "encoder :  efficientnet-b4\n",
      "unet loaded\n",
      "model load success!!!\n",
      "(95, 3, 640, 640)\n",
      "encoder :  efficientnet-b4\n",
      "unet loaded\n",
      "model load success!!!\n",
      "(305, 3, 640, 640)\n"
     ]
    },
    {
     "name": "stderr",
     "output_type": "stream",
     "text": [
      "100%|██████████| 486/486 [01:00<00:00,  8.04it/s]\n"
     ]
    },
    {
     "name": "stdout",
     "output_type": "stream",
     "text": [
      "fold : 4, dice score : 0.9431464492586387\n",
      "encoder :  efficientnet-b4\n",
      "unet loaded\n",
      "model load success!!!\n",
      "(312, 3, 640, 640)\n",
      "encoder :  efficientnet-b4\n",
      "unet loaded\n",
      "model load success!!!\n",
      "(316, 3, 640, 640)\n",
      "encoder :  efficientnet-b4\n",
      "unet loaded\n",
      "model load success!!!\n",
      "(175, 3, 640, 640)\n"
     ]
    },
    {
     "name": "stderr",
     "output_type": "stream",
     "text": [
      "100%|██████████| 180/180 [00:07<00:00, 24.02it/s]\n"
     ]
    },
    {
     "name": "stdout",
     "output_type": "stream",
     "text": [
      "fold : 5, dice score : 0.947760037874524\n",
      "threshold : 0.6, min size : 800, dice : 0.9383116998182226\n",
      "encoder :  efficientnet-b4\n",
      "unet loaded\n",
      "model load success!!!\n",
      "(157, 3, 640, 640)\n",
      "encoder :  efficientnet-b4\n",
      "unet loaded\n",
      "model load success!!!\n",
      "(374, 3, 640, 640)\n",
      "encoder :  efficientnet-b4\n",
      "unet loaded\n",
      "model load success!!!\n",
      "(241, 3, 640, 640)\n"
     ]
    },
    {
     "name": "stderr",
     "output_type": "stream",
     "text": [
      "100%|██████████| 188/188 [00:15<00:00, 12.22it/s]\n"
     ]
    },
    {
     "name": "stdout",
     "output_type": "stream",
     "text": [
      "fold : 1, dice score : 0.9419878680045292\n",
      "encoder :  efficientnet-b4\n",
      "unet loaded\n",
      "model load success!!!\n",
      "(256, 3, 640, 640)\n",
      "encoder :  efficientnet-b4\n",
      "unet loaded\n",
      "model load success!!!\n",
      "(140, 3, 640, 640)\n",
      "encoder :  efficientnet-b4\n",
      "unet loaded\n",
      "model load success!!!\n",
      "(589, 3, 640, 640)\n"
     ]
    },
    {
     "name": "stderr",
     "output_type": "stream",
     "text": [
      "100%|██████████| 436/436 [01:26<00:00,  5.03it/s]\n"
     ]
    },
    {
     "name": "stdout",
     "output_type": "stream",
     "text": [
      "fold : 2, dice score : 0.9423948621193509\n",
      "encoder :  efficientnet-b4\n",
      "unet loaded\n",
      "model load success!!!\n",
      "(139, 3, 640, 640)\n",
      "encoder :  efficientnet-b4\n",
      "unet loaded\n",
      "model load success!!!\n",
      "(438, 3, 640, 640)\n",
      "encoder :  efficientnet-b4\n",
      "unet loaded\n",
      "model load success!!!\n",
      "(63, 3, 640, 640)\n"
     ]
    },
    {
     "name": "stderr",
     "output_type": "stream",
     "text": [
      "100%|██████████| 120/120 [00:02<00:00, 44.42it/s]\n"
     ]
    },
    {
     "name": "stdout",
     "output_type": "stream",
     "text": [
      "fold : 3, dice score : 0.9162692818340702\n",
      "encoder :  efficientnet-b4\n",
      "unet loaded\n",
      "model load success!!!\n",
      "(358, 3, 640, 640)\n",
      "encoder :  efficientnet-b4\n",
      "unet loaded\n",
      "model load success!!!\n",
      "(95, 3, 640, 640)\n",
      "encoder :  efficientnet-b4\n",
      "unet loaded\n",
      "model load success!!!\n",
      "(305, 3, 640, 640)\n"
     ]
    },
    {
     "name": "stderr",
     "output_type": "stream",
     "text": [
      "100%|██████████| 486/486 [01:01<00:00,  7.94it/s]\n"
     ]
    },
    {
     "name": "stdout",
     "output_type": "stream",
     "text": [
      "fold : 4, dice score : 0.9428695838432373\n",
      "encoder :  efficientnet-b4\n",
      "unet loaded\n",
      "model load success!!!\n",
      "(312, 3, 640, 640)\n",
      "encoder :  efficientnet-b4\n",
      "unet loaded\n",
      "model load success!!!\n",
      "(316, 3, 640, 640)\n",
      "encoder :  efficientnet-b4\n",
      "unet loaded\n",
      "model load success!!!\n",
      "(175, 3, 640, 640)\n"
     ]
    },
    {
     "name": "stderr",
     "output_type": "stream",
     "text": [
      "100%|██████████| 180/180 [00:07<00:00, 24.22it/s]\n"
     ]
    },
    {
     "name": "stdout",
     "output_type": "stream",
     "text": [
      "fold : 5, dice score : 0.947760037874524\n",
      "threshold : 0.6, min size : 900, dice : 0.9382563267351423\n",
      "encoder :  efficientnet-b4\n",
      "unet loaded\n",
      "model load success!!!\n",
      "(157, 3, 640, 640)\n",
      "encoder :  efficientnet-b4\n",
      "unet loaded\n",
      "model load success!!!\n",
      "(374, 3, 640, 640)\n",
      "encoder :  efficientnet-b4\n",
      "unet loaded\n",
      "model load success!!!\n",
      "(241, 3, 640, 640)\n"
     ]
    },
    {
     "name": "stderr",
     "output_type": "stream",
     "text": [
      "100%|██████████| 188/188 [00:15<00:00, 12.13it/s]\n"
     ]
    },
    {
     "name": "stdout",
     "output_type": "stream",
     "text": [
      "fold : 1, dice score : 0.9419878680045292\n",
      "encoder :  efficientnet-b4\n",
      "unet loaded\n",
      "model load success!!!\n",
      "(256, 3, 640, 640)\n",
      "encoder :  efficientnet-b4\n",
      "unet loaded\n",
      "model load success!!!\n",
      "(140, 3, 640, 640)\n",
      "encoder :  efficientnet-b4\n",
      "unet loaded\n",
      "model load success!!!\n",
      "(589, 3, 640, 640)\n"
     ]
    },
    {
     "name": "stderr",
     "output_type": "stream",
     "text": [
      "100%|██████████| 436/436 [01:26<00:00,  5.02it/s]\n"
     ]
    },
    {
     "name": "stdout",
     "output_type": "stream",
     "text": [
      "fold : 2, dice score : 0.9423948621193509\n",
      "encoder :  efficientnet-b4\n",
      "unet loaded\n",
      "model load success!!!\n",
      "(139, 3, 640, 640)\n",
      "encoder :  efficientnet-b4\n",
      "unet loaded\n",
      "model load success!!!\n",
      "(438, 3, 640, 640)\n",
      "encoder :  efficientnet-b4\n",
      "unet loaded\n",
      "model load success!!!\n",
      "(63, 3, 640, 640)\n"
     ]
    },
    {
     "name": "stderr",
     "output_type": "stream",
     "text": [
      "100%|██████████| 120/120 [00:02<00:00, 46.16it/s]\n"
     ]
    },
    {
     "name": "stdout",
     "output_type": "stream",
     "text": [
      "fold : 3, dice score : 0.9162692818340702\n",
      "encoder :  efficientnet-b4\n",
      "unet loaded\n",
      "model load success!!!\n",
      "(358, 3, 640, 640)\n",
      "encoder :  efficientnet-b4\n",
      "unet loaded\n",
      "model load success!!!\n",
      "(95, 3, 640, 640)\n",
      "encoder :  efficientnet-b4\n",
      "unet loaded\n",
      "model load success!!!\n",
      "(305, 3, 640, 640)\n"
     ]
    },
    {
     "name": "stderr",
     "output_type": "stream",
     "text": [
      "100%|██████████| 486/486 [01:00<00:00,  8.01it/s]\n"
     ]
    },
    {
     "name": "stdout",
     "output_type": "stream",
     "text": [
      "fold : 4, dice score : 0.9431355050089505\n",
      "encoder :  efficientnet-b4\n",
      "unet loaded\n",
      "model load success!!!\n",
      "(312, 3, 640, 640)\n",
      "encoder :  efficientnet-b4\n",
      "unet loaded\n",
      "model load success!!!\n",
      "(316, 3, 640, 640)\n",
      "encoder :  efficientnet-b4\n",
      "unet loaded\n",
      "model load success!!!\n",
      "(175, 3, 640, 640)\n"
     ]
    },
    {
     "name": "stderr",
     "output_type": "stream",
     "text": [
      "100%|██████████| 180/180 [00:07<00:00, 24.47it/s]\n"
     ]
    },
    {
     "name": "stdout",
     "output_type": "stream",
     "text": [
      "fold : 5, dice score : 0.947760037874524\n",
      "threshold : 0.6, min size : 1000, dice : 0.9383095109682849\n",
      "encoder :  efficientnet-b4\n",
      "unet loaded\n",
      "model load success!!!\n",
      "(157, 3, 640, 640)\n",
      "encoder :  efficientnet-b4\n",
      "unet loaded\n",
      "model load success!!!\n",
      "(374, 3, 640, 640)\n",
      "encoder :  efficientnet-b4\n",
      "unet loaded\n",
      "model load success!!!\n",
      "(241, 3, 640, 640)\n"
     ]
    },
    {
     "name": "stderr",
     "output_type": "stream",
     "text": [
      "100%|██████████| 188/188 [00:15<00:00, 12.30it/s]\n"
     ]
    },
    {
     "name": "stdout",
     "output_type": "stream",
     "text": [
      "fold : 1, dice score : 0.9419878680045292\n",
      "encoder :  efficientnet-b4\n",
      "unet loaded\n",
      "model load success!!!\n",
      "(256, 3, 640, 640)\n",
      "encoder :  efficientnet-b4\n",
      "unet loaded\n",
      "model load success!!!\n",
      "(140, 3, 640, 640)\n",
      "encoder :  efficientnet-b4\n",
      "unet loaded\n",
      "model load success!!!\n",
      "(589, 3, 640, 640)\n"
     ]
    },
    {
     "name": "stderr",
     "output_type": "stream",
     "text": [
      "100%|██████████| 436/436 [01:27<00:00,  4.98it/s]\n"
     ]
    },
    {
     "name": "stdout",
     "output_type": "stream",
     "text": [
      "fold : 2, dice score : 0.9423948621193509\n",
      "encoder :  efficientnet-b4\n",
      "unet loaded\n",
      "model load success!!!\n",
      "(139, 3, 640, 640)\n",
      "encoder :  efficientnet-b4\n",
      "unet loaded\n",
      "model load success!!!\n",
      "(438, 3, 640, 640)\n",
      "encoder :  efficientnet-b4\n",
      "unet loaded\n",
      "model load success!!!\n",
      "(63, 3, 640, 640)\n"
     ]
    },
    {
     "name": "stderr",
     "output_type": "stream",
     "text": [
      "100%|██████████| 120/120 [00:02<00:00, 46.29it/s]\n"
     ]
    },
    {
     "name": "stdout",
     "output_type": "stream",
     "text": [
      "fold : 3, dice score : 0.9162692818340702\n",
      "encoder :  efficientnet-b4\n",
      "unet loaded\n",
      "model load success!!!\n",
      "(358, 3, 640, 640)\n",
      "encoder :  efficientnet-b4\n",
      "unet loaded\n",
      "model load success!!!\n",
      "(95, 3, 640, 640)\n",
      "encoder :  efficientnet-b4\n",
      "unet loaded\n",
      "model load success!!!\n",
      "(305, 3, 640, 640)\n"
     ]
    },
    {
     "name": "stderr",
     "output_type": "stream",
     "text": [
      "100%|██████████| 486/486 [00:59<00:00,  8.10it/s]\n"
     ]
    },
    {
     "name": "stdout",
     "output_type": "stream",
     "text": [
      "fold : 4, dice score : 0.9434520360679929\n",
      "encoder :  efficientnet-b4\n",
      "unet loaded\n",
      "model load success!!!\n",
      "(312, 3, 640, 640)\n",
      "encoder :  efficientnet-b4\n",
      "unet loaded\n",
      "model load success!!!\n",
      "(316, 3, 640, 640)\n",
      "encoder :  efficientnet-b4\n",
      "unet loaded\n",
      "model load success!!!\n",
      "(175, 3, 640, 640)\n"
     ]
    },
    {
     "name": "stderr",
     "output_type": "stream",
     "text": [
      "100%|██████████| 180/180 [00:07<00:00, 24.26it/s]\n"
     ]
    },
    {
     "name": "stdout",
     "output_type": "stream",
     "text": [
      "fold : 5, dice score : 0.947760037874524\n",
      "threshold : 0.6, min size : 1100, dice : 0.9383728171800934\n",
      "encoder :  efficientnet-b4\n",
      "unet loaded\n",
      "model load success!!!\n",
      "(157, 3, 640, 640)\n",
      "encoder :  efficientnet-b4\n",
      "unet loaded\n",
      "model load success!!!\n",
      "(374, 3, 640, 640)\n",
      "encoder :  efficientnet-b4\n",
      "unet loaded\n",
      "model load success!!!\n",
      "(241, 3, 640, 640)\n"
     ]
    },
    {
     "name": "stderr",
     "output_type": "stream",
     "text": [
      "100%|██████████| 188/188 [00:15<00:00, 11.84it/s]\n"
     ]
    },
    {
     "name": "stdout",
     "output_type": "stream",
     "text": [
      "fold : 1, dice score : 0.9419878680045292\n",
      "encoder :  efficientnet-b4\n",
      "unet loaded\n",
      "model load success!!!\n",
      "(256, 3, 640, 640)\n",
      "encoder :  efficientnet-b4\n",
      "unet loaded\n",
      "model load success!!!\n",
      "(140, 3, 640, 640)\n",
      "encoder :  efficientnet-b4\n",
      "unet loaded\n",
      "model load success!!!\n",
      "(589, 3, 640, 640)\n"
     ]
    },
    {
     "name": "stderr",
     "output_type": "stream",
     "text": [
      "100%|██████████| 436/436 [01:25<00:00,  5.11it/s]\n"
     ]
    },
    {
     "name": "stdout",
     "output_type": "stream",
     "text": [
      "fold : 2, dice score : 0.9421692205233081\n",
      "encoder :  efficientnet-b4\n",
      "unet loaded\n",
      "model load success!!!\n",
      "(139, 3, 640, 640)\n",
      "encoder :  efficientnet-b4\n",
      "unet loaded\n",
      "model load success!!!\n",
      "(438, 3, 640, 640)\n",
      "encoder :  efficientnet-b4\n",
      "unet loaded\n",
      "model load success!!!\n",
      "(63, 3, 640, 640)\n"
     ]
    },
    {
     "name": "stderr",
     "output_type": "stream",
     "text": [
      "100%|██████████| 120/120 [00:02<00:00, 46.89it/s]\n"
     ]
    },
    {
     "name": "stdout",
     "output_type": "stream",
     "text": [
      "fold : 3, dice score : 0.9159367019626804\n",
      "encoder :  efficientnet-b4\n",
      "unet loaded\n",
      "model load success!!!\n",
      "(358, 3, 640, 640)\n",
      "encoder :  efficientnet-b4\n",
      "unet loaded\n",
      "model load success!!!\n",
      "(95, 3, 640, 640)\n",
      "encoder :  efficientnet-b4\n",
      "unet loaded\n",
      "model load success!!!\n",
      "(305, 3, 640, 640)\n"
     ]
    },
    {
     "name": "stderr",
     "output_type": "stream",
     "text": [
      "100%|██████████| 486/486 [00:57<00:00,  8.49it/s]\n"
     ]
    },
    {
     "name": "stdout",
     "output_type": "stream",
     "text": [
      "fold : 4, dice score : 0.9430347322632733\n",
      "encoder :  efficientnet-b4\n",
      "unet loaded\n",
      "model load success!!!\n",
      "(312, 3, 640, 640)\n",
      "encoder :  efficientnet-b4\n",
      "unet loaded\n",
      "model load success!!!\n",
      "(316, 3, 640, 640)\n",
      "encoder :  efficientnet-b4\n",
      "unet loaded\n",
      "model load success!!!\n",
      "(175, 3, 640, 640)\n"
     ]
    },
    {
     "name": "stderr",
     "output_type": "stream",
     "text": [
      "100%|██████████| 180/180 [00:07<00:00, 25.35it/s]\n"
     ]
    },
    {
     "name": "stdout",
     "output_type": "stream",
     "text": [
      "fold : 5, dice score : 0.947760037874524\n",
      "threshold : 0.6, min size : 1200, dice : 0.9381777121256629\n",
      "encoder :  efficientnet-b4\n",
      "unet loaded\n",
      "model load success!!!\n",
      "(157, 3, 640, 640)\n",
      "encoder :  efficientnet-b4\n",
      "unet loaded\n",
      "model load success!!!\n",
      "(374, 3, 640, 640)\n",
      "encoder :  efficientnet-b4\n",
      "unet loaded\n",
      "model load success!!!\n",
      "(241, 3, 640, 640)\n"
     ]
    },
    {
     "name": "stderr",
     "output_type": "stream",
     "text": [
      "100%|██████████| 188/188 [00:15<00:00, 11.83it/s]\n"
     ]
    },
    {
     "name": "stdout",
     "output_type": "stream",
     "text": [
      "fold : 1, dice score : 0.9419878680045292\n",
      "encoder :  efficientnet-b4\n",
      "unet loaded\n",
      "model load success!!!\n",
      "(256, 3, 640, 640)\n",
      "encoder :  efficientnet-b4\n",
      "unet loaded\n",
      "model load success!!!\n",
      "(140, 3, 640, 640)\n",
      "encoder :  efficientnet-b4\n",
      "unet loaded\n",
      "model load success!!!\n",
      "(589, 3, 640, 640)\n"
     ]
    },
    {
     "name": "stderr",
     "output_type": "stream",
     "text": [
      "100%|██████████| 436/436 [01:26<00:00,  5.03it/s]\n"
     ]
    },
    {
     "name": "stdout",
     "output_type": "stream",
     "text": [
      "fold : 2, dice score : 0.9421692205233081\n",
      "encoder :  efficientnet-b4\n",
      "unet loaded\n",
      "model load success!!!\n",
      "(139, 3, 640, 640)\n",
      "encoder :  efficientnet-b4\n",
      "unet loaded\n",
      "model load success!!!\n",
      "(438, 3, 640, 640)\n",
      "encoder :  efficientnet-b4\n",
      "unet loaded\n",
      "model load success!!!\n",
      "(63, 3, 640, 640)\n"
     ]
    },
    {
     "name": "stderr",
     "output_type": "stream",
     "text": [
      "100%|██████████| 120/120 [00:02<00:00, 47.17it/s]\n"
     ]
    },
    {
     "name": "stdout",
     "output_type": "stream",
     "text": [
      "fold : 3, dice score : 0.9159367019626804\n",
      "encoder :  efficientnet-b4\n",
      "unet loaded\n",
      "model load success!!!\n",
      "(358, 3, 640, 640)\n",
      "encoder :  efficientnet-b4\n",
      "unet loaded\n",
      "model load success!!!\n",
      "(95, 3, 640, 640)\n",
      "encoder :  efficientnet-b4\n",
      "unet loaded\n",
      "model load success!!!\n",
      "(305, 3, 640, 640)\n"
     ]
    },
    {
     "name": "stderr",
     "output_type": "stream",
     "text": [
      "100%|██████████| 486/486 [00:59<00:00,  8.16it/s]\n"
     ]
    },
    {
     "name": "stdout",
     "output_type": "stream",
     "text": [
      "fold : 4, dice score : 0.9422200317236201\n",
      "encoder :  efficientnet-b4\n",
      "unet loaded\n",
      "model load success!!!\n",
      "(312, 3, 640, 640)\n",
      "encoder :  efficientnet-b4\n",
      "unet loaded\n",
      "model load success!!!\n",
      "(316, 3, 640, 640)\n",
      "encoder :  efficientnet-b4\n",
      "unet loaded\n",
      "model load success!!!\n",
      "(175, 3, 640, 640)\n"
     ]
    },
    {
     "name": "stderr",
     "output_type": "stream",
     "text": [
      "100%|██████████| 180/180 [00:07<00:00, 25.32it/s]\n"
     ]
    },
    {
     "name": "stdout",
     "output_type": "stream",
     "text": [
      "fold : 5, dice score : 0.947760037874524\n",
      "threshold : 0.6, min size : 1300, dice : 0.9380147720177323\n",
      "encoder :  efficientnet-b4\n",
      "unet loaded\n",
      "model load success!!!\n",
      "(157, 3, 640, 640)\n",
      "encoder :  efficientnet-b4\n",
      "unet loaded\n",
      "model load success!!!\n",
      "(374, 3, 640, 640)\n",
      "encoder :  efficientnet-b4\n",
      "unet loaded\n",
      "model load success!!!\n",
      "(241, 3, 640, 640)\n"
     ]
    },
    {
     "name": "stderr",
     "output_type": "stream",
     "text": [
      "100%|██████████| 188/188 [00:14<00:00, 13.21it/s]\n"
     ]
    },
    {
     "name": "stdout",
     "output_type": "stream",
     "text": [
      "fold : 1, dice score : 0.9419878680045292\n",
      "encoder :  efficientnet-b4\n",
      "unet loaded\n",
      "model load success!!!\n",
      "(256, 3, 640, 640)\n",
      "encoder :  efficientnet-b4\n",
      "unet loaded\n",
      "model load success!!!\n",
      "(140, 3, 640, 640)\n",
      "encoder :  efficientnet-b4\n",
      "unet loaded\n",
      "model load success!!!\n",
      "(589, 3, 640, 640)\n"
     ]
    },
    {
     "name": "stderr",
     "output_type": "stream",
     "text": [
      "100%|██████████| 436/436 [01:23<00:00,  5.20it/s]\n"
     ]
    },
    {
     "name": "stdout",
     "output_type": "stream",
     "text": [
      "fold : 2, dice score : 0.9419263512439648\n",
      "encoder :  efficientnet-b4\n",
      "unet loaded\n",
      "model load success!!!\n",
      "(139, 3, 640, 640)\n",
      "encoder :  efficientnet-b4\n",
      "unet loaded\n",
      "model load success!!!\n",
      "(438, 3, 640, 640)\n",
      "encoder :  efficientnet-b4\n",
      "unet loaded\n",
      "model load success!!!\n",
      "(63, 3, 640, 640)\n"
     ]
    },
    {
     "name": "stderr",
     "output_type": "stream",
     "text": [
      "100%|██████████| 120/120 [00:02<00:00, 45.66it/s]\n"
     ]
    },
    {
     "name": "stdout",
     "output_type": "stream",
     "text": [
      "fold : 3, dice score : 0.9183679948547032\n",
      "encoder :  efficientnet-b4\n",
      "unet loaded\n",
      "model load success!!!\n",
      "(358, 3, 640, 640)\n",
      "encoder :  efficientnet-b4\n",
      "unet loaded\n",
      "model load success!!!\n",
      "(95, 3, 640, 640)\n",
      "encoder :  efficientnet-b4\n",
      "unet loaded\n",
      "model load success!!!\n",
      "(305, 3, 640, 640)\n"
     ]
    },
    {
     "name": "stderr",
     "output_type": "stream",
     "text": [
      "100%|██████████| 486/486 [00:59<00:00,  8.13it/s]\n"
     ]
    },
    {
     "name": "stdout",
     "output_type": "stream",
     "text": [
      "fold : 4, dice score : 0.9413598395456885\n",
      "encoder :  efficientnet-b4\n",
      "unet loaded\n",
      "model load success!!!\n",
      "(312, 3, 640, 640)\n",
      "encoder :  efficientnet-b4\n",
      "unet loaded\n",
      "model load success!!!\n",
      "(316, 3, 640, 640)\n",
      "encoder :  efficientnet-b4\n",
      "unet loaded\n",
      "model load success!!!\n",
      "(175, 3, 640, 640)\n"
     ]
    },
    {
     "name": "stderr",
     "output_type": "stream",
     "text": [
      "100%|██████████| 180/180 [00:07<00:00, 23.90it/s]\n"
     ]
    },
    {
     "name": "stdout",
     "output_type": "stream",
     "text": [
      "fold : 5, dice score : 0.9470223746284824\n",
      "threshold : 0.6, min size : 1400, dice : 0.9381328856554736\n",
      "encoder :  efficientnet-b4\n",
      "unet loaded\n",
      "model load success!!!\n",
      "(157, 3, 640, 640)\n",
      "encoder :  efficientnet-b4\n",
      "unet loaded\n",
      "model load success!!!\n",
      "(374, 3, 640, 640)\n",
      "encoder :  efficientnet-b4\n",
      "unet loaded\n",
      "model load success!!!\n",
      "(241, 3, 640, 640)\n"
     ]
    },
    {
     "name": "stderr",
     "output_type": "stream",
     "text": [
      "100%|██████████| 187/187 [00:15<00:00, 12.38it/s]\n"
     ]
    },
    {
     "name": "stdout",
     "output_type": "stream",
     "text": [
      "fold : 1, dice score : 0.9408280173950856\n",
      "encoder :  efficientnet-b4\n",
      "unet loaded\n",
      "model load success!!!\n",
      "(256, 3, 640, 640)\n",
      "encoder :  efficientnet-b4\n",
      "unet loaded\n",
      "model load success!!!\n",
      "(140, 3, 640, 640)\n",
      "encoder :  efficientnet-b4\n",
      "unet loaded\n",
      "model load success!!!\n",
      "(589, 3, 640, 640)\n"
     ]
    },
    {
     "name": "stderr",
     "output_type": "stream",
     "text": [
      "100%|██████████| 440/440 [01:28<00:00,  4.95it/s]\n"
     ]
    },
    {
     "name": "stdout",
     "output_type": "stream",
     "text": [
      "fold : 2, dice score : 0.9365430950950662\n",
      "encoder :  efficientnet-b4\n",
      "unet loaded\n",
      "model load success!!!\n",
      "(139, 3, 640, 640)\n",
      "encoder :  efficientnet-b4\n",
      "unet loaded\n",
      "model load success!!!\n",
      "(438, 3, 640, 640)\n",
      "encoder :  efficientnet-b4\n",
      "unet loaded\n",
      "model load success!!!\n",
      "(63, 3, 640, 640)\n"
     ]
    },
    {
     "name": "stderr",
     "output_type": "stream",
     "text": [
      "100%|██████████| 106/106 [00:02<00:00, 45.55it/s]\n"
     ]
    },
    {
     "name": "stdout",
     "output_type": "stream",
     "text": [
      "fold : 3, dice score : 0.9092700269681278\n",
      "encoder :  efficientnet-b4\n",
      "unet loaded\n",
      "model load success!!!\n",
      "(358, 3, 640, 640)\n",
      "encoder :  efficientnet-b4\n",
      "unet loaded\n",
      "model load success!!!\n",
      "(95, 3, 640, 640)\n",
      "encoder :  efficientnet-b4\n",
      "unet loaded\n",
      "model load success!!!\n",
      "(305, 3, 640, 640)\n"
     ]
    },
    {
     "name": "stderr",
     "output_type": "stream",
     "text": [
      "100%|██████████| 483/483 [00:59<00:00,  8.07it/s]\n"
     ]
    },
    {
     "name": "stdout",
     "output_type": "stream",
     "text": [
      "fold : 4, dice score : 0.939869723379315\n",
      "encoder :  efficientnet-b4\n",
      "unet loaded\n",
      "model load success!!!\n",
      "(312, 3, 640, 640)\n",
      "encoder :  efficientnet-b4\n",
      "unet loaded\n",
      "model load success!!!\n",
      "(316, 3, 640, 640)\n",
      "encoder :  efficientnet-b4\n",
      "unet loaded\n",
      "model load success!!!\n",
      "(175, 3, 640, 640)\n"
     ]
    },
    {
     "name": "stderr",
     "output_type": "stream",
     "text": [
      "100%|██████████| 183/183 [00:07<00:00, 24.84it/s]\n"
     ]
    },
    {
     "name": "stdout",
     "output_type": "stream",
     "text": [
      "fold : 5, dice score : 0.9455877695239249\n",
      "threshold : 0.7, min size : 100, dice : 0.934419726472304\n",
      "encoder :  efficientnet-b4\n",
      "unet loaded\n",
      "model load success!!!\n",
      "(157, 3, 640, 640)\n",
      "encoder :  efficientnet-b4\n",
      "unet loaded\n",
      "model load success!!!\n",
      "(374, 3, 640, 640)\n",
      "encoder :  efficientnet-b4\n",
      "unet loaded\n",
      "model load success!!!\n",
      "(241, 3, 640, 640)\n"
     ]
    },
    {
     "name": "stderr",
     "output_type": "stream",
     "text": [
      "100%|██████████| 187/187 [00:14<00:00, 12.86it/s]\n"
     ]
    },
    {
     "name": "stdout",
     "output_type": "stream",
     "text": [
      "fold : 1, dice score : 0.9408280173950856\n",
      "encoder :  efficientnet-b4\n",
      "unet loaded\n",
      "model load success!!!\n",
      "(256, 3, 640, 640)\n",
      "encoder :  efficientnet-b4\n",
      "unet loaded\n",
      "model load success!!!\n",
      "(140, 3, 640, 640)\n",
      "encoder :  efficientnet-b4\n",
      "unet loaded\n",
      "model load success!!!\n",
      "(589, 3, 640, 640)\n"
     ]
    },
    {
     "name": "stderr",
     "output_type": "stream",
     "text": [
      "100%|██████████| 440/440 [01:22<00:00,  5.31it/s]\n"
     ]
    },
    {
     "name": "stdout",
     "output_type": "stream",
     "text": [
      "fold : 2, dice score : 0.936452174446629\n",
      "encoder :  efficientnet-b4\n",
      "unet loaded\n",
      "model load success!!!\n",
      "(139, 3, 640, 640)\n",
      "encoder :  efficientnet-b4\n",
      "unet loaded\n",
      "model load success!!!\n",
      "(438, 3, 640, 640)\n",
      "encoder :  efficientnet-b4\n",
      "unet loaded\n",
      "model load success!!!\n",
      "(63, 3, 640, 640)\n"
     ]
    },
    {
     "name": "stderr",
     "output_type": "stream",
     "text": [
      "100%|██████████| 106/106 [00:02<00:00, 46.06it/s]\n"
     ]
    },
    {
     "name": "stdout",
     "output_type": "stream",
     "text": [
      "fold : 3, dice score : 0.9089237341320577\n",
      "encoder :  efficientnet-b4\n",
      "unet loaded\n",
      "model load success!!!\n",
      "(358, 3, 640, 640)\n",
      "encoder :  efficientnet-b4\n",
      "unet loaded\n",
      "model load success!!!\n",
      "(95, 3, 640, 640)\n",
      "encoder :  efficientnet-b4\n",
      "unet loaded\n",
      "model load success!!!\n",
      "(305, 3, 640, 640)\n"
     ]
    },
    {
     "name": "stderr",
     "output_type": "stream",
     "text": [
      "100%|██████████| 483/483 [00:59<00:00,  8.11it/s]\n"
     ]
    },
    {
     "name": "stdout",
     "output_type": "stream",
     "text": [
      "fold : 4, dice score : 0.9399796450533848\n",
      "encoder :  efficientnet-b4\n",
      "unet loaded\n",
      "model load success!!!\n",
      "(312, 3, 640, 640)\n",
      "encoder :  efficientnet-b4\n",
      "unet loaded\n",
      "model load success!!!\n",
      "(316, 3, 640, 640)\n",
      "encoder :  efficientnet-b4\n",
      "unet loaded\n",
      "model load success!!!\n",
      "(175, 3, 640, 640)\n"
     ]
    },
    {
     "name": "stderr",
     "output_type": "stream",
     "text": [
      "100%|██████████| 183/183 [00:07<00:00, 25.81it/s]\n"
     ]
    },
    {
     "name": "stdout",
     "output_type": "stream",
     "text": [
      "fold : 5, dice score : 0.9455877695239249\n",
      "threshold : 0.7, min size : 200, dice : 0.9343542681102164\n",
      "encoder :  efficientnet-b4\n",
      "unet loaded\n",
      "model load success!!!\n",
      "(157, 3, 640, 640)\n",
      "encoder :  efficientnet-b4\n",
      "unet loaded\n",
      "model load success!!!\n",
      "(374, 3, 640, 640)\n",
      "encoder :  efficientnet-b4\n",
      "unet loaded\n",
      "model load success!!!\n",
      "(241, 3, 640, 640)\n"
     ]
    },
    {
     "name": "stderr",
     "output_type": "stream",
     "text": [
      "100%|██████████| 187/187 [00:14<00:00, 13.20it/s]\n"
     ]
    },
    {
     "name": "stdout",
     "output_type": "stream",
     "text": [
      "fold : 1, dice score : 0.9408280173950856\n",
      "encoder :  efficientnet-b4\n",
      "unet loaded\n",
      "model load success!!!\n",
      "(256, 3, 640, 640)\n",
      "encoder :  efficientnet-b4\n",
      "unet loaded\n",
      "model load success!!!\n",
      "(140, 3, 640, 640)\n",
      "encoder :  efficientnet-b4\n",
      "unet loaded\n",
      "model load success!!!\n",
      "(589, 3, 640, 640)\n"
     ]
    },
    {
     "name": "stderr",
     "output_type": "stream",
     "text": [
      "100%|██████████| 440/440 [01:21<00:00,  5.37it/s]\n"
     ]
    },
    {
     "name": "stdout",
     "output_type": "stream",
     "text": [
      "fold : 2, dice score : 0.9364028475472936\n",
      "encoder :  efficientnet-b4\n",
      "unet loaded\n",
      "model load success!!!\n",
      "(139, 3, 640, 640)\n",
      "encoder :  efficientnet-b4\n",
      "unet loaded\n",
      "model load success!!!\n",
      "(438, 3, 640, 640)\n",
      "encoder :  efficientnet-b4\n",
      "unet loaded\n",
      "model load success!!!\n",
      "(63, 3, 640, 640)\n"
     ]
    },
    {
     "name": "stderr",
     "output_type": "stream",
     "text": [
      "100%|██████████| 106/106 [00:02<00:00, 47.32it/s]\n"
     ]
    },
    {
     "name": "stdout",
     "output_type": "stream",
     "text": [
      "fold : 3, dice score : 0.9089237341320577\n",
      "encoder :  efficientnet-b4\n",
      "unet loaded\n",
      "model load success!!!\n",
      "(358, 3, 640, 640)\n",
      "encoder :  efficientnet-b4\n",
      "unet loaded\n",
      "model load success!!!\n",
      "(95, 3, 640, 640)\n",
      "encoder :  efficientnet-b4\n",
      "unet loaded\n",
      "model load success!!!\n",
      "(305, 3, 640, 640)\n"
     ]
    },
    {
     "name": "stderr",
     "output_type": "stream",
     "text": [
      "100%|██████████| 483/483 [00:55<00:00,  8.69it/s]\n"
     ]
    },
    {
     "name": "stdout",
     "output_type": "stream",
     "text": [
      "fold : 4, dice score : 0.9399796450533848\n",
      "encoder :  efficientnet-b4\n",
      "unet loaded\n",
      "model load success!!!\n",
      "(312, 3, 640, 640)\n",
      "encoder :  efficientnet-b4\n",
      "unet loaded\n",
      "model load success!!!\n",
      "(316, 3, 640, 640)\n",
      "encoder :  efficientnet-b4\n",
      "unet loaded\n",
      "model load success!!!\n",
      "(175, 3, 640, 640)\n"
     ]
    },
    {
     "name": "stderr",
     "output_type": "stream",
     "text": [
      "100%|██████████| 183/183 [00:07<00:00, 26.01it/s]\n"
     ]
    },
    {
     "name": "stdout",
     "output_type": "stream",
     "text": [
      "fold : 5, dice score : 0.9455877695239249\n",
      "threshold : 0.7, min size : 300, dice : 0.9343444027303495\n",
      "encoder :  efficientnet-b4\n",
      "unet loaded\n",
      "model load success!!!\n",
      "(157, 3, 640, 640)\n",
      "encoder :  efficientnet-b4\n",
      "unet loaded\n",
      "model load success!!!\n",
      "(374, 3, 640, 640)\n",
      "encoder :  efficientnet-b4\n",
      "unet loaded\n",
      "model load success!!!\n",
      "(241, 3, 640, 640)\n"
     ]
    },
    {
     "name": "stderr",
     "output_type": "stream",
     "text": [
      "100%|██████████| 187/187 [00:14<00:00, 12.60it/s]\n"
     ]
    },
    {
     "name": "stdout",
     "output_type": "stream",
     "text": [
      "fold : 1, dice score : 0.9408280173950856\n",
      "encoder :  efficientnet-b4\n",
      "unet loaded\n",
      "model load success!!!\n",
      "(256, 3, 640, 640)\n",
      "encoder :  efficientnet-b4\n",
      "unet loaded\n",
      "model load success!!!\n",
      "(140, 3, 640, 640)\n",
      "encoder :  efficientnet-b4\n",
      "unet loaded\n",
      "model load success!!!\n",
      "(589, 3, 640, 640)\n"
     ]
    },
    {
     "name": "stderr",
     "output_type": "stream",
     "text": [
      "100%|██████████| 440/440 [01:19<00:00,  5.52it/s]\n"
     ]
    },
    {
     "name": "stdout",
     "output_type": "stream",
     "text": [
      "fold : 2, dice score : 0.9364028475472936\n",
      "encoder :  efficientnet-b4\n",
      "unet loaded\n",
      "model load success!!!\n",
      "(139, 3, 640, 640)\n",
      "encoder :  efficientnet-b4\n",
      "unet loaded\n",
      "model load success!!!\n",
      "(438, 3, 640, 640)\n",
      "encoder :  efficientnet-b4\n",
      "unet loaded\n",
      "model load success!!!\n",
      "(63, 3, 640, 640)\n"
     ]
    },
    {
     "name": "stderr",
     "output_type": "stream",
     "text": [
      "100%|██████████| 106/106 [00:02<00:00, 48.50it/s]\n"
     ]
    },
    {
     "name": "stdout",
     "output_type": "stream",
     "text": [
      "fold : 3, dice score : 0.9089237341320577\n",
      "encoder :  efficientnet-b4\n",
      "unet loaded\n",
      "model load success!!!\n",
      "(358, 3, 640, 640)\n",
      "encoder :  efficientnet-b4\n",
      "unet loaded\n",
      "model load success!!!\n",
      "(95, 3, 640, 640)\n",
      "encoder :  efficientnet-b4\n",
      "unet loaded\n",
      "model load success!!!\n",
      "(305, 3, 640, 640)\n"
     ]
    },
    {
     "name": "stderr",
     "output_type": "stream",
     "text": [
      "100%|██████████| 483/483 [00:57<00:00,  8.44it/s]\n"
     ]
    },
    {
     "name": "stdout",
     "output_type": "stream",
     "text": [
      "fold : 4, dice score : 0.9401898327396058\n",
      "encoder :  efficientnet-b4\n",
      "unet loaded\n",
      "model load success!!!\n",
      "(312, 3, 640, 640)\n",
      "encoder :  efficientnet-b4\n",
      "unet loaded\n",
      "model load success!!!\n",
      "(316, 3, 640, 640)\n",
      "encoder :  efficientnet-b4\n",
      "unet loaded\n",
      "model load success!!!\n",
      "(175, 3, 640, 640)\n"
     ]
    },
    {
     "name": "stderr",
     "output_type": "stream",
     "text": [
      "100%|██████████| 183/183 [00:06<00:00, 26.14it/s]\n"
     ]
    },
    {
     "name": "stdout",
     "output_type": "stream",
     "text": [
      "fold : 5, dice score : 0.9455877695239249\n",
      "threshold : 0.7, min size : 400, dice : 0.9343864402675935\n",
      "encoder :  efficientnet-b4\n",
      "unet loaded\n",
      "model load success!!!\n",
      "(157, 3, 640, 640)\n",
      "encoder :  efficientnet-b4\n",
      "unet loaded\n",
      "model load success!!!\n",
      "(374, 3, 640, 640)\n",
      "encoder :  efficientnet-b4\n",
      "unet loaded\n",
      "model load success!!!\n",
      "(241, 3, 640, 640)\n"
     ]
    },
    {
     "name": "stderr",
     "output_type": "stream",
     "text": [
      "100%|██████████| 187/187 [00:15<00:00, 12.11it/s]\n"
     ]
    },
    {
     "name": "stdout",
     "output_type": "stream",
     "text": [
      "fold : 1, dice score : 0.9408280173950856\n",
      "encoder :  efficientnet-b4\n",
      "unet loaded\n",
      "model load success!!!\n",
      "(256, 3, 640, 640)\n",
      "encoder :  efficientnet-b4\n",
      "unet loaded\n",
      "model load success!!!\n",
      "(140, 3, 640, 640)\n",
      "encoder :  efficientnet-b4\n",
      "unet loaded\n",
      "model load success!!!\n",
      "(589, 3, 640, 640)\n"
     ]
    },
    {
     "name": "stderr",
     "output_type": "stream",
     "text": [
      "100%|██████████| 440/440 [01:20<00:00,  5.47it/s]\n"
     ]
    },
    {
     "name": "stdout",
     "output_type": "stream",
     "text": [
      "fold : 2, dice score : 0.936310230450776\n",
      "encoder :  efficientnet-b4\n",
      "unet loaded\n",
      "model load success!!!\n",
      "(139, 3, 640, 640)\n",
      "encoder :  efficientnet-b4\n",
      "unet loaded\n",
      "model load success!!!\n",
      "(438, 3, 640, 640)\n",
      "encoder :  efficientnet-b4\n",
      "unet loaded\n",
      "model load success!!!\n",
      "(63, 3, 640, 640)\n"
     ]
    },
    {
     "name": "stderr",
     "output_type": "stream",
     "text": [
      "100%|██████████| 106/106 [00:02<00:00, 46.37it/s]\n"
     ]
    },
    {
     "name": "stdout",
     "output_type": "stream",
     "text": [
      "fold : 3, dice score : 0.9089237341320577\n",
      "encoder :  efficientnet-b4\n",
      "unet loaded\n",
      "model load success!!!\n",
      "(358, 3, 640, 640)\n",
      "encoder :  efficientnet-b4\n",
      "unet loaded\n",
      "model load success!!!\n",
      "(95, 3, 640, 640)\n",
      "encoder :  efficientnet-b4\n",
      "unet loaded\n",
      "model load success!!!\n",
      "(305, 3, 640, 640)\n"
     ]
    },
    {
     "name": "stderr",
     "output_type": "stream",
     "text": [
      "100%|██████████| 483/483 [00:56<00:00,  8.52it/s]\n"
     ]
    },
    {
     "name": "stdout",
     "output_type": "stream",
     "text": [
      "fold : 4, dice score : 0.9401898327396058\n",
      "encoder :  efficientnet-b4\n",
      "unet loaded\n",
      "model load success!!!\n",
      "(312, 3, 640, 640)\n",
      "encoder :  efficientnet-b4\n",
      "unet loaded\n",
      "model load success!!!\n",
      "(316, 3, 640, 640)\n",
      "encoder :  efficientnet-b4\n",
      "unet loaded\n",
      "model load success!!!\n",
      "(175, 3, 640, 640)\n"
     ]
    },
    {
     "name": "stderr",
     "output_type": "stream",
     "text": [
      "100%|██████████| 183/183 [00:07<00:00, 26.01it/s]\n"
     ]
    },
    {
     "name": "stdout",
     "output_type": "stream",
     "text": [
      "fold : 5, dice score : 0.9455877695239249\n",
      "threshold : 0.7, min size : 500, dice : 0.93436791684829\n",
      "encoder :  efficientnet-b4\n",
      "unet loaded\n",
      "model load success!!!\n",
      "(157, 3, 640, 640)\n",
      "encoder :  efficientnet-b4\n",
      "unet loaded\n",
      "model load success!!!\n",
      "(374, 3, 640, 640)\n",
      "encoder :  efficientnet-b4\n",
      "unet loaded\n",
      "model load success!!!\n",
      "(241, 3, 640, 640)\n"
     ]
    },
    {
     "name": "stderr",
     "output_type": "stream",
     "text": [
      "100%|██████████| 187/187 [00:15<00:00, 12.04it/s]\n"
     ]
    },
    {
     "name": "stdout",
     "output_type": "stream",
     "text": [
      "fold : 1, dice score : 0.9408280173950856\n",
      "encoder :  efficientnet-b4\n",
      "unet loaded\n",
      "model load success!!!\n",
      "(256, 3, 640, 640)\n",
      "encoder :  efficientnet-b4\n",
      "unet loaded\n",
      "model load success!!!\n",
      "(140, 3, 640, 640)\n",
      "encoder :  efficientnet-b4\n",
      "unet loaded\n",
      "model load success!!!\n",
      "(589, 3, 640, 640)\n"
     ]
    },
    {
     "name": "stderr",
     "output_type": "stream",
     "text": [
      "100%|██████████| 440/440 [01:21<00:00,  5.41it/s]\n"
     ]
    },
    {
     "name": "stdout",
     "output_type": "stream",
     "text": [
      "fold : 2, dice score : 0.936310230450776\n",
      "encoder :  efficientnet-b4\n",
      "unet loaded\n",
      "model load success!!!\n",
      "(139, 3, 640, 640)\n",
      "encoder :  efficientnet-b4\n",
      "unet loaded\n",
      "model load success!!!\n",
      "(438, 3, 640, 640)\n",
      "encoder :  efficientnet-b4\n",
      "unet loaded\n",
      "model load success!!!\n",
      "(63, 3, 640, 640)\n"
     ]
    },
    {
     "name": "stderr",
     "output_type": "stream",
     "text": [
      "100%|██████████| 106/106 [00:02<00:00, 46.31it/s]\n"
     ]
    },
    {
     "name": "stdout",
     "output_type": "stream",
     "text": [
      "fold : 3, dice score : 0.9089237341320577\n",
      "encoder :  efficientnet-b4\n",
      "unet loaded\n",
      "model load success!!!\n",
      "(358, 3, 640, 640)\n",
      "encoder :  efficientnet-b4\n",
      "unet loaded\n",
      "model load success!!!\n",
      "(95, 3, 640, 640)\n",
      "encoder :  efficientnet-b4\n",
      "unet loaded\n",
      "model load success!!!\n",
      "(305, 3, 640, 640)\n"
     ]
    },
    {
     "name": "stderr",
     "output_type": "stream",
     "text": [
      "100%|██████████| 483/483 [00:56<00:00,  8.61it/s]\n"
     ]
    },
    {
     "name": "stdout",
     "output_type": "stream",
     "text": [
      "fold : 4, dice score : 0.9403361111975934\n",
      "encoder :  efficientnet-b4\n",
      "unet loaded\n",
      "model load success!!!\n",
      "(312, 3, 640, 640)\n",
      "encoder :  efficientnet-b4\n",
      "unet loaded\n",
      "model load success!!!\n",
      "(316, 3, 640, 640)\n",
      "encoder :  efficientnet-b4\n",
      "unet loaded\n",
      "model load success!!!\n",
      "(175, 3, 640, 640)\n"
     ]
    },
    {
     "name": "stderr",
     "output_type": "stream",
     "text": [
      "100%|██████████| 183/183 [00:06<00:00, 26.51it/s]\n"
     ]
    },
    {
     "name": "stdout",
     "output_type": "stream",
     "text": [
      "fold : 5, dice score : 0.9455877695239249\n",
      "threshold : 0.7, min size : 600, dice : 0.9343971725398876\n",
      "encoder :  efficientnet-b4\n",
      "unet loaded\n",
      "model load success!!!\n",
      "(157, 3, 640, 640)\n",
      "encoder :  efficientnet-b4\n",
      "unet loaded\n",
      "model load success!!!\n",
      "(374, 3, 640, 640)\n",
      "encoder :  efficientnet-b4\n",
      "unet loaded\n",
      "model load success!!!\n",
      "(241, 3, 640, 640)\n"
     ]
    },
    {
     "name": "stderr",
     "output_type": "stream",
     "text": [
      "100%|██████████| 187/187 [00:15<00:00, 11.88it/s]\n"
     ]
    },
    {
     "name": "stdout",
     "output_type": "stream",
     "text": [
      "fold : 1, dice score : 0.9408280173950856\n",
      "encoder :  efficientnet-b4\n",
      "unet loaded\n",
      "model load success!!!\n",
      "(256, 3, 640, 640)\n",
      "encoder :  efficientnet-b4\n",
      "unet loaded\n",
      "model load success!!!\n",
      "(140, 3, 640, 640)\n",
      "encoder :  efficientnet-b4\n",
      "unet loaded\n",
      "model load success!!!\n",
      "(589, 3, 640, 640)\n"
     ]
    },
    {
     "name": "stderr",
     "output_type": "stream",
     "text": [
      "100%|██████████| 440/440 [01:22<00:00,  5.31it/s]\n"
     ]
    },
    {
     "name": "stdout",
     "output_type": "stream",
     "text": [
      "fold : 2, dice score : 0.936310230450776\n",
      "encoder :  efficientnet-b4\n",
      "unet loaded\n",
      "model load success!!!\n",
      "(139, 3, 640, 640)\n",
      "encoder :  efficientnet-b4\n",
      "unet loaded\n",
      "model load success!!!\n",
      "(438, 3, 640, 640)\n",
      "encoder :  efficientnet-b4\n",
      "unet loaded\n",
      "model load success!!!\n",
      "(63, 3, 640, 640)\n"
     ]
    },
    {
     "name": "stderr",
     "output_type": "stream",
     "text": [
      "100%|██████████| 106/106 [00:02<00:00, 46.34it/s]\n"
     ]
    },
    {
     "name": "stdout",
     "output_type": "stream",
     "text": [
      "fold : 3, dice score : 0.9089237341320577\n",
      "encoder :  efficientnet-b4\n",
      "unet loaded\n",
      "model load success!!!\n",
      "(358, 3, 640, 640)\n",
      "encoder :  efficientnet-b4\n",
      "unet loaded\n",
      "model load success!!!\n",
      "(95, 3, 640, 640)\n",
      "encoder :  efficientnet-b4\n",
      "unet loaded\n",
      "model load success!!!\n",
      "(305, 3, 640, 640)\n"
     ]
    },
    {
     "name": "stderr",
     "output_type": "stream",
     "text": [
      "100%|██████████| 483/483 [00:59<00:00,  8.13it/s]\n"
     ]
    },
    {
     "name": "stdout",
     "output_type": "stream",
     "text": [
      "fold : 4, dice score : 0.9403361111975934\n",
      "encoder :  efficientnet-b4\n",
      "unet loaded\n",
      "model load success!!!\n",
      "(312, 3, 640, 640)\n",
      "encoder :  efficientnet-b4\n",
      "unet loaded\n",
      "model load success!!!\n",
      "(316, 3, 640, 640)\n",
      "encoder :  efficientnet-b4\n",
      "unet loaded\n",
      "model load success!!!\n",
      "(175, 3, 640, 640)\n"
     ]
    },
    {
     "name": "stderr",
     "output_type": "stream",
     "text": [
      "100%|██████████| 183/183 [00:07<00:00, 26.01it/s]\n"
     ]
    },
    {
     "name": "stdout",
     "output_type": "stream",
     "text": [
      "fold : 5, dice score : 0.9455877695239249\n",
      "threshold : 0.7, min size : 700, dice : 0.9343971725398876\n",
      "encoder :  efficientnet-b4\n",
      "unet loaded\n",
      "model load success!!!\n",
      "(157, 3, 640, 640)\n",
      "encoder :  efficientnet-b4\n",
      "unet loaded\n",
      "model load success!!!\n",
      "(374, 3, 640, 640)\n",
      "encoder :  efficientnet-b4\n",
      "unet loaded\n",
      "model load success!!!\n",
      "(241, 3, 640, 640)\n"
     ]
    },
    {
     "name": "stderr",
     "output_type": "stream",
     "text": [
      "100%|██████████| 187/187 [00:15<00:00, 12.05it/s]\n"
     ]
    },
    {
     "name": "stdout",
     "output_type": "stream",
     "text": [
      "fold : 1, dice score : 0.9408280173950856\n",
      "encoder :  efficientnet-b4\n",
      "unet loaded\n",
      "model load success!!!\n",
      "(256, 3, 640, 640)\n",
      "encoder :  efficientnet-b4\n",
      "unet loaded\n",
      "model load success!!!\n",
      "(140, 3, 640, 640)\n",
      "encoder :  efficientnet-b4\n",
      "unet loaded\n",
      "model load success!!!\n",
      "(589, 3, 640, 640)\n"
     ]
    },
    {
     "name": "stderr",
     "output_type": "stream",
     "text": [
      "100%|██████████| 440/440 [01:20<00:00,  5.48it/s]\n"
     ]
    },
    {
     "name": "stdout",
     "output_type": "stream",
     "text": [
      "fold : 2, dice score : 0.9361609172131151\n",
      "encoder :  efficientnet-b4\n",
      "unet loaded\n",
      "model load success!!!\n",
      "(139, 3, 640, 640)\n",
      "encoder :  efficientnet-b4\n",
      "unet loaded\n",
      "model load success!!!\n",
      "(438, 3, 640, 640)\n",
      "encoder :  efficientnet-b4\n",
      "unet loaded\n",
      "model load success!!!\n",
      "(63, 3, 640, 640)\n"
     ]
    },
    {
     "name": "stderr",
     "output_type": "stream",
     "text": [
      "100%|██████████| 106/106 [00:02<00:00, 51.56it/s]\n"
     ]
    },
    {
     "name": "stdout",
     "output_type": "stream",
     "text": [
      "fold : 3, dice score : 0.9089237341320577\n",
      "encoder :  efficientnet-b4\n",
      "unet loaded\n",
      "model load success!!!\n",
      "(358, 3, 640, 640)\n",
      "encoder :  efficientnet-b4\n",
      "unet loaded\n",
      "model load success!!!\n",
      "(95, 3, 640, 640)\n",
      "encoder :  efficientnet-b4\n",
      "unet loaded\n",
      "model load success!!!\n",
      "(305, 3, 640, 640)\n"
     ]
    },
    {
     "name": "stderr",
     "output_type": "stream",
     "text": [
      "100%|██████████| 483/483 [00:58<00:00,  8.26it/s]\n"
     ]
    },
    {
     "name": "stdout",
     "output_type": "stream",
     "text": [
      "fold : 4, dice score : 0.9403361111975934\n",
      "encoder :  efficientnet-b4\n",
      "unet loaded\n",
      "model load success!!!\n",
      "(312, 3, 640, 640)\n",
      "encoder :  efficientnet-b4\n",
      "unet loaded\n",
      "model load success!!!\n",
      "(316, 3, 640, 640)\n",
      "encoder :  efficientnet-b4\n",
      "unet loaded\n",
      "model load success!!!\n",
      "(175, 3, 640, 640)\n"
     ]
    },
    {
     "name": "stderr",
     "output_type": "stream",
     "text": [
      "100%|██████████| 183/183 [00:06<00:00, 26.15it/s]\n"
     ]
    },
    {
     "name": "stdout",
     "output_type": "stream",
     "text": [
      "fold : 5, dice score : 0.9455877695239249\n",
      "threshold : 0.7, min size : 800, dice : 0.9343673098923555\n",
      "encoder :  efficientnet-b4\n",
      "unet loaded\n",
      "model load success!!!\n",
      "(157, 3, 640, 640)\n",
      "encoder :  efficientnet-b4\n",
      "unet loaded\n",
      "model load success!!!\n",
      "(374, 3, 640, 640)\n",
      "encoder :  efficientnet-b4\n",
      "unet loaded\n",
      "model load success!!!\n",
      "(241, 3, 640, 640)\n"
     ]
    },
    {
     "name": "stderr",
     "output_type": "stream",
     "text": [
      "100%|██████████| 187/187 [00:14<00:00, 12.53it/s]\n"
     ]
    },
    {
     "name": "stdout",
     "output_type": "stream",
     "text": [
      "fold : 1, dice score : 0.9408280173950856\n",
      "encoder :  efficientnet-b4\n",
      "unet loaded\n",
      "model load success!!!\n",
      "(256, 3, 640, 640)\n",
      "encoder :  efficientnet-b4\n",
      "unet loaded\n",
      "model load success!!!\n",
      "(140, 3, 640, 640)\n",
      "encoder :  efficientnet-b4\n",
      "unet loaded\n",
      "model load success!!!\n",
      "(589, 3, 640, 640)\n"
     ]
    },
    {
     "name": "stderr",
     "output_type": "stream",
     "text": [
      "100%|██████████| 440/440 [01:20<00:00,  5.47it/s]\n"
     ]
    },
    {
     "name": "stdout",
     "output_type": "stream",
     "text": [
      "fold : 2, dice score : 0.9361609172131151\n",
      "encoder :  efficientnet-b4\n",
      "unet loaded\n",
      "model load success!!!\n",
      "(139, 3, 640, 640)\n",
      "encoder :  efficientnet-b4\n",
      "unet loaded\n",
      "model load success!!!\n",
      "(438, 3, 640, 640)\n",
      "encoder :  efficientnet-b4\n",
      "unet loaded\n",
      "model load success!!!\n",
      "(63, 3, 640, 640)\n"
     ]
    },
    {
     "name": "stderr",
     "output_type": "stream",
     "text": [
      "100%|██████████| 106/106 [00:02<00:00, 49.79it/s]\n"
     ]
    },
    {
     "name": "stdout",
     "output_type": "stream",
     "text": [
      "fold : 3, dice score : 0.9104212394377482\n",
      "encoder :  efficientnet-b4\n",
      "unet loaded\n",
      "model load success!!!\n",
      "(358, 3, 640, 640)\n",
      "encoder :  efficientnet-b4\n",
      "unet loaded\n",
      "model load success!!!\n",
      "(95, 3, 640, 640)\n",
      "encoder :  efficientnet-b4\n",
      "unet loaded\n",
      "model load success!!!\n",
      "(305, 3, 640, 640)\n"
     ]
    },
    {
     "name": "stderr",
     "output_type": "stream",
     "text": [
      "100%|██████████| 483/483 [00:55<00:00,  8.72it/s]\n"
     ]
    },
    {
     "name": "stdout",
     "output_type": "stream",
     "text": [
      "fold : 4, dice score : 0.9402868431733244\n",
      "encoder :  efficientnet-b4\n",
      "unet loaded\n",
      "model load success!!!\n",
      "(312, 3, 640, 640)\n",
      "encoder :  efficientnet-b4\n",
      "unet loaded\n",
      "model load success!!!\n",
      "(316, 3, 640, 640)\n",
      "encoder :  efficientnet-b4\n",
      "unet loaded\n",
      "model load success!!!\n",
      "(175, 3, 640, 640)\n"
     ]
    },
    {
     "name": "stderr",
     "output_type": "stream",
     "text": [
      "100%|██████████| 183/183 [00:06<00:00, 26.40it/s]\n"
     ]
    },
    {
     "name": "stdout",
     "output_type": "stream",
     "text": [
      "fold : 5, dice score : 0.9455877695239249\n",
      "threshold : 0.7, min size : 900, dice : 0.9346569573486396\n",
      "encoder :  efficientnet-b4\n",
      "unet loaded\n",
      "model load success!!!\n",
      "(157, 3, 640, 640)\n",
      "encoder :  efficientnet-b4\n",
      "unet loaded\n",
      "model load success!!!\n",
      "(374, 3, 640, 640)\n",
      "encoder :  efficientnet-b4\n",
      "unet loaded\n",
      "model load success!!!\n",
      "(241, 3, 640, 640)\n"
     ]
    },
    {
     "name": "stderr",
     "output_type": "stream",
     "text": [
      "100%|██████████| 187/187 [00:15<00:00, 12.08it/s]\n"
     ]
    },
    {
     "name": "stdout",
     "output_type": "stream",
     "text": [
      "fold : 1, dice score : 0.9408280173950856\n",
      "encoder :  efficientnet-b4\n",
      "unet loaded\n",
      "model load success!!!\n",
      "(256, 3, 640, 640)\n",
      "encoder :  efficientnet-b4\n",
      "unet loaded\n",
      "model load success!!!\n",
      "(140, 3, 640, 640)\n",
      "encoder :  efficientnet-b4\n",
      "unet loaded\n",
      "model load success!!!\n",
      "(589, 3, 640, 640)\n"
     ]
    },
    {
     "name": "stderr",
     "output_type": "stream",
     "text": [
      "100%|██████████| 440/440 [01:22<00:00,  5.32it/s]\n"
     ]
    },
    {
     "name": "stdout",
     "output_type": "stream",
     "text": [
      "fold : 2, dice score : 0.9359662797146762\n",
      "encoder :  efficientnet-b4\n",
      "unet loaded\n",
      "model load success!!!\n",
      "(139, 3, 640, 640)\n",
      "encoder :  efficientnet-b4\n",
      "unet loaded\n",
      "model load success!!!\n",
      "(438, 3, 640, 640)\n",
      "encoder :  efficientnet-b4\n",
      "unet loaded\n",
      "model load success!!!\n",
      "(63, 3, 640, 640)\n"
     ]
    },
    {
     "name": "stderr",
     "output_type": "stream",
     "text": [
      "100%|██████████| 106/106 [00:02<00:00, 46.52it/s]\n"
     ]
    },
    {
     "name": "stdout",
     "output_type": "stream",
     "text": [
      "fold : 3, dice score : 0.9104212394377482\n",
      "encoder :  efficientnet-b4\n",
      "unet loaded\n",
      "model load success!!!\n",
      "(358, 3, 640, 640)\n",
      "encoder :  efficientnet-b4\n",
      "unet loaded\n",
      "model load success!!!\n",
      "(95, 3, 640, 640)\n",
      "encoder :  efficientnet-b4\n",
      "unet loaded\n",
      "model load success!!!\n",
      "(305, 3, 640, 640)\n"
     ]
    },
    {
     "name": "stderr",
     "output_type": "stream",
     "text": [
      "100%|██████████| 483/483 [00:56<00:00,  8.61it/s]\n"
     ]
    },
    {
     "name": "stdout",
     "output_type": "stream",
     "text": [
      "fold : 4, dice score : 0.939929981136914\n",
      "encoder :  efficientnet-b4\n",
      "unet loaded\n",
      "model load success!!!\n",
      "(312, 3, 640, 640)\n",
      "encoder :  efficientnet-b4\n",
      "unet loaded\n",
      "model load success!!!\n",
      "(316, 3, 640, 640)\n",
      "encoder :  efficientnet-b4\n",
      "unet loaded\n",
      "model load success!!!\n",
      "(175, 3, 640, 640)\n"
     ]
    },
    {
     "name": "stderr",
     "output_type": "stream",
     "text": [
      "100%|██████████| 183/183 [00:06<00:00, 27.54it/s]\n"
     ]
    },
    {
     "name": "stdout",
     "output_type": "stream",
     "text": [
      "fold : 5, dice score : 0.9455877695239249\n",
      "threshold : 0.7, min size : 1000, dice : 0.9345466574416699\n",
      "encoder :  efficientnet-b4\n",
      "unet loaded\n",
      "model load success!!!\n",
      "(157, 3, 640, 640)\n",
      "encoder :  efficientnet-b4\n",
      "unet loaded\n",
      "model load success!!!\n",
      "(374, 3, 640, 640)\n",
      "encoder :  efficientnet-b4\n",
      "unet loaded\n",
      "model load success!!!\n",
      "(241, 3, 640, 640)\n"
     ]
    },
    {
     "name": "stderr",
     "output_type": "stream",
     "text": [
      "100%|██████████| 187/187 [00:15<00:00, 12.02it/s]\n"
     ]
    },
    {
     "name": "stdout",
     "output_type": "stream",
     "text": [
      "fold : 1, dice score : 0.9412523522955455\n",
      "encoder :  efficientnet-b4\n",
      "unet loaded\n",
      "model load success!!!\n",
      "(256, 3, 640, 640)\n",
      "encoder :  efficientnet-b4\n",
      "unet loaded\n",
      "model load success!!!\n",
      "(140, 3, 640, 640)\n",
      "encoder :  efficientnet-b4\n",
      "unet loaded\n",
      "model load success!!!\n",
      "(589, 3, 640, 640)\n"
     ]
    },
    {
     "name": "stderr",
     "output_type": "stream",
     "text": [
      "100%|██████████| 440/440 [01:21<00:00,  5.38it/s]\n"
     ]
    },
    {
     "name": "stdout",
     "output_type": "stream",
     "text": [
      "fold : 2, dice score : 0.9359662797146762\n",
      "encoder :  efficientnet-b4\n",
      "unet loaded\n",
      "model load success!!!\n",
      "(139, 3, 640, 640)\n",
      "encoder :  efficientnet-b4\n",
      "unet loaded\n",
      "model load success!!!\n",
      "(438, 3, 640, 640)\n",
      "encoder :  efficientnet-b4\n",
      "unet loaded\n",
      "model load success!!!\n",
      "(63, 3, 640, 640)\n"
     ]
    },
    {
     "name": "stderr",
     "output_type": "stream",
     "text": [
      "100%|██████████| 106/106 [00:02<00:00, 48.57it/s]\n"
     ]
    },
    {
     "name": "stdout",
     "output_type": "stream",
     "text": [
      "fold : 3, dice score : 0.908137585588626\n",
      "encoder :  efficientnet-b4\n",
      "unet loaded\n",
      "model load success!!!\n",
      "(358, 3, 640, 640)\n",
      "encoder :  efficientnet-b4\n",
      "unet loaded\n",
      "model load success!!!\n",
      "(95, 3, 640, 640)\n",
      "encoder :  efficientnet-b4\n",
      "unet loaded\n",
      "model load success!!!\n",
      "(305, 3, 640, 640)\n"
     ]
    },
    {
     "name": "stderr",
     "output_type": "stream",
     "text": [
      "100%|██████████| 483/483 [00:55<00:00,  8.68it/s]\n"
     ]
    },
    {
     "name": "stdout",
     "output_type": "stream",
     "text": [
      "fold : 4, dice score : 0.9398841218224603\n",
      "encoder :  efficientnet-b4\n",
      "unet loaded\n",
      "model load success!!!\n",
      "(312, 3, 640, 640)\n",
      "encoder :  efficientnet-b4\n",
      "unet loaded\n",
      "model load success!!!\n",
      "(316, 3, 640, 640)\n",
      "encoder :  efficientnet-b4\n",
      "unet loaded\n",
      "model load success!!!\n",
      "(175, 3, 640, 640)\n"
     ]
    },
    {
     "name": "stderr",
     "output_type": "stream",
     "text": [
      "100%|██████████| 183/183 [00:06<00:00, 26.58it/s]\n"
     ]
    },
    {
     "name": "stdout",
     "output_type": "stream",
     "text": [
      "fold : 5, dice score : 0.9455877695239249\n",
      "threshold : 0.7, min size : 1100, dice : 0.9341656217890465\n",
      "encoder :  efficientnet-b4\n",
      "unet loaded\n",
      "model load success!!!\n",
      "(157, 3, 640, 640)\n",
      "encoder :  efficientnet-b4\n",
      "unet loaded\n",
      "model load success!!!\n",
      "(374, 3, 640, 640)\n",
      "encoder :  efficientnet-b4\n",
      "unet loaded\n",
      "model load success!!!\n",
      "(241, 3, 640, 640)\n"
     ]
    },
    {
     "name": "stderr",
     "output_type": "stream",
     "text": [
      "100%|██████████| 187/187 [00:15<00:00, 11.97it/s]\n"
     ]
    },
    {
     "name": "stdout",
     "output_type": "stream",
     "text": [
      "fold : 1, dice score : 0.9412523522955455\n",
      "encoder :  efficientnet-b4\n",
      "unet loaded\n",
      "model load success!!!\n",
      "(256, 3, 640, 640)\n",
      "encoder :  efficientnet-b4\n",
      "unet loaded\n",
      "model load success!!!\n",
      "(140, 3, 640, 640)\n",
      "encoder :  efficientnet-b4\n",
      "unet loaded\n",
      "model load success!!!\n",
      "(589, 3, 640, 640)\n"
     ]
    },
    {
     "name": "stderr",
     "output_type": "stream",
     "text": [
      "100%|██████████| 440/440 [01:20<00:00,  5.47it/s]\n"
     ]
    },
    {
     "name": "stdout",
     "output_type": "stream",
     "text": [
      "fold : 2, dice score : 0.9357472848720501\n",
      "encoder :  efficientnet-b4\n",
      "unet loaded\n",
      "model load success!!!\n",
      "(139, 3, 640, 640)\n",
      "encoder :  efficientnet-b4\n",
      "unet loaded\n",
      "model load success!!!\n",
      "(438, 3, 640, 640)\n",
      "encoder :  efficientnet-b4\n",
      "unet loaded\n",
      "model load success!!!\n",
      "(63, 3, 640, 640)\n"
     ]
    },
    {
     "name": "stderr",
     "output_type": "stream",
     "text": [
      "100%|██████████| 106/106 [00:02<00:00, 46.22it/s]\n"
     ]
    },
    {
     "name": "stdout",
     "output_type": "stream",
     "text": [
      "fold : 3, dice score : 0.908137585588626\n",
      "encoder :  efficientnet-b4\n",
      "unet loaded\n",
      "model load success!!!\n",
      "(358, 3, 640, 640)\n",
      "encoder :  efficientnet-b4\n",
      "unet loaded\n",
      "model load success!!!\n",
      "(95, 3, 640, 640)\n",
      "encoder :  efficientnet-b4\n",
      "unet loaded\n",
      "model load success!!!\n",
      "(305, 3, 640, 640)\n"
     ]
    },
    {
     "name": "stderr",
     "output_type": "stream",
     "text": [
      "100%|██████████| 483/483 [00:56<00:00,  8.51it/s]\n"
     ]
    },
    {
     "name": "stdout",
     "output_type": "stream",
     "text": [
      "fold : 4, dice score : 0.9388072904393119\n",
      "encoder :  efficientnet-b4\n",
      "unet loaded\n",
      "model load success!!!\n",
      "(312, 3, 640, 640)\n",
      "encoder :  efficientnet-b4\n",
      "unet loaded\n",
      "model load success!!!\n",
      "(316, 3, 640, 640)\n",
      "encoder :  efficientnet-b4\n",
      "unet loaded\n",
      "model load success!!!\n",
      "(175, 3, 640, 640)\n"
     ]
    },
    {
     "name": "stderr",
     "output_type": "stream",
     "text": [
      "100%|██████████| 183/183 [00:06<00:00, 26.40it/s]\n"
     ]
    },
    {
     "name": "stdout",
     "output_type": "stream",
     "text": [
      "fold : 5, dice score : 0.9455877695239249\n",
      "threshold : 0.7, min size : 1200, dice : 0.9339064565438917\n",
      "encoder :  efficientnet-b4\n",
      "unet loaded\n",
      "model load success!!!\n",
      "(157, 3, 640, 640)\n",
      "encoder :  efficientnet-b4\n",
      "unet loaded\n",
      "model load success!!!\n",
      "(374, 3, 640, 640)\n",
      "encoder :  efficientnet-b4\n",
      "unet loaded\n",
      "model load success!!!\n",
      "(241, 3, 640, 640)\n"
     ]
    },
    {
     "name": "stderr",
     "output_type": "stream",
     "text": [
      "100%|██████████| 187/187 [00:14<00:00, 12.53it/s]\n"
     ]
    },
    {
     "name": "stdout",
     "output_type": "stream",
     "text": [
      "fold : 1, dice score : 0.9406929684193853\n",
      "encoder :  efficientnet-b4\n",
      "unet loaded\n",
      "model load success!!!\n",
      "(256, 3, 640, 640)\n",
      "encoder :  efficientnet-b4\n",
      "unet loaded\n",
      "model load success!!!\n",
      "(140, 3, 640, 640)\n",
      "encoder :  efficientnet-b4\n",
      "unet loaded\n",
      "model load success!!!\n",
      "(589, 3, 640, 640)\n"
     ]
    },
    {
     "name": "stderr",
     "output_type": "stream",
     "text": [
      "100%|██████████| 440/440 [01:20<00:00,  5.48it/s]\n"
     ]
    },
    {
     "name": "stdout",
     "output_type": "stream",
     "text": [
      "fold : 2, dice score : 0.9357472848720501\n",
      "encoder :  efficientnet-b4\n",
      "unet loaded\n",
      "model load success!!!\n",
      "(139, 3, 640, 640)\n",
      "encoder :  efficientnet-b4\n",
      "unet loaded\n",
      "model load success!!!\n",
      "(438, 3, 640, 640)\n",
      "encoder :  efficientnet-b4\n",
      "unet loaded\n",
      "model load success!!!\n",
      "(63, 3, 640, 640)\n"
     ]
    },
    {
     "name": "stderr",
     "output_type": "stream",
     "text": [
      "100%|██████████| 106/106 [00:02<00:00, 47.95it/s]\n"
     ]
    },
    {
     "name": "stdout",
     "output_type": "stream",
     "text": [
      "fold : 3, dice score : 0.9104246133638833\n",
      "encoder :  efficientnet-b4\n",
      "unet loaded\n",
      "model load success!!!\n",
      "(358, 3, 640, 640)\n",
      "encoder :  efficientnet-b4\n",
      "unet loaded\n",
      "model load success!!!\n",
      "(95, 3, 640, 640)\n",
      "encoder :  efficientnet-b4\n",
      "unet loaded\n",
      "model load success!!!\n",
      "(305, 3, 640, 640)\n"
     ]
    },
    {
     "name": "stderr",
     "output_type": "stream",
     "text": [
      "100%|██████████| 483/483 [00:55<00:00,  8.70it/s]\n"
     ]
    },
    {
     "name": "stdout",
     "output_type": "stream",
     "text": [
      "fold : 4, dice score : 0.9367929438492772\n",
      "encoder :  efficientnet-b4\n",
      "unet loaded\n",
      "model load success!!!\n",
      "(312, 3, 640, 640)\n",
      "encoder :  efficientnet-b4\n",
      "unet loaded\n",
      "model load success!!!\n",
      "(316, 3, 640, 640)\n",
      "encoder :  efficientnet-b4\n",
      "unet loaded\n",
      "model load success!!!\n",
      "(175, 3, 640, 640)\n"
     ]
    },
    {
     "name": "stderr",
     "output_type": "stream",
     "text": [
      "100%|██████████| 183/183 [00:07<00:00, 26.14it/s]\n"
     ]
    },
    {
     "name": "stdout",
     "output_type": "stream",
     "text": [
      "fold : 5, dice score : 0.9455877695239249\n",
      "threshold : 0.7, min size : 1300, dice : 0.9338491160057043\n",
      "encoder :  efficientnet-b4\n",
      "unet loaded\n",
      "model load success!!!\n",
      "(157, 3, 640, 640)\n",
      "encoder :  efficientnet-b4\n",
      "unet loaded\n",
      "model load success!!!\n",
      "(374, 3, 640, 640)\n",
      "encoder :  efficientnet-b4\n",
      "unet loaded\n",
      "model load success!!!\n",
      "(241, 3, 640, 640)\n"
     ]
    },
    {
     "name": "stderr",
     "output_type": "stream",
     "text": [
      "100%|██████████| 187/187 [00:15<00:00, 11.97it/s]\n"
     ]
    },
    {
     "name": "stdout",
     "output_type": "stream",
     "text": [
      "fold : 1, dice score : 0.9406929684193853\n",
      "encoder :  efficientnet-b4\n",
      "unet loaded\n",
      "model load success!!!\n",
      "(256, 3, 640, 640)\n",
      "encoder :  efficientnet-b4\n",
      "unet loaded\n",
      "model load success!!!\n",
      "(140, 3, 640, 640)\n",
      "encoder :  efficientnet-b4\n",
      "unet loaded\n",
      "model load success!!!\n",
      "(589, 3, 640, 640)\n"
     ]
    },
    {
     "name": "stderr",
     "output_type": "stream",
     "text": [
      "100%|██████████| 440/440 [01:24<00:00,  5.21it/s]\n"
     ]
    },
    {
     "name": "stdout",
     "output_type": "stream",
     "text": [
      "fold : 2, dice score : 0.9364601842784139\n",
      "encoder :  efficientnet-b4\n",
      "unet loaded\n",
      "model load success!!!\n",
      "(139, 3, 640, 640)\n",
      "encoder :  efficientnet-b4\n",
      "unet loaded\n",
      "model load success!!!\n",
      "(438, 3, 640, 640)\n",
      "encoder :  efficientnet-b4\n",
      "unet loaded\n",
      "model load success!!!\n",
      "(63, 3, 640, 640)\n"
     ]
    },
    {
     "name": "stderr",
     "output_type": "stream",
     "text": [
      "100%|██████████| 106/106 [00:02<00:00, 46.93it/s]\n"
     ]
    },
    {
     "name": "stdout",
     "output_type": "stream",
     "text": [
      "fold : 3, dice score : 0.9058028435682958\n",
      "encoder :  efficientnet-b4\n",
      "unet loaded\n",
      "model load success!!!\n",
      "(358, 3, 640, 640)\n",
      "encoder :  efficientnet-b4\n",
      "unet loaded\n",
      "model load success!!!\n",
      "(95, 3, 640, 640)\n",
      "encoder :  efficientnet-b4\n",
      "unet loaded\n",
      "model load success!!!\n",
      "(305, 3, 640, 640)\n"
     ]
    },
    {
     "name": "stderr",
     "output_type": "stream",
     "text": [
      "100%|██████████| 483/483 [00:58<00:00,  8.20it/s]\n"
     ]
    },
    {
     "name": "stdout",
     "output_type": "stream",
     "text": [
      "fold : 4, dice score : 0.9351409385344654\n",
      "encoder :  efficientnet-b4\n",
      "unet loaded\n",
      "model load success!!!\n",
      "(312, 3, 640, 640)\n",
      "encoder :  efficientnet-b4\n",
      "unet loaded\n",
      "model load success!!!\n",
      "(316, 3, 640, 640)\n",
      "encoder :  efficientnet-b4\n",
      "unet loaded\n",
      "model load success!!!\n",
      "(175, 3, 640, 640)\n"
     ]
    },
    {
     "name": "stderr",
     "output_type": "stream",
     "text": [
      "100%|██████████| 183/183 [00:06<00:00, 26.66it/s]\n"
     ]
    },
    {
     "name": "stdout",
     "output_type": "stream",
     "text": [
      "fold : 5, dice score : 0.9455545517532793\n",
      "threshold : 0.7, min size : 1400, dice : 0.932730297310768\n",
      "encoder :  efficientnet-b4\n",
      "unet loaded\n",
      "model load success!!!\n",
      "(157, 3, 640, 640)\n",
      "encoder :  efficientnet-b4\n",
      "unet loaded\n",
      "model load success!!!\n",
      "(374, 3, 640, 640)\n",
      "encoder :  efficientnet-b4\n",
      "unet loaded\n",
      "model load success!!!\n",
      "(241, 3, 640, 640)\n"
     ]
    },
    {
     "name": "stderr",
     "output_type": "stream",
     "text": [
      "100%|██████████| 187/187 [00:15<00:00, 11.86it/s]\n"
     ]
    },
    {
     "name": "stdout",
     "output_type": "stream",
     "text": [
      "fold : 1, dice score : 0.9368661188200791\n",
      "encoder :  efficientnet-b4\n",
      "unet loaded\n",
      "model load success!!!\n",
      "(256, 3, 640, 640)\n",
      "encoder :  efficientnet-b4\n",
      "unet loaded\n",
      "model load success!!!\n",
      "(140, 3, 640, 640)\n",
      "encoder :  efficientnet-b4\n",
      "unet loaded\n",
      "model load success!!!\n",
      "(589, 3, 640, 640)\n"
     ]
    },
    {
     "name": "stderr",
     "output_type": "stream",
     "text": [
      "100%|██████████| 437/437 [01:20<00:00,  5.44it/s]\n"
     ]
    },
    {
     "name": "stdout",
     "output_type": "stream",
     "text": [
      "fold : 2, dice score : 0.926214645124195\n",
      "encoder :  efficientnet-b4\n",
      "unet loaded\n",
      "model load success!!!\n",
      "(139, 3, 640, 640)\n",
      "encoder :  efficientnet-b4\n",
      "unet loaded\n",
      "model load success!!!\n",
      "(438, 3, 640, 640)\n",
      "encoder :  efficientnet-b4\n",
      "unet loaded\n",
      "model load success!!!\n",
      "(63, 3, 640, 640)\n"
     ]
    },
    {
     "name": "stderr",
     "output_type": "stream",
     "text": [
      "100%|██████████| 98/98 [00:02<00:00, 46.47it/s]\n"
     ]
    },
    {
     "name": "stdout",
     "output_type": "stream",
     "text": [
      "fold : 3, dice score : 0.891437585299615\n",
      "encoder :  efficientnet-b4\n",
      "unet loaded\n",
      "model load success!!!\n",
      "(358, 3, 640, 640)\n",
      "encoder :  efficientnet-b4\n",
      "unet loaded\n",
      "model load success!!!\n",
      "(95, 3, 640, 640)\n",
      "encoder :  efficientnet-b4\n",
      "unet loaded\n",
      "model load success!!!\n",
      "(305, 3, 640, 640)\n"
     ]
    },
    {
     "name": "stderr",
     "output_type": "stream",
     "text": [
      "100%|██████████| 488/488 [00:56<00:00,  8.58it/s]\n"
     ]
    },
    {
     "name": "stdout",
     "output_type": "stream",
     "text": [
      "fold : 4, dice score : 0.9323526312808443\n",
      "encoder :  efficientnet-b4\n",
      "unet loaded\n",
      "model load success!!!\n",
      "(312, 3, 640, 640)\n",
      "encoder :  efficientnet-b4\n",
      "unet loaded\n",
      "model load success!!!\n",
      "(316, 3, 640, 640)\n",
      "encoder :  efficientnet-b4\n",
      "unet loaded\n",
      "model load success!!!\n",
      "(175, 3, 640, 640)\n"
     ]
    },
    {
     "name": "stderr",
     "output_type": "stream",
     "text": [
      "100%|██████████| 186/186 [00:06<00:00, 27.54it/s]\n"
     ]
    },
    {
     "name": "stdout",
     "output_type": "stream",
     "text": [
      "fold : 5, dice score : 0.938491116876024\n",
      "threshold : 0.7999999999999999, min size : 100, dice : 0.9250724194801515\n",
      "encoder :  efficientnet-b4\n",
      "unet loaded\n",
      "model load success!!!\n",
      "(157, 3, 640, 640)\n",
      "encoder :  efficientnet-b4\n",
      "unet loaded\n",
      "model load success!!!\n",
      "(374, 3, 640, 640)\n",
      "encoder :  efficientnet-b4\n",
      "unet loaded\n",
      "model load success!!!\n",
      "(241, 3, 640, 640)\n"
     ]
    },
    {
     "name": "stderr",
     "output_type": "stream",
     "text": [
      "100%|██████████| 187/187 [00:14<00:00, 12.56it/s]\n"
     ]
    },
    {
     "name": "stdout",
     "output_type": "stream",
     "text": [
      "fold : 1, dice score : 0.9369116700691693\n",
      "encoder :  efficientnet-b4\n",
      "unet loaded\n",
      "model load success!!!\n",
      "(256, 3, 640, 640)\n",
      "encoder :  efficientnet-b4\n",
      "unet loaded\n",
      "model load success!!!\n",
      "(140, 3, 640, 640)\n",
      "encoder :  efficientnet-b4\n",
      "unet loaded\n",
      "model load success!!!\n",
      "(589, 3, 640, 640)\n"
     ]
    },
    {
     "name": "stderr",
     "output_type": "stream",
     "text": [
      "100%|██████████| 437/437 [01:24<00:00,  5.18it/s]\n"
     ]
    },
    {
     "name": "stdout",
     "output_type": "stream",
     "text": [
      "fold : 2, dice score : 0.926214645124195\n",
      "encoder :  efficientnet-b4\n",
      "unet loaded\n",
      "model load success!!!\n",
      "(139, 3, 640, 640)\n",
      "encoder :  efficientnet-b4\n",
      "unet loaded\n",
      "model load success!!!\n",
      "(438, 3, 640, 640)\n",
      "encoder :  efficientnet-b4\n",
      "unet loaded\n",
      "model load success!!!\n",
      "(63, 3, 640, 640)\n"
     ]
    },
    {
     "name": "stderr",
     "output_type": "stream",
     "text": [
      "100%|██████████| 98/98 [00:02<00:00, 46.65it/s]\n"
     ]
    },
    {
     "name": "stdout",
     "output_type": "stream",
     "text": [
      "fold : 3, dice score : 0.891437585299615\n",
      "encoder :  efficientnet-b4\n",
      "unet loaded\n",
      "model load success!!!\n",
      "(358, 3, 640, 640)\n",
      "encoder :  efficientnet-b4\n",
      "unet loaded\n",
      "model load success!!!\n",
      "(95, 3, 640, 640)\n",
      "encoder :  efficientnet-b4\n",
      "unet loaded\n",
      "model load success!!!\n",
      "(305, 3, 640, 640)\n"
     ]
    },
    {
     "name": "stderr",
     "output_type": "stream",
     "text": [
      "100%|██████████| 488/488 [00:56<00:00,  8.70it/s]\n"
     ]
    },
    {
     "name": "stdout",
     "output_type": "stream",
     "text": [
      "fold : 4, dice score : 0.9325108191222722\n",
      "encoder :  efficientnet-b4\n",
      "unet loaded\n",
      "model load success!!!\n",
      "(312, 3, 640, 640)\n",
      "encoder :  efficientnet-b4\n",
      "unet loaded\n",
      "model load success!!!\n",
      "(316, 3, 640, 640)\n",
      "encoder :  efficientnet-b4\n",
      "unet loaded\n",
      "model load success!!!\n",
      "(175, 3, 640, 640)\n"
     ]
    },
    {
     "name": "stderr",
     "output_type": "stream",
     "text": [
      "100%|██████████| 186/186 [00:07<00:00, 25.41it/s]\n"
     ]
    },
    {
     "name": "stdout",
     "output_type": "stream",
     "text": [
      "fold : 5, dice score : 0.938381783262148\n",
      "threshold : 0.7999999999999999, min size : 200, dice : 0.92509130057548\n",
      "encoder :  efficientnet-b4\n",
      "unet loaded\n",
      "model load success!!!\n",
      "(157, 3, 640, 640)\n",
      "encoder :  efficientnet-b4\n",
      "unet loaded\n",
      "model load success!!!\n",
      "(374, 3, 640, 640)\n",
      "encoder :  efficientnet-b4\n",
      "unet loaded\n",
      "model load success!!!\n",
      "(241, 3, 640, 640)\n"
     ]
    },
    {
     "name": "stderr",
     "output_type": "stream",
     "text": [
      "100%|██████████| 187/187 [00:14<00:00, 12.50it/s]\n"
     ]
    },
    {
     "name": "stdout",
     "output_type": "stream",
     "text": [
      "fold : 1, dice score : 0.9369116700691693\n",
      "encoder :  efficientnet-b4\n",
      "unet loaded\n",
      "model load success!!!\n",
      "(256, 3, 640, 640)\n",
      "encoder :  efficientnet-b4\n",
      "unet loaded\n",
      "model load success!!!\n",
      "(140, 3, 640, 640)\n",
      "encoder :  efficientnet-b4\n",
      "unet loaded\n",
      "model load success!!!\n",
      "(589, 3, 640, 640)\n"
     ]
    },
    {
     "name": "stderr",
     "output_type": "stream",
     "text": [
      "100%|██████████| 437/437 [01:19<00:00,  5.52it/s]\n"
     ]
    },
    {
     "name": "stdout",
     "output_type": "stream",
     "text": [
      "fold : 2, dice score : 0.9261730575313963\n",
      "encoder :  efficientnet-b4\n",
      "unet loaded\n",
      "model load success!!!\n",
      "(139, 3, 640, 640)\n",
      "encoder :  efficientnet-b4\n",
      "unet loaded\n",
      "model load success!!!\n",
      "(438, 3, 640, 640)\n",
      "encoder :  efficientnet-b4\n",
      "unet loaded\n",
      "model load success!!!\n",
      "(63, 3, 640, 640)\n"
     ]
    },
    {
     "name": "stderr",
     "output_type": "stream",
     "text": [
      "100%|██████████| 98/98 [00:02<00:00, 47.41it/s]\n"
     ]
    },
    {
     "name": "stdout",
     "output_type": "stream",
     "text": [
      "fold : 3, dice score : 0.8908320004142705\n",
      "encoder :  efficientnet-b4\n",
      "unet loaded\n",
      "model load success!!!\n",
      "(358, 3, 640, 640)\n",
      "encoder :  efficientnet-b4\n",
      "unet loaded\n",
      "model load success!!!\n",
      "(95, 3, 640, 640)\n",
      "encoder :  efficientnet-b4\n",
      "unet loaded\n",
      "model load success!!!\n",
      "(305, 3, 640, 640)\n"
     ]
    },
    {
     "name": "stderr",
     "output_type": "stream",
     "text": [
      "100%|██████████| 488/488 [01:00<00:00,  8.07it/s]\n"
     ]
    },
    {
     "name": "stdout",
     "output_type": "stream",
     "text": [
      "fold : 4, dice score : 0.93234977285214\n",
      "encoder :  efficientnet-b4\n",
      "unet loaded\n",
      "model load success!!!\n",
      "(312, 3, 640, 640)\n",
      "encoder :  efficientnet-b4\n",
      "unet loaded\n",
      "model load success!!!\n",
      "(316, 3, 640, 640)\n",
      "encoder :  efficientnet-b4\n",
      "unet loaded\n",
      "model load success!!!\n",
      "(175, 3, 640, 640)\n"
     ]
    },
    {
     "name": "stderr",
     "output_type": "stream",
     "text": [
      "100%|██████████| 186/186 [00:06<00:00, 26.76it/s]\n"
     ]
    },
    {
     "name": "stdout",
     "output_type": "stream",
     "text": [
      "fold : 5, dice score : 0.938381783262148\n",
      "threshold : 0.7999999999999999, min size : 300, dice : 0.9249296568258248\n",
      "encoder :  efficientnet-b4\n",
      "unet loaded\n",
      "model load success!!!\n",
      "(157, 3, 640, 640)\n",
      "encoder :  efficientnet-b4\n",
      "unet loaded\n",
      "model load success!!!\n",
      "(374, 3, 640, 640)\n",
      "encoder :  efficientnet-b4\n",
      "unet loaded\n",
      "model load success!!!\n",
      "(241, 3, 640, 640)\n"
     ]
    },
    {
     "name": "stderr",
     "output_type": "stream",
     "text": [
      "100%|██████████| 187/187 [00:15<00:00, 12.37it/s]\n"
     ]
    },
    {
     "name": "stdout",
     "output_type": "stream",
     "text": [
      "fold : 1, dice score : 0.9369116700691693\n",
      "encoder :  efficientnet-b4\n",
      "unet loaded\n",
      "model load success!!!\n",
      "(256, 3, 640, 640)\n",
      "encoder :  efficientnet-b4\n",
      "unet loaded\n",
      "model load success!!!\n",
      "(140, 3, 640, 640)\n",
      "encoder :  efficientnet-b4\n",
      "unet loaded\n",
      "model load success!!!\n",
      "(589, 3, 640, 640)\n"
     ]
    },
    {
     "name": "stderr",
     "output_type": "stream",
     "text": [
      "100%|██████████| 437/437 [01:20<00:00,  5.45it/s]\n"
     ]
    },
    {
     "name": "stdout",
     "output_type": "stream",
     "text": [
      "fold : 2, dice score : 0.9261730575313963\n",
      "encoder :  efficientnet-b4\n",
      "unet loaded\n",
      "model load success!!!\n",
      "(139, 3, 640, 640)\n",
      "encoder :  efficientnet-b4\n",
      "unet loaded\n",
      "model load success!!!\n",
      "(438, 3, 640, 640)\n",
      "encoder :  efficientnet-b4\n",
      "unet loaded\n",
      "model load success!!!\n",
      "(63, 3, 640, 640)\n"
     ]
    },
    {
     "name": "stderr",
     "output_type": "stream",
     "text": [
      "100%|██████████| 98/98 [00:01<00:00, 50.52it/s]\n"
     ]
    },
    {
     "name": "stdout",
     "output_type": "stream",
     "text": [
      "fold : 3, dice score : 0.8908320004142705\n",
      "encoder :  efficientnet-b4\n",
      "unet loaded\n",
      "model load success!!!\n",
      "(358, 3, 640, 640)\n",
      "encoder :  efficientnet-b4\n",
      "unet loaded\n",
      "model load success!!!\n",
      "(95, 3, 640, 640)\n",
      "encoder :  efficientnet-b4\n",
      "unet loaded\n",
      "model load success!!!\n",
      "(305, 3, 640, 640)\n"
     ]
    },
    {
     "name": "stderr",
     "output_type": "stream",
     "text": [
      "100%|██████████| 488/488 [00:58<00:00,  8.27it/s]\n"
     ]
    },
    {
     "name": "stdout",
     "output_type": "stream",
     "text": [
      "fold : 4, dice score : 0.9324454202530172\n",
      "encoder :  efficientnet-b4\n",
      "unet loaded\n",
      "model load success!!!\n",
      "(312, 3, 640, 640)\n",
      "encoder :  efficientnet-b4\n",
      "unet loaded\n",
      "model load success!!!\n",
      "(316, 3, 640, 640)\n",
      "encoder :  efficientnet-b4\n",
      "unet loaded\n",
      "model load success!!!\n",
      "(175, 3, 640, 640)\n"
     ]
    },
    {
     "name": "stderr",
     "output_type": "stream",
     "text": [
      "100%|██████████| 186/186 [00:07<00:00, 26.19it/s]\n"
     ]
    },
    {
     "name": "stdout",
     "output_type": "stream",
     "text": [
      "fold : 5, dice score : 0.938381783262148\n",
      "threshold : 0.7999999999999999, min size : 400, dice : 0.9249487863060002\n",
      "encoder :  efficientnet-b4\n",
      "unet loaded\n",
      "model load success!!!\n",
      "(157, 3, 640, 640)\n",
      "encoder :  efficientnet-b4\n",
      "unet loaded\n",
      "model load success!!!\n",
      "(374, 3, 640, 640)\n",
      "encoder :  efficientnet-b4\n",
      "unet loaded\n",
      "model load success!!!\n",
      "(241, 3, 640, 640)\n"
     ]
    },
    {
     "name": "stderr",
     "output_type": "stream",
     "text": [
      "100%|██████████| 187/187 [00:15<00:00, 12.02it/s]\n"
     ]
    },
    {
     "name": "stdout",
     "output_type": "stream",
     "text": [
      "fold : 1, dice score : 0.9369116700691693\n",
      "encoder :  efficientnet-b4\n",
      "unet loaded\n",
      "model load success!!!\n",
      "(256, 3, 640, 640)\n",
      "encoder :  efficientnet-b4\n",
      "unet loaded\n",
      "model load success!!!\n",
      "(140, 3, 640, 640)\n",
      "encoder :  efficientnet-b4\n",
      "unet loaded\n",
      "model load success!!!\n",
      "(589, 3, 640, 640)\n"
     ]
    },
    {
     "name": "stderr",
     "output_type": "stream",
     "text": [
      "100%|██████████| 437/437 [01:19<00:00,  5.48it/s]\n"
     ]
    },
    {
     "name": "stdout",
     "output_type": "stream",
     "text": [
      "fold : 2, dice score : 0.9261730575313963\n",
      "encoder :  efficientnet-b4\n",
      "unet loaded\n",
      "model load success!!!\n",
      "(139, 3, 640, 640)\n",
      "encoder :  efficientnet-b4\n",
      "unet loaded\n",
      "model load success!!!\n",
      "(438, 3, 640, 640)\n",
      "encoder :  efficientnet-b4\n",
      "unet loaded\n",
      "model load success!!!\n",
      "(63, 3, 640, 640)\n"
     ]
    },
    {
     "name": "stderr",
     "output_type": "stream",
     "text": [
      "100%|██████████| 98/98 [00:01<00:00, 50.91it/s]\n"
     ]
    },
    {
     "name": "stdout",
     "output_type": "stream",
     "text": [
      "fold : 3, dice score : 0.89157516644798\n",
      "encoder :  efficientnet-b4\n",
      "unet loaded\n",
      "model load success!!!\n",
      "(358, 3, 640, 640)\n",
      "encoder :  efficientnet-b4\n",
      "unet loaded\n",
      "model load success!!!\n",
      "(95, 3, 640, 640)\n",
      "encoder :  efficientnet-b4\n",
      "unet loaded\n",
      "model load success!!!\n",
      "(305, 3, 640, 640)\n"
     ]
    },
    {
     "name": "stderr",
     "output_type": "stream",
     "text": [
      "100%|██████████| 488/488 [00:57<00:00,  8.49it/s]\n"
     ]
    },
    {
     "name": "stdout",
     "output_type": "stream",
     "text": [
      "fold : 4, dice score : 0.9324454202530172\n",
      "encoder :  efficientnet-b4\n",
      "unet loaded\n",
      "model load success!!!\n",
      "(312, 3, 640, 640)\n",
      "encoder :  efficientnet-b4\n",
      "unet loaded\n",
      "model load success!!!\n",
      "(316, 3, 640, 640)\n",
      "encoder :  efficientnet-b4\n",
      "unet loaded\n",
      "model load success!!!\n",
      "(175, 3, 640, 640)\n"
     ]
    },
    {
     "name": "stderr",
     "output_type": "stream",
     "text": [
      "100%|██████████| 186/186 [00:06<00:00, 26.92it/s]\n"
     ]
    },
    {
     "name": "stdout",
     "output_type": "stream",
     "text": [
      "fold : 5, dice score : 0.938381783262148\n",
      "threshold : 0.7999999999999999, min size : 500, dice : 0.9250974195127422\n",
      "encoder :  efficientnet-b4\n",
      "unet loaded\n",
      "model load success!!!\n",
      "(157, 3, 640, 640)\n",
      "encoder :  efficientnet-b4\n",
      "unet loaded\n",
      "model load success!!!\n",
      "(374, 3, 640, 640)\n",
      "encoder :  efficientnet-b4\n",
      "unet loaded\n",
      "model load success!!!\n",
      "(241, 3, 640, 640)\n"
     ]
    },
    {
     "name": "stderr",
     "output_type": "stream",
     "text": [
      "100%|██████████| 187/187 [00:15<00:00, 11.98it/s]\n"
     ]
    },
    {
     "name": "stdout",
     "output_type": "stream",
     "text": [
      "fold : 1, dice score : 0.9369116700691693\n",
      "encoder :  efficientnet-b4\n",
      "unet loaded\n",
      "model load success!!!\n",
      "(256, 3, 640, 640)\n",
      "encoder :  efficientnet-b4\n",
      "unet loaded\n",
      "model load success!!!\n",
      "(140, 3, 640, 640)\n",
      "encoder :  efficientnet-b4\n",
      "unet loaded\n",
      "model load success!!!\n",
      "(589, 3, 640, 640)\n"
     ]
    },
    {
     "name": "stderr",
     "output_type": "stream",
     "text": [
      "100%|██████████| 437/437 [01:19<00:00,  5.51it/s]\n"
     ]
    },
    {
     "name": "stdout",
     "output_type": "stream",
     "text": [
      "fold : 2, dice score : 0.9261730575313963\n",
      "encoder :  efficientnet-b4\n",
      "unet loaded\n",
      "model load success!!!\n",
      "(139, 3, 640, 640)\n",
      "encoder :  efficientnet-b4\n",
      "unet loaded\n",
      "model load success!!!\n",
      "(438, 3, 640, 640)\n",
      "encoder :  efficientnet-b4\n",
      "unet loaded\n",
      "model load success!!!\n",
      "(63, 3, 640, 640)\n"
     ]
    },
    {
     "name": "stderr",
     "output_type": "stream",
     "text": [
      "100%|██████████| 98/98 [00:02<00:00, 47.21it/s]\n"
     ]
    },
    {
     "name": "stdout",
     "output_type": "stream",
     "text": [
      "fold : 3, dice score : 0.890338816821189\n",
      "encoder :  efficientnet-b4\n",
      "unet loaded\n",
      "model load success!!!\n",
      "(358, 3, 640, 640)\n",
      "encoder :  efficientnet-b4\n",
      "unet loaded\n",
      "model load success!!!\n",
      "(95, 3, 640, 640)\n",
      "encoder :  efficientnet-b4\n",
      "unet loaded\n",
      "model load success!!!\n",
      "(305, 3, 640, 640)\n"
     ]
    },
    {
     "name": "stderr",
     "output_type": "stream",
     "text": [
      "100%|██████████| 488/488 [00:58<00:00,  8.39it/s]\n"
     ]
    },
    {
     "name": "stdout",
     "output_type": "stream",
     "text": [
      "fold : 4, dice score : 0.9324454202530172\n",
      "encoder :  efficientnet-b4\n",
      "unet loaded\n",
      "model load success!!!\n",
      "(312, 3, 640, 640)\n",
      "encoder :  efficientnet-b4\n",
      "unet loaded\n",
      "model load success!!!\n",
      "(316, 3, 640, 640)\n",
      "encoder :  efficientnet-b4\n",
      "unet loaded\n",
      "model load success!!!\n",
      "(175, 3, 640, 640)\n"
     ]
    },
    {
     "name": "stderr",
     "output_type": "stream",
     "text": [
      "100%|██████████| 186/186 [00:07<00:00, 25.87it/s]\n"
     ]
    },
    {
     "name": "stdout",
     "output_type": "stream",
     "text": [
      "fold : 5, dice score : 0.938381783262148\n",
      "threshold : 0.7999999999999999, min size : 600, dice : 0.9248501495873839\n",
      "encoder :  efficientnet-b4\n",
      "unet loaded\n",
      "model load success!!!\n",
      "(157, 3, 640, 640)\n",
      "encoder :  efficientnet-b4\n",
      "unet loaded\n",
      "model load success!!!\n",
      "(374, 3, 640, 640)\n",
      "encoder :  efficientnet-b4\n",
      "unet loaded\n",
      "model load success!!!\n",
      "(241, 3, 640, 640)\n"
     ]
    },
    {
     "name": "stderr",
     "output_type": "stream",
     "text": [
      "100%|██████████| 187/187 [00:15<00:00, 11.96it/s]\n"
     ]
    },
    {
     "name": "stdout",
     "output_type": "stream",
     "text": [
      "fold : 1, dice score : 0.9369116700691693\n",
      "encoder :  efficientnet-b4\n",
      "unet loaded\n",
      "model load success!!!\n",
      "(256, 3, 640, 640)\n",
      "encoder :  efficientnet-b4\n",
      "unet loaded\n",
      "model load success!!!\n",
      "(140, 3, 640, 640)\n",
      "encoder :  efficientnet-b4\n",
      "unet loaded\n",
      "model load success!!!\n",
      "(589, 3, 640, 640)\n"
     ]
    },
    {
     "name": "stderr",
     "output_type": "stream",
     "text": [
      "100%|██████████| 437/437 [01:21<00:00,  5.34it/s]\n"
     ]
    },
    {
     "name": "stdout",
     "output_type": "stream",
     "text": [
      "fold : 2, dice score : 0.9261730575313963\n",
      "encoder :  efficientnet-b4\n",
      "unet loaded\n",
      "model load success!!!\n",
      "(139, 3, 640, 640)\n",
      "encoder :  efficientnet-b4\n",
      "unet loaded\n",
      "model load success!!!\n",
      "(438, 3, 640, 640)\n",
      "encoder :  efficientnet-b4\n",
      "unet loaded\n",
      "model load success!!!\n",
      "(63, 3, 640, 640)\n"
     ]
    },
    {
     "name": "stderr",
     "output_type": "stream",
     "text": [
      "100%|██████████| 98/98 [00:02<00:00, 47.69it/s]\n"
     ]
    },
    {
     "name": "stdout",
     "output_type": "stream",
     "text": [
      "fold : 3, dice score : 0.8889617000481657\n",
      "encoder :  efficientnet-b4\n",
      "unet loaded\n",
      "model load success!!!\n",
      "(358, 3, 640, 640)\n",
      "encoder :  efficientnet-b4\n",
      "unet loaded\n",
      "model load success!!!\n",
      "(95, 3, 640, 640)\n",
      "encoder :  efficientnet-b4\n",
      "unet loaded\n",
      "model load success!!!\n",
      "(305, 3, 640, 640)\n"
     ]
    },
    {
     "name": "stderr",
     "output_type": "stream",
     "text": [
      "100%|██████████| 488/488 [00:57<00:00,  8.53it/s]\n"
     ]
    },
    {
     "name": "stdout",
     "output_type": "stream",
     "text": [
      "fold : 4, dice score : 0.9324580242624652\n",
      "encoder :  efficientnet-b4\n",
      "unet loaded\n",
      "model load success!!!\n",
      "(312, 3, 640, 640)\n",
      "encoder :  efficientnet-b4\n",
      "unet loaded\n",
      "model load success!!!\n",
      "(316, 3, 640, 640)\n",
      "encoder :  efficientnet-b4\n",
      "unet loaded\n",
      "model load success!!!\n",
      "(175, 3, 640, 640)\n"
     ]
    },
    {
     "name": "stderr",
     "output_type": "stream",
     "text": [
      "100%|██████████| 186/186 [00:07<00:00, 26.53it/s]\n"
     ]
    },
    {
     "name": "stdout",
     "output_type": "stream",
     "text": [
      "fold : 5, dice score : 0.938381783262148\n",
      "threshold : 0.7999999999999999, min size : 700, dice : 0.924577247034669\n",
      "encoder :  efficientnet-b4\n",
      "unet loaded\n",
      "model load success!!!\n",
      "(157, 3, 640, 640)\n",
      "encoder :  efficientnet-b4\n",
      "unet loaded\n",
      "model load success!!!\n",
      "(374, 3, 640, 640)\n",
      "encoder :  efficientnet-b4\n",
      "unet loaded\n",
      "model load success!!!\n",
      "(241, 3, 640, 640)\n"
     ]
    },
    {
     "name": "stderr",
     "output_type": "stream",
     "text": [
      "100%|██████████| 187/187 [00:15<00:00, 11.86it/s]\n"
     ]
    },
    {
     "name": "stdout",
     "output_type": "stream",
     "text": [
      "fold : 1, dice score : 0.9365689368282618\n",
      "encoder :  efficientnet-b4\n",
      "unet loaded\n",
      "model load success!!!\n",
      "(256, 3, 640, 640)\n",
      "encoder :  efficientnet-b4\n",
      "unet loaded\n",
      "model load success!!!\n",
      "(140, 3, 640, 640)\n",
      "encoder :  efficientnet-b4\n",
      "unet loaded\n",
      "model load success!!!\n",
      "(589, 3, 640, 640)\n"
     ]
    },
    {
     "name": "stderr",
     "output_type": "stream",
     "text": [
      "100%|██████████| 437/437 [01:19<00:00,  5.48it/s]\n"
     ]
    },
    {
     "name": "stdout",
     "output_type": "stream",
     "text": [
      "fold : 2, dice score : 0.9261730575313963\n",
      "encoder :  efficientnet-b4\n",
      "unet loaded\n",
      "model load success!!!\n",
      "(139, 3, 640, 640)\n",
      "encoder :  efficientnet-b4\n",
      "unet loaded\n",
      "model load success!!!\n",
      "(438, 3, 640, 640)\n",
      "encoder :  efficientnet-b4\n",
      "unet loaded\n",
      "model load success!!!\n",
      "(63, 3, 640, 640)\n"
     ]
    },
    {
     "name": "stderr",
     "output_type": "stream",
     "text": [
      "100%|██████████| 98/98 [00:02<00:00, 47.94it/s]\n"
     ]
    },
    {
     "name": "stdout",
     "output_type": "stream",
     "text": [
      "fold : 3, dice score : 0.8889617000481657\n",
      "encoder :  efficientnet-b4\n",
      "unet loaded\n",
      "model load success!!!\n",
      "(358, 3, 640, 640)\n",
      "encoder :  efficientnet-b4\n",
      "unet loaded\n",
      "model load success!!!\n",
      "(95, 3, 640, 640)\n",
      "encoder :  efficientnet-b4\n",
      "unet loaded\n",
      "model load success!!!\n",
      "(305, 3, 640, 640)\n"
     ]
    },
    {
     "name": "stderr",
     "output_type": "stream",
     "text": [
      "100%|██████████| 488/488 [00:57<00:00,  8.53it/s]\n"
     ]
    },
    {
     "name": "stdout",
     "output_type": "stream",
     "text": [
      "fold : 4, dice score : 0.9319545385173494\n",
      "encoder :  efficientnet-b4\n",
      "unet loaded\n",
      "model load success!!!\n",
      "(312, 3, 640, 640)\n",
      "encoder :  efficientnet-b4\n",
      "unet loaded\n",
      "model load success!!!\n",
      "(316, 3, 640, 640)\n",
      "encoder :  efficientnet-b4\n",
      "unet loaded\n",
      "model load success!!!\n",
      "(175, 3, 640, 640)\n"
     ]
    },
    {
     "name": "stderr",
     "output_type": "stream",
     "text": [
      "100%|██████████| 186/186 [00:07<00:00, 26.35it/s]\n"
     ]
    },
    {
     "name": "stdout",
     "output_type": "stream",
     "text": [
      "fold : 5, dice score : 0.938381783262148\n",
      "threshold : 0.7999999999999999, min size : 800, dice : 0.9244080032374642\n",
      "encoder :  efficientnet-b4\n",
      "unet loaded\n",
      "model load success!!!\n",
      "(157, 3, 640, 640)\n",
      "encoder :  efficientnet-b4\n",
      "unet loaded\n",
      "model load success!!!\n",
      "(374, 3, 640, 640)\n",
      "encoder :  efficientnet-b4\n",
      "unet loaded\n",
      "model load success!!!\n",
      "(241, 3, 640, 640)\n"
     ]
    },
    {
     "name": "stderr",
     "output_type": "stream",
     "text": [
      "100%|██████████| 187/187 [00:15<00:00, 11.88it/s]\n"
     ]
    },
    {
     "name": "stdout",
     "output_type": "stream",
     "text": [
      "fold : 1, dice score : 0.9361597505504491\n",
      "encoder :  efficientnet-b4\n",
      "unet loaded\n",
      "model load success!!!\n",
      "(256, 3, 640, 640)\n",
      "encoder :  efficientnet-b4\n",
      "unet loaded\n",
      "model load success!!!\n",
      "(140, 3, 640, 640)\n",
      "encoder :  efficientnet-b4\n",
      "unet loaded\n",
      "model load success!!!\n",
      "(589, 3, 640, 640)\n"
     ]
    },
    {
     "name": "stderr",
     "output_type": "stream",
     "text": [
      "100%|██████████| 437/437 [01:22<00:00,  5.31it/s]\n"
     ]
    },
    {
     "name": "stdout",
     "output_type": "stream",
     "text": [
      "fold : 2, dice score : 0.9256832909525398\n",
      "encoder :  efficientnet-b4\n",
      "unet loaded\n",
      "model load success!!!\n",
      "(139, 3, 640, 640)\n",
      "encoder :  efficientnet-b4\n",
      "unet loaded\n",
      "model load success!!!\n",
      "(438, 3, 640, 640)\n",
      "encoder :  efficientnet-b4\n",
      "unet loaded\n",
      "model load success!!!\n",
      "(63, 3, 640, 640)\n"
     ]
    },
    {
     "name": "stderr",
     "output_type": "stream",
     "text": [
      "100%|██████████| 98/98 [00:01<00:00, 50.93it/s]\n"
     ]
    },
    {
     "name": "stdout",
     "output_type": "stream",
     "text": [
      "fold : 3, dice score : 0.8889617000481657\n",
      "encoder :  efficientnet-b4\n",
      "unet loaded\n",
      "model load success!!!\n",
      "(358, 3, 640, 640)\n",
      "encoder :  efficientnet-b4\n",
      "unet loaded\n",
      "model load success!!!\n",
      "(95, 3, 640, 640)\n",
      "encoder :  efficientnet-b4\n",
      "unet loaded\n",
      "model load success!!!\n",
      "(305, 3, 640, 640)\n"
     ]
    },
    {
     "name": "stderr",
     "output_type": "stream",
     "text": [
      "100%|██████████| 488/488 [00:56<00:00,  8.63it/s]\n"
     ]
    },
    {
     "name": "stdout",
     "output_type": "stream",
     "text": [
      "fold : 4, dice score : 0.9313910615772963\n",
      "encoder :  efficientnet-b4\n",
      "unet loaded\n",
      "model load success!!!\n",
      "(312, 3, 640, 640)\n",
      "encoder :  efficientnet-b4\n",
      "unet loaded\n",
      "model load success!!!\n",
      "(316, 3, 640, 640)\n",
      "encoder :  efficientnet-b4\n",
      "unet loaded\n",
      "model load success!!!\n",
      "(175, 3, 640, 640)\n"
     ]
    },
    {
     "name": "stderr",
     "output_type": "stream",
     "text": [
      "100%|██████████| 186/186 [00:06<00:00, 26.62it/s]\n"
     ]
    },
    {
     "name": "stdout",
     "output_type": "stream",
     "text": [
      "fold : 5, dice score : 0.938381783262148\n",
      "threshold : 0.7999999999999999, min size : 900, dice : 0.9241155172781198\n",
      "encoder :  efficientnet-b4\n",
      "unet loaded\n",
      "model load success!!!\n",
      "(157, 3, 640, 640)\n",
      "encoder :  efficientnet-b4\n",
      "unet loaded\n",
      "model load success!!!\n",
      "(374, 3, 640, 640)\n",
      "encoder :  efficientnet-b4\n",
      "unet loaded\n",
      "model load success!!!\n",
      "(241, 3, 640, 640)\n"
     ]
    },
    {
     "name": "stderr",
     "output_type": "stream",
     "text": [
      "100%|██████████| 187/187 [00:15<00:00, 12.05it/s]\n"
     ]
    },
    {
     "name": "stdout",
     "output_type": "stream",
     "text": [
      "fold : 1, dice score : 0.9361597505504491\n",
      "encoder :  efficientnet-b4\n",
      "unet loaded\n",
      "model load success!!!\n",
      "(256, 3, 640, 640)\n",
      "encoder :  efficientnet-b4\n",
      "unet loaded\n",
      "model load success!!!\n",
      "(140, 3, 640, 640)\n",
      "encoder :  efficientnet-b4\n",
      "unet loaded\n",
      "model load success!!!\n",
      "(589, 3, 640, 640)\n"
     ]
    },
    {
     "name": "stderr",
     "output_type": "stream",
     "text": [
      "100%|██████████| 437/437 [01:20<00:00,  5.40it/s]\n"
     ]
    },
    {
     "name": "stdout",
     "output_type": "stream",
     "text": [
      "fold : 2, dice score : 0.9256832909525398\n",
      "encoder :  efficientnet-b4\n",
      "unet loaded\n",
      "model load success!!!\n",
      "(139, 3, 640, 640)\n",
      "encoder :  efficientnet-b4\n",
      "unet loaded\n",
      "model load success!!!\n",
      "(438, 3, 640, 640)\n",
      "encoder :  efficientnet-b4\n",
      "unet loaded\n",
      "model load success!!!\n",
      "(63, 3, 640, 640)\n"
     ]
    },
    {
     "name": "stderr",
     "output_type": "stream",
     "text": [
      "100%|██████████| 98/98 [00:02<00:00, 47.09it/s]\n"
     ]
    },
    {
     "name": "stdout",
     "output_type": "stream",
     "text": [
      "fold : 3, dice score : 0.8867540929867719\n",
      "encoder :  efficientnet-b4\n",
      "unet loaded\n",
      "model load success!!!\n",
      "(358, 3, 640, 640)\n",
      "encoder :  efficientnet-b4\n",
      "unet loaded\n",
      "model load success!!!\n",
      "(95, 3, 640, 640)\n",
      "encoder :  efficientnet-b4\n",
      "unet loaded\n",
      "model load success!!!\n",
      "(305, 3, 640, 640)\n"
     ]
    },
    {
     "name": "stderr",
     "output_type": "stream",
     "text": [
      "100%|██████████| 488/488 [00:56<00:00,  8.66it/s]\n"
     ]
    },
    {
     "name": "stdout",
     "output_type": "stream",
     "text": [
      "fold : 4, dice score : 0.9316710128453211\n",
      "encoder :  efficientnet-b4\n",
      "unet loaded\n",
      "model load success!!!\n",
      "(312, 3, 640, 640)\n",
      "encoder :  efficientnet-b4\n",
      "unet loaded\n",
      "model load success!!!\n",
      "(316, 3, 640, 640)\n",
      "encoder :  efficientnet-b4\n",
      "unet loaded\n",
      "model load success!!!\n",
      "(175, 3, 640, 640)\n"
     ]
    },
    {
     "name": "stderr",
     "output_type": "stream",
     "text": [
      "100%|██████████| 186/186 [00:07<00:00, 25.41it/s]\n"
     ]
    },
    {
     "name": "stdout",
     "output_type": "stream",
     "text": [
      "fold : 5, dice score : 0.9388615182426979\n",
      "threshold : 0.7999999999999999, min size : 1000, dice : 0.9238259331155559\n",
      "encoder :  efficientnet-b4\n",
      "unet loaded\n",
      "model load success!!!\n",
      "(157, 3, 640, 640)\n",
      "encoder :  efficientnet-b4\n",
      "unet loaded\n",
      "model load success!!!\n",
      "(374, 3, 640, 640)\n",
      "encoder :  efficientnet-b4\n",
      "unet loaded\n",
      "model load success!!!\n",
      "(241, 3, 640, 640)\n"
     ]
    },
    {
     "name": "stderr",
     "output_type": "stream",
     "text": [
      "100%|██████████| 187/187 [00:15<00:00, 12.36it/s]\n"
     ]
    },
    {
     "name": "stdout",
     "output_type": "stream",
     "text": [
      "fold : 1, dice score : 0.9361597505504491\n",
      "encoder :  efficientnet-b4\n",
      "unet loaded\n",
      "model load success!!!\n",
      "(256, 3, 640, 640)\n",
      "encoder :  efficientnet-b4\n",
      "unet loaded\n",
      "model load success!!!\n",
      "(140, 3, 640, 640)\n",
      "encoder :  efficientnet-b4\n",
      "unet loaded\n",
      "model load success!!!\n",
      "(589, 3, 640, 640)\n"
     ]
    },
    {
     "name": "stderr",
     "output_type": "stream",
     "text": [
      "100%|██████████| 437/437 [01:22<00:00,  5.31it/s]\n"
     ]
    },
    {
     "name": "stdout",
     "output_type": "stream",
     "text": [
      "fold : 2, dice score : 0.9256832909525398\n",
      "encoder :  efficientnet-b4\n",
      "unet loaded\n",
      "model load success!!!\n",
      "(139, 3, 640, 640)\n",
      "encoder :  efficientnet-b4\n",
      "unet loaded\n",
      "model load success!!!\n",
      "(438, 3, 640, 640)\n",
      "encoder :  efficientnet-b4\n",
      "unet loaded\n",
      "model load success!!!\n",
      "(63, 3, 640, 640)\n"
     ]
    },
    {
     "name": "stderr",
     "output_type": "stream",
     "text": [
      "100%|██████████| 98/98 [00:02<00:00, 46.55it/s]\n"
     ]
    },
    {
     "name": "stdout",
     "output_type": "stream",
     "text": [
      "fold : 3, dice score : 0.8867540929867719\n",
      "encoder :  efficientnet-b4\n",
      "unet loaded\n",
      "model load success!!!\n",
      "(358, 3, 640, 640)\n",
      "encoder :  efficientnet-b4\n",
      "unet loaded\n",
      "model load success!!!\n",
      "(95, 3, 640, 640)\n",
      "encoder :  efficientnet-b4\n",
      "unet loaded\n",
      "model load success!!!\n",
      "(305, 3, 640, 640)\n"
     ]
    },
    {
     "name": "stderr",
     "output_type": "stream",
     "text": [
      "100%|██████████| 488/488 [00:56<00:00,  8.65it/s]\n"
     ]
    },
    {
     "name": "stdout",
     "output_type": "stream",
     "text": [
      "fold : 4, dice score : 0.9306491333074947\n",
      "encoder :  efficientnet-b4\n",
      "unet loaded\n",
      "model load success!!!\n",
      "(312, 3, 640, 640)\n",
      "encoder :  efficientnet-b4\n",
      "unet loaded\n",
      "model load success!!!\n",
      "(316, 3, 640, 640)\n",
      "encoder :  efficientnet-b4\n",
      "unet loaded\n",
      "model load success!!!\n",
      "(175, 3, 640, 640)\n"
     ]
    },
    {
     "name": "stderr",
     "output_type": "stream",
     "text": [
      "100%|██████████| 186/186 [00:07<00:00, 25.99it/s]\n"
     ]
    },
    {
     "name": "stdout",
     "output_type": "stream",
     "text": [
      "fold : 5, dice score : 0.9388615182426979\n",
      "threshold : 0.7999999999999999, min size : 1100, dice : 0.9236215572079907\n",
      "encoder :  efficientnet-b4\n",
      "unet loaded\n",
      "model load success!!!\n",
      "(157, 3, 640, 640)\n",
      "encoder :  efficientnet-b4\n",
      "unet loaded\n",
      "model load success!!!\n",
      "(374, 3, 640, 640)\n",
      "encoder :  efficientnet-b4\n",
      "unet loaded\n",
      "model load success!!!\n",
      "(241, 3, 640, 640)\n"
     ]
    },
    {
     "name": "stderr",
     "output_type": "stream",
     "text": [
      "100%|██████████| 187/187 [00:15<00:00, 11.87it/s]\n"
     ]
    },
    {
     "name": "stdout",
     "output_type": "stream",
     "text": [
      "fold : 1, dice score : 0.9361597505504491\n",
      "encoder :  efficientnet-b4\n",
      "unet loaded\n",
      "model load success!!!\n",
      "(256, 3, 640, 640)\n",
      "encoder :  efficientnet-b4\n",
      "unet loaded\n",
      "model load success!!!\n",
      "(140, 3, 640, 640)\n",
      "encoder :  efficientnet-b4\n",
      "unet loaded\n",
      "model load success!!!\n",
      "(589, 3, 640, 640)\n"
     ]
    },
    {
     "name": "stderr",
     "output_type": "stream",
     "text": [
      "100%|██████████| 437/437 [01:22<00:00,  5.32it/s]\n"
     ]
    },
    {
     "name": "stdout",
     "output_type": "stream",
     "text": [
      "fold : 2, dice score : 0.9256832909525398\n",
      "encoder :  efficientnet-b4\n",
      "unet loaded\n",
      "model load success!!!\n",
      "(139, 3, 640, 640)\n",
      "encoder :  efficientnet-b4\n",
      "unet loaded\n",
      "model load success!!!\n",
      "(438, 3, 640, 640)\n",
      "encoder :  efficientnet-b4\n",
      "unet loaded\n",
      "model load success!!!\n",
      "(63, 3, 640, 640)\n"
     ]
    },
    {
     "name": "stderr",
     "output_type": "stream",
     "text": [
      "100%|██████████| 98/98 [00:01<00:00, 49.42it/s]\n"
     ]
    },
    {
     "name": "stdout",
     "output_type": "stream",
     "text": [
      "fold : 3, dice score : 0.8869681017607188\n",
      "encoder :  efficientnet-b4\n",
      "unet loaded\n",
      "model load success!!!\n",
      "(358, 3, 640, 640)\n",
      "encoder :  efficientnet-b4\n",
      "unet loaded\n",
      "model load success!!!\n",
      "(95, 3, 640, 640)\n",
      "encoder :  efficientnet-b4\n",
      "unet loaded\n",
      "model load success!!!\n",
      "(305, 3, 640, 640)\n"
     ]
    },
    {
     "name": "stderr",
     "output_type": "stream",
     "text": [
      "100%|██████████| 488/488 [00:56<00:00,  8.60it/s]\n"
     ]
    },
    {
     "name": "stdout",
     "output_type": "stream",
     "text": [
      "fold : 4, dice score : 0.9290521901493335\n",
      "encoder :  efficientnet-b4\n",
      "unet loaded\n",
      "model load success!!!\n",
      "(312, 3, 640, 640)\n",
      "encoder :  efficientnet-b4\n",
      "unet loaded\n",
      "model load success!!!\n",
      "(316, 3, 640, 640)\n",
      "encoder :  efficientnet-b4\n",
      "unet loaded\n",
      "model load success!!!\n",
      "(175, 3, 640, 640)\n"
     ]
    },
    {
     "name": "stderr",
     "output_type": "stream",
     "text": [
      "100%|██████████| 186/186 [00:07<00:00, 25.74it/s]\n"
     ]
    },
    {
     "name": "stdout",
     "output_type": "stream",
     "text": [
      "fold : 5, dice score : 0.9382026630524273\n",
      "threshold : 0.7999999999999999, min size : 1200, dice : 0.9232131992930939\n",
      "encoder :  efficientnet-b4\n",
      "unet loaded\n",
      "model load success!!!\n",
      "(157, 3, 640, 640)\n",
      "encoder :  efficientnet-b4\n",
      "unet loaded\n",
      "model load success!!!\n",
      "(374, 3, 640, 640)\n",
      "encoder :  efficientnet-b4\n",
      "unet loaded\n",
      "model load success!!!\n",
      "(241, 3, 640, 640)\n"
     ]
    },
    {
     "name": "stderr",
     "output_type": "stream",
     "text": [
      "100%|██████████| 187/187 [00:15<00:00, 11.99it/s]\n"
     ]
    },
    {
     "name": "stdout",
     "output_type": "stream",
     "text": [
      "fold : 1, dice score : 0.9366853376446816\n",
      "encoder :  efficientnet-b4\n",
      "unet loaded\n",
      "model load success!!!\n",
      "(256, 3, 640, 640)\n",
      "encoder :  efficientnet-b4\n",
      "unet loaded\n",
      "model load success!!!\n",
      "(140, 3, 640, 640)\n",
      "encoder :  efficientnet-b4\n",
      "unet loaded\n",
      "model load success!!!\n",
      "(589, 3, 640, 640)\n"
     ]
    },
    {
     "name": "stderr",
     "output_type": "stream",
     "text": [
      "100%|██████████| 437/437 [01:21<00:00,  5.37it/s]\n"
     ]
    },
    {
     "name": "stdout",
     "output_type": "stream",
     "text": [
      "fold : 2, dice score : 0.9261232487843924\n",
      "encoder :  efficientnet-b4\n",
      "unet loaded\n",
      "model load success!!!\n",
      "(139, 3, 640, 640)\n",
      "encoder :  efficientnet-b4\n",
      "unet loaded\n",
      "model load success!!!\n",
      "(438, 3, 640, 640)\n",
      "encoder :  efficientnet-b4\n",
      "unet loaded\n",
      "model load success!!!\n",
      "(63, 3, 640, 640)\n"
     ]
    },
    {
     "name": "stderr",
     "output_type": "stream",
     "text": [
      "100%|██████████| 98/98 [00:02<00:00, 47.22it/s]\n"
     ]
    },
    {
     "name": "stdout",
     "output_type": "stream",
     "text": [
      "fold : 3, dice score : 0.8869681017607188\n",
      "encoder :  efficientnet-b4\n",
      "unet loaded\n",
      "model load success!!!\n",
      "(358, 3, 640, 640)\n",
      "encoder :  efficientnet-b4\n",
      "unet loaded\n",
      "model load success!!!\n",
      "(95, 3, 640, 640)\n",
      "encoder :  efficientnet-b4\n",
      "unet loaded\n",
      "model load success!!!\n",
      "(305, 3, 640, 640)\n"
     ]
    },
    {
     "name": "stderr",
     "output_type": "stream",
     "text": [
      "100%|██████████| 488/488 [00:58<00:00,  8.38it/s]\n"
     ]
    },
    {
     "name": "stdout",
     "output_type": "stream",
     "text": [
      "fold : 4, dice score : 0.9269796600429356\n",
      "encoder :  efficientnet-b4\n",
      "unet loaded\n",
      "model load success!!!\n",
      "(312, 3, 640, 640)\n",
      "encoder :  efficientnet-b4\n",
      "unet loaded\n",
      "model load success!!!\n",
      "(316, 3, 640, 640)\n",
      "encoder :  efficientnet-b4\n",
      "unet loaded\n",
      "model load success!!!\n",
      "(175, 3, 640, 640)\n"
     ]
    },
    {
     "name": "stderr",
     "output_type": "stream",
     "text": [
      "100%|██████████| 186/186 [00:07<00:00, 25.25it/s]\n"
     ]
    },
    {
     "name": "stdout",
     "output_type": "stream",
     "text": [
      "fold : 5, dice score : 0.9382026630524273\n",
      "threshold : 0.7999999999999999, min size : 1300, dice : 0.9229918022570311\n",
      "encoder :  efficientnet-b4\n",
      "unet loaded\n",
      "model load success!!!\n",
      "(157, 3, 640, 640)\n",
      "encoder :  efficientnet-b4\n",
      "unet loaded\n",
      "model load success!!!\n",
      "(374, 3, 640, 640)\n",
      "encoder :  efficientnet-b4\n",
      "unet loaded\n",
      "model load success!!!\n",
      "(241, 3, 640, 640)\n"
     ]
    },
    {
     "name": "stderr",
     "output_type": "stream",
     "text": [
      "100%|██████████| 187/187 [00:15<00:00, 12.06it/s]\n"
     ]
    },
    {
     "name": "stdout",
     "output_type": "stream",
     "text": [
      "fold : 1, dice score : 0.9366853376446816\n",
      "encoder :  efficientnet-b4\n",
      "unet loaded\n",
      "model load success!!!\n",
      "(256, 3, 640, 640)\n",
      "encoder :  efficientnet-b4\n",
      "unet loaded\n",
      "model load success!!!\n",
      "(140, 3, 640, 640)\n",
      "encoder :  efficientnet-b4\n",
      "unet loaded\n",
      "model load success!!!\n",
      "(589, 3, 640, 640)\n"
     ]
    },
    {
     "name": "stderr",
     "output_type": "stream",
     "text": [
      "100%|██████████| 437/437 [01:20<00:00,  5.46it/s]\n"
     ]
    },
    {
     "name": "stdout",
     "output_type": "stream",
     "text": [
      "fold : 2, dice score : 0.9261232487843924\n",
      "encoder :  efficientnet-b4\n",
      "unet loaded\n",
      "model load success!!!\n",
      "(139, 3, 640, 640)\n",
      "encoder :  efficientnet-b4\n",
      "unet loaded\n",
      "model load success!!!\n",
      "(438, 3, 640, 640)\n",
      "encoder :  efficientnet-b4\n",
      "unet loaded\n",
      "model load success!!!\n",
      "(63, 3, 640, 640)\n"
     ]
    },
    {
     "name": "stderr",
     "output_type": "stream",
     "text": [
      "100%|██████████| 98/98 [00:01<00:00, 49.47it/s]\n"
     ]
    },
    {
     "name": "stdout",
     "output_type": "stream",
     "text": [
      "fold : 3, dice score : 0.8779789544570404\n",
      "encoder :  efficientnet-b4\n",
      "unet loaded\n",
      "model load success!!!\n",
      "(358, 3, 640, 640)\n",
      "encoder :  efficientnet-b4\n",
      "unet loaded\n",
      "model load success!!!\n",
      "(95, 3, 640, 640)\n",
      "encoder :  efficientnet-b4\n",
      "unet loaded\n",
      "model load success!!!\n",
      "(305, 3, 640, 640)\n"
     ]
    },
    {
     "name": "stderr",
     "output_type": "stream",
     "text": [
      "100%|██████████| 488/488 [00:57<00:00,  8.49it/s]\n"
     ]
    },
    {
     "name": "stdout",
     "output_type": "stream",
     "text": [
      "fold : 4, dice score : 0.92453091741397\n",
      "encoder :  efficientnet-b4\n",
      "unet loaded\n",
      "model load success!!!\n",
      "(312, 3, 640, 640)\n",
      "encoder :  efficientnet-b4\n",
      "unet loaded\n",
      "model load success!!!\n",
      "(316, 3, 640, 640)\n",
      "encoder :  efficientnet-b4\n",
      "unet loaded\n",
      "model load success!!!\n",
      "(175, 3, 640, 640)\n"
     ]
    },
    {
     "name": "stderr",
     "output_type": "stream",
     "text": [
      "100%|██████████| 186/186 [00:06<00:00, 27.30it/s]\n"
     ]
    },
    {
     "name": "stdout",
     "output_type": "stream",
     "text": [
      "fold : 5, dice score : 0.9382026630524273\n",
      "threshold : 0.7999999999999999, min size : 1400, dice : 0.9207042242705024\n"
     ]
    }
   ],
   "source": [
    "# grid search\n",
    "for threshold in np.arange(0.5, 0.8, 0.1):  # threshold 반복\n",
    "    for min_size in np.arange(100, 1500, 100):  # min size 반복\n",
    "        dices = []\n",
    "        for fold in range(1,6):  # 5 fold\n",
    "            train_names = sorted([\"1e2425f28\", \"2f6ecfcdf\", \"4ef6695ce\", \"26dc41664\", \"54f2eec69\",\n",
    "                      \"095bf7a1f\", \"0486052bb\", \"8242609fa\", \"aaa6a05cc\", \"afa5e8098\",\n",
    "                      \"b2dc8411c\", \"b9a3865fc\", \"c68fe75ea\", \"cb2d976f4\", \"e79de561c\"])\n",
    "            val_names = []\n",
    "            for _ in range(3):  # 3 validation\n",
    "                val_names.append(train_names.pop((fold-1)*3))\n",
    "            img_paths = [os.path.join(\"/home/jeonghokim/competition/HubMap/data/train/{}.tiff\".format(name)) for name in val_names]\n",
    "            json_paths = [os.path.join(\"/home/jeonghokim/competition/HubMap/data/train/{}-anatomical-structure.json\".format(name)) for name in val_names]\n",
    "            mask_paths = [os.path.join(\"/home/jeonghokim/competition/HubMap/data/train/{}.mask.png\".format(name)) for name in val_names]\n",
    "            for img_path, json_path, mask_path in zip(img_paths, json_paths, mask_paths):  # 각 모델의 validation에 해당하는 파일별로 실행\n",
    "                fold_prob = []\n",
    "                gt_mask = read_mask(mask_path)\n",
    "                \n",
    "                path = args.en_model_path[fold-1]\n",
    "                net = SegModel()\n",
    "                net.to(device)\n",
    "                state_dict = torch.load(path, map_location=lambda storage, loc: storage)['state_dict']\n",
    "                net.load_state_dict(state_dict,strict=True)  #True\n",
    "                net = net.eval()\n",
    "                print(\"model load success!!!\")\n",
    "\n",
    "                img = read_tiff(img_path)\n",
    "                height, width = img.shape[:2]\n",
    "                structure = draw_strcuture(read_json_as_df(json_path), height, width, structure=[\"Cortex\"])\n",
    "                mask = None\n",
    "\n",
    "                tile = to_tile(img, mask, structure, args.tile_scale, args.tile_size, args.tile_average_step, tile_min_score)\n",
    "                tile_image = tile[\"tile_image\"]\n",
    "                tile_image = np.stack(tile_image)[..., ::-1]\n",
    "                tile_image = np.ascontiguousarray(tile_image.transpose(0,3,1,2))\n",
    "                tile_image = tile_image.astype(np.float32)/255\n",
    "                print(tile_image.shape)\n",
    "                tile_probability = []\n",
    "\n",
    "                batch = np.array_split(tile_image, len(tile_image)//4)\n",
    "                for t,m in enumerate(batch):\n",
    "                    m = torch.from_numpy(m).cuda()\n",
    "\n",
    "                    p = []\n",
    "                    with torch.no_grad():\n",
    "                        logit = net(m)\n",
    "                        p.append(torch.sigmoid(logit))\n",
    "\n",
    "                        if 1: #tta here\n",
    "                            logit = net(m.flip(dims=(2,)))\n",
    "                            p.append(torch.sigmoid(logit.flip(dims=(2,))))\n",
    "\n",
    "                            logit = net(m.flip(dims=(3,)))\n",
    "                            p.append(torch.sigmoid(logit.flip(dims=(3,))))\n",
    "                        p = torch.stack(p).mean(0)\n",
    "\n",
    "\n",
    "                    tile_probability.append(p.data.cpu().numpy())\n",
    "\n",
    "                tile_probability = np.concatenate(tile_probability).squeeze(1)\n",
    "                height_small, width_small = tile['image_small'].shape[:2]\n",
    "                probability = to_mask(tile_probability, tile['coord'], height_small, width_small,\n",
    "                                      args.tile_scale, args.tile_size, args.tile_average_step, args.tile_min_score,\n",
    "                                      aggregate='mean')\n",
    "\n",
    "\n",
    "                fold_prob.append(probability)\n",
    "\n",
    "            probability = sum(fold_prob)\n",
    "            image_small = tile['image_small'].astype(np.float32)/255\n",
    "            predict = remove_small(probability, threshold, min_size)\n",
    "            predict = cv2.resize(predict, dsize=(width, height), interpolation=cv2.INTER_LINEAR)\n",
    "            dice_score = np_dice_score(predict, gt_mask)\n",
    "            dices.append(dice_score)\n",
    "            print(f\"fold : {fold}, dice score : {dice_score}\")\n",
    "        print(f\"threshold : {threshold}, min size : {min_size}, dice : {np.array(dices).mean()}\")\n"
   ]
  },
  {
   "cell_type": "markdown",
   "id": "capable-outreach",
   "metadata": {},
   "source": [
    "## cv 값 찾기"
   ]
  },
  {
   "cell_type": "code",
   "execution_count": 16,
   "id": "exciting-cassette",
   "metadata": {
    "code_folding": []
   },
   "outputs": [
    {
     "name": "stdout",
     "output_type": "stream",
     "text": [
      "encoder :  efficientnet-b4\n",
      "unet loaded\n",
      "model load success!!!\n",
      "(157, 3, 640, 640)\n",
      "encoder :  efficientnet-b4\n",
      "unet loaded\n",
      "model load success!!!\n",
      "(374, 3, 640, 640)\n",
      "encoder :  efficientnet-b4\n",
      "unet loaded\n",
      "model load success!!!\n",
      "(241, 3, 640, 640)\n"
     ]
    },
    {
     "name": "stderr",
     "output_type": "stream",
     "text": [
      "100%|██████████| 187/187 [00:13<00:00, 13.59it/s]\n"
     ]
    },
    {
     "name": "stdout",
     "output_type": "stream",
     "text": [
      "fold : 1, dice score : 0.940852299478414\n",
      "encoder :  efficientnet-b4\n",
      "unet loaded\n",
      "model load success!!!\n",
      "(256, 3, 640, 640)\n",
      "encoder :  efficientnet-b4\n",
      "unet loaded\n",
      "model load success!!!\n",
      "(140, 3, 640, 640)\n",
      "encoder :  efficientnet-b4\n",
      "unet loaded\n",
      "model load success!!!\n",
      "(589, 3, 640, 640)\n"
     ]
    },
    {
     "name": "stderr",
     "output_type": "stream",
     "text": [
      "100%|██████████| 447/447 [01:39<00:00,  4.47it/s]\n"
     ]
    },
    {
     "name": "stdout",
     "output_type": "stream",
     "text": [
      "fold : 2, dice score : 0.9452793293278084\n",
      "encoder :  efficientnet-b4\n",
      "unet loaded\n",
      "model load success!!!\n",
      "(139, 3, 640, 640)\n",
      "encoder :  efficientnet-b4\n",
      "unet loaded\n",
      "model load success!!!\n",
      "(438, 3, 640, 640)\n",
      "encoder :  efficientnet-b4\n",
      "unet loaded\n",
      "model load success!!!\n",
      "(63, 3, 640, 640)\n"
     ]
    },
    {
     "name": "stderr",
     "output_type": "stream",
     "text": [
      "100%|██████████| 105/105 [00:02<00:00, 51.96it/s]\n"
     ]
    },
    {
     "name": "stdout",
     "output_type": "stream",
     "text": [
      "fold : 3, dice score : 0.926913918364623\n",
      "encoder :  efficientnet-b4\n",
      "unet loaded\n",
      "model load success!!!\n",
      "(358, 3, 640, 640)\n",
      "encoder :  efficientnet-b4\n",
      "unet loaded\n",
      "model load success!!!\n",
      "(95, 3, 640, 640)\n",
      "encoder :  efficientnet-b4\n",
      "unet loaded\n",
      "model load success!!!\n",
      "(305, 3, 640, 640)\n"
     ]
    },
    {
     "name": "stderr",
     "output_type": "stream",
     "text": [
      "100%|██████████| 482/482 [00:53<00:00,  8.93it/s]\n"
     ]
    },
    {
     "name": "stdout",
     "output_type": "stream",
     "text": [
      "fold : 4, dice score : 0.9426885306683271\n",
      "encoder :  efficientnet-b4\n",
      "unet loaded\n",
      "model load success!!!\n",
      "(312, 3, 640, 640)\n",
      "encoder :  efficientnet-b4\n",
      "unet loaded\n",
      "model load success!!!\n",
      "(316, 3, 640, 640)\n",
      "encoder :  efficientnet-b4\n",
      "unet loaded\n",
      "model load success!!!\n",
      "(175, 3, 640, 640)\n"
     ]
    },
    {
     "name": "stderr",
     "output_type": "stream",
     "text": [
      "100%|██████████| 182/182 [00:06<00:00, 26.75it/s]\n"
     ]
    },
    {
     "name": "stdout",
     "output_type": "stream",
     "text": [
      "fold : 5, dice score : 0.9478148743977175\n",
      "threshold : 0.5, min size : 0, dice : 0.940709790447378\n"
     ]
    }
   ],
   "source": [
    "# check result\n",
    "threshold = 0.5\n",
    "min_size = 0\n",
    "dices = []\n",
    "for fold in range(1,6):  # 5 fold\n",
    "    train_names = sorted([\"1e2425f28\", \"2f6ecfcdf\", \"4ef6695ce\", \"26dc41664\", \"54f2eec69\",\n",
    "              \"095bf7a1f\", \"0486052bb\", \"8242609fa\", \"aaa6a05cc\", \"afa5e8098\",\n",
    "              \"b2dc8411c\", \"b9a3865fc\", \"c68fe75ea\", \"cb2d976f4\", \"e79de561c\"])\n",
    "    val_names = []\n",
    "    for _ in range(3):  # 3 validation\n",
    "        val_names.append(train_names.pop((fold-1)*3))\n",
    "    img_paths = [os.path.join(\"/home/jeonghokim/competition/HubMap/data/train/{}.tiff\".format(name)) for name in val_names]\n",
    "    json_paths = [os.path.join(\"/home/jeonghokim/competition/HubMap/data/train/{}-anatomical-structure.json\".format(name)) for name in val_names]\n",
    "    mask_paths = [os.path.join(\"/home/jeonghokim/competition/HubMap/data/train/{}.mask.png\".format(name)) for name in val_names]\n",
    "    for img_path, json_path, mask_path in zip(img_paths, json_paths, mask_paths):  # 각 모델의 validation에 해당하는 파일별로 실행\n",
    "        fold_prob = []\n",
    "        gt_mask = read_mask(mask_path)\n",
    "\n",
    "        path = args.en_model_path[fold-1]\n",
    "        net = SegModel()\n",
    "        net.to(device)\n",
    "        state_dict = torch.load(path, map_location=lambda storage, loc: storage)['state_dict']\n",
    "        net.load_state_dict(state_dict,strict=True)  #True\n",
    "        net = net.eval()\n",
    "        print(\"model load success!!!\")\n",
    "\n",
    "        img = read_tiff(img_path)\n",
    "        height, width = img.shape[:2]\n",
    "        structure = draw_strcuture(read_json_as_df(json_path), height, width, structure=[\"Cortex\"])\n",
    "        mask = None\n",
    "\n",
    "        tile = to_tile(img, mask, structure, args.tile_scale, args.tile_size, args.tile_average_step, tile_min_score)\n",
    "        tile_image = tile[\"tile_image\"]\n",
    "        tile_image = np.stack(tile_image)[..., ::-1]\n",
    "        tile_image = np.ascontiguousarray(tile_image.transpose(0,3,1,2))\n",
    "        tile_image = tile_image.astype(np.float32)/255\n",
    "        print(tile_image.shape)\n",
    "        tile_probability = []\n",
    "\n",
    "        batch = np.array_split(tile_image, len(tile_image)//4)\n",
    "        for t,m in enumerate(batch):\n",
    "            m = torch.from_numpy(m).cuda()\n",
    "\n",
    "            p = []\n",
    "            with torch.no_grad():\n",
    "                logit = net(m)\n",
    "                p.append(torch.sigmoid(logit))\n",
    "\n",
    "                if 1: #tta here\n",
    "                    logit = net(m.flip(dims=(2,)))\n",
    "                    p.append(torch.sigmoid(logit.flip(dims=(2,))))\n",
    "\n",
    "                    logit = net(m.flip(dims=(3,)))\n",
    "                    p.append(torch.sigmoid(logit.flip(dims=(3,))))\n",
    "                p = torch.stack(p).mean(0)\n",
    "\n",
    "\n",
    "            tile_probability.append(p.data.cpu().numpy())\n",
    "\n",
    "        tile_probability = np.concatenate(tile_probability).squeeze(1)\n",
    "        height_small, width_small = tile['image_small'].shape[:2]\n",
    "        probability = to_mask(tile_probability, tile['coord'], height_small, width_small,\n",
    "                              args.tile_scale, args.tile_size, args.tile_average_step, args.tile_min_score,\n",
    "                              aggregate='mean')\n",
    "\n",
    "\n",
    "        fold_prob.append(probability)\n",
    "\n",
    "    probability = sum(fold_prob)\n",
    "    image_small = tile['image_small'].astype(np.float32)/255\n",
    "    predict = remove_small(probability, threshold, min_size)\n",
    "    predict = cv2.resize(predict, dsize=(width, height), interpolation=cv2.INTER_LINEAR)\n",
    "    dice_score = np_dice_score(predict, gt_mask)\n",
    "    dices.append(dice_score)\n",
    "    print(f\"fold : {fold}, dice score : {dice_score}\")\n",
    "print(f\"threshold : {threshold}, min size : {min_size}, dice : {np.array(dices).mean()}\")\n"
   ]
  },
  {
   "cell_type": "code",
   "execution_count": null,
   "id": "advised-frederick",
   "metadata": {},
   "outputs": [],
   "source": []
  },
  {
   "cell_type": "code",
   "execution_count": null,
   "id": "continued-complement",
   "metadata": {},
   "outputs": [],
   "source": []
  },
  {
   "cell_type": "code",
   "execution_count": null,
   "id": "basic-viking",
   "metadata": {},
   "outputs": [],
   "source": []
  },
  {
   "cell_type": "code",
   "execution_count": null,
   "id": "empty-diesel",
   "metadata": {},
   "outputs": [],
   "source": []
  },
  {
   "cell_type": "code",
   "execution_count": null,
   "id": "referenced-purse",
   "metadata": {},
   "outputs": [],
   "source": []
  },
  {
   "cell_type": "code",
   "execution_count": null,
   "id": "polyphonic-steel",
   "metadata": {},
   "outputs": [],
   "source": []
  },
  {
   "cell_type": "code",
   "execution_count": null,
   "id": "subject-portal",
   "metadata": {},
   "outputs": [],
   "source": []
  },
  {
   "cell_type": "code",
   "execution_count": null,
   "id": "intelligent-bunch",
   "metadata": {},
   "outputs": [],
   "source": []
  },
  {
   "cell_type": "code",
   "execution_count": null,
   "id": "western-tragedy",
   "metadata": {},
   "outputs": [],
   "source": []
  },
  {
   "cell_type": "code",
   "execution_count": null,
   "id": "robust-gravity",
   "metadata": {},
   "outputs": [],
   "source": []
  },
  {
   "cell_type": "code",
   "execution_count": null,
   "id": "acquired-engineer",
   "metadata": {},
   "outputs": [],
   "source": []
  },
  {
   "cell_type": "code",
   "execution_count": null,
   "id": "vertical-probe",
   "metadata": {},
   "outputs": [],
   "source": []
  }
 ],
 "metadata": {
  "kernelspec": {
   "display_name": "hubmap",
   "language": "python",
   "name": "hubmap"
  },
  "language_info": {
   "codemirror_mode": {
    "name": "ipython",
    "version": 3
   },
   "file_extension": ".py",
   "mimetype": "text/x-python",
   "name": "python",
   "nbconvert_exporter": "python",
   "pygments_lexer": "ipython3",
   "version": "3.8.3"
  }
 },
 "nbformat": 4,
 "nbformat_minor": 5
}
